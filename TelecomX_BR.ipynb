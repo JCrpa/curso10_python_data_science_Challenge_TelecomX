{
  "cells": [
    {
      "cell_type": "markdown",
      "metadata": {
        "id": "4foVEKhrlqcH"
      },
      "source": [
        "#📌 Extracão"
      ]
    },
    {
      "cell_type": "markdown",
      "metadata": {},
      "source": [
        "Nesta etapa:\n",
        "\n",
        "- Importar biblioteca.\n",
        "- Definir fonte de dados.\n",
        "- Fazer a leitura da fonte de dados remota.\n",
        "- Visualizar dataframe"
      ]
    },
    {
      "cell_type": "code",
      "execution_count": 33,
      "metadata": {},
      "outputs": [],
      "source": [
        "import pandas as pd"
      ]
    },
    {
      "cell_type": "code",
      "execution_count": 34,
      "metadata": {
        "id": "1--uPM88l7JH"
      },
      "outputs": [],
      "source": [
        "url = 'https://raw.githubusercontent.com/alura-cursos/challenge2-data-science/refs/heads/main/TelecomX_Data.json'"
      ]
    },
    {
      "cell_type": "code",
      "execution_count": 35,
      "metadata": {},
      "outputs": [],
      "source": [
        "df = pd.read_json(url)"
      ]
    },
    {
      "cell_type": "code",
      "execution_count": 36,
      "metadata": {},
      "outputs": [
        {
          "data": {
            "application/vnd.microsoft.datawrangler.viewer.v0+json": {
              "columns": [
                {
                  "name": "index",
                  "rawType": "int64",
                  "type": "integer"
                },
                {
                  "name": "customerID",
                  "rawType": "object",
                  "type": "string"
                },
                {
                  "name": "Churn",
                  "rawType": "object",
                  "type": "string"
                },
                {
                  "name": "customer",
                  "rawType": "object",
                  "type": "unknown"
                },
                {
                  "name": "phone",
                  "rawType": "object",
                  "type": "unknown"
                },
                {
                  "name": "internet",
                  "rawType": "object",
                  "type": "unknown"
                },
                {
                  "name": "account",
                  "rawType": "object",
                  "type": "unknown"
                }
              ],
              "ref": "fa316b03-68ed-4296-910f-cfcb754d5fc4",
              "rows": [
                [
                  "0",
                  "0002-ORFBO",
                  "No",
                  "{'gender': 'Female', 'SeniorCitizen': 0, 'Partner': 'Yes', 'Dependents': 'Yes', 'tenure': 9}",
                  "{'PhoneService': 'Yes', 'MultipleLines': 'No'}",
                  "{'InternetService': 'DSL', 'OnlineSecurity': 'No', 'OnlineBackup': 'Yes', 'DeviceProtection': 'No', 'TechSupport': 'Yes', 'StreamingTV': 'Yes', 'StreamingMovies': 'No'}",
                  "{'Contract': 'One year', 'PaperlessBilling': 'Yes', 'PaymentMethod': 'Mailed check', 'Charges': {'Monthly': 65.6, 'Total': '593.3'}}"
                ],
                [
                  "1",
                  "0003-MKNFE",
                  "No",
                  "{'gender': 'Male', 'SeniorCitizen': 0, 'Partner': 'No', 'Dependents': 'No', 'tenure': 9}",
                  "{'PhoneService': 'Yes', 'MultipleLines': 'Yes'}",
                  "{'InternetService': 'DSL', 'OnlineSecurity': 'No', 'OnlineBackup': 'No', 'DeviceProtection': 'No', 'TechSupport': 'No', 'StreamingTV': 'No', 'StreamingMovies': 'Yes'}",
                  "{'Contract': 'Month-to-month', 'PaperlessBilling': 'No', 'PaymentMethod': 'Mailed check', 'Charges': {'Monthly': 59.9, 'Total': '542.4'}}"
                ],
                [
                  "2",
                  "0004-TLHLJ",
                  "Yes",
                  "{'gender': 'Male', 'SeniorCitizen': 0, 'Partner': 'No', 'Dependents': 'No', 'tenure': 4}",
                  "{'PhoneService': 'Yes', 'MultipleLines': 'No'}",
                  "{'InternetService': 'Fiber optic', 'OnlineSecurity': 'No', 'OnlineBackup': 'No', 'DeviceProtection': 'Yes', 'TechSupport': 'No', 'StreamingTV': 'No', 'StreamingMovies': 'No'}",
                  "{'Contract': 'Month-to-month', 'PaperlessBilling': 'Yes', 'PaymentMethod': 'Electronic check', 'Charges': {'Monthly': 73.9, 'Total': '280.85'}}"
                ],
                [
                  "3",
                  "0011-IGKFF",
                  "Yes",
                  "{'gender': 'Male', 'SeniorCitizen': 1, 'Partner': 'Yes', 'Dependents': 'No', 'tenure': 13}",
                  "{'PhoneService': 'Yes', 'MultipleLines': 'No'}",
                  "{'InternetService': 'Fiber optic', 'OnlineSecurity': 'No', 'OnlineBackup': 'Yes', 'DeviceProtection': 'Yes', 'TechSupport': 'No', 'StreamingTV': 'Yes', 'StreamingMovies': 'Yes'}",
                  "{'Contract': 'Month-to-month', 'PaperlessBilling': 'Yes', 'PaymentMethod': 'Electronic check', 'Charges': {'Monthly': 98.0, 'Total': '1237.85'}}"
                ],
                [
                  "4",
                  "0013-EXCHZ",
                  "Yes",
                  "{'gender': 'Female', 'SeniorCitizen': 1, 'Partner': 'Yes', 'Dependents': 'No', 'tenure': 3}",
                  "{'PhoneService': 'Yes', 'MultipleLines': 'No'}",
                  "{'InternetService': 'Fiber optic', 'OnlineSecurity': 'No', 'OnlineBackup': 'No', 'DeviceProtection': 'No', 'TechSupport': 'Yes', 'StreamingTV': 'Yes', 'StreamingMovies': 'No'}",
                  "{'Contract': 'Month-to-month', 'PaperlessBilling': 'Yes', 'PaymentMethod': 'Mailed check', 'Charges': {'Monthly': 83.9, 'Total': '267.4'}}"
                ],
                [
                  "5",
                  "0013-MHZWF",
                  "No",
                  "{'gender': 'Female', 'SeniorCitizen': 0, 'Partner': 'No', 'Dependents': 'Yes', 'tenure': 9}",
                  "{'PhoneService': 'Yes', 'MultipleLines': 'No'}",
                  "{'InternetService': 'DSL', 'OnlineSecurity': 'No', 'OnlineBackup': 'No', 'DeviceProtection': 'No', 'TechSupport': 'Yes', 'StreamingTV': 'Yes', 'StreamingMovies': 'Yes'}",
                  "{'Contract': 'Month-to-month', 'PaperlessBilling': 'Yes', 'PaymentMethod': 'Credit card (automatic)', 'Charges': {'Monthly': 69.4, 'Total': '571.45'}}"
                ],
                [
                  "6",
                  "0013-SMEOE",
                  "No",
                  "{'gender': 'Female', 'SeniorCitizen': 1, 'Partner': 'Yes', 'Dependents': 'No', 'tenure': 71}",
                  "{'PhoneService': 'Yes', 'MultipleLines': 'No'}",
                  "{'InternetService': 'Fiber optic', 'OnlineSecurity': 'Yes', 'OnlineBackup': 'Yes', 'DeviceProtection': 'Yes', 'TechSupport': 'Yes', 'StreamingTV': 'Yes', 'StreamingMovies': 'Yes'}",
                  "{'Contract': 'Two year', 'PaperlessBilling': 'Yes', 'PaymentMethod': 'Bank transfer (automatic)', 'Charges': {'Monthly': 109.7, 'Total': '7904.25'}}"
                ],
                [
                  "7",
                  "0014-BMAQU",
                  "No",
                  "{'gender': 'Male', 'SeniorCitizen': 0, 'Partner': 'Yes', 'Dependents': 'No', 'tenure': 63}",
                  "{'PhoneService': 'Yes', 'MultipleLines': 'Yes'}",
                  "{'InternetService': 'Fiber optic', 'OnlineSecurity': 'Yes', 'OnlineBackup': 'No', 'DeviceProtection': 'No', 'TechSupport': 'Yes', 'StreamingTV': 'No', 'StreamingMovies': 'No'}",
                  "{'Contract': 'Two year', 'PaperlessBilling': 'Yes', 'PaymentMethod': 'Credit card (automatic)', 'Charges': {'Monthly': 84.65, 'Total': '5377.8'}}"
                ],
                [
                  "8",
                  "0015-UOCOJ",
                  "No",
                  "{'gender': 'Female', 'SeniorCitizen': 1, 'Partner': 'No', 'Dependents': 'No', 'tenure': 7}",
                  "{'PhoneService': 'Yes', 'MultipleLines': 'No'}",
                  "{'InternetService': 'DSL', 'OnlineSecurity': 'Yes', 'OnlineBackup': 'No', 'DeviceProtection': 'No', 'TechSupport': 'No', 'StreamingTV': 'No', 'StreamingMovies': 'No'}",
                  "{'Contract': 'Month-to-month', 'PaperlessBilling': 'Yes', 'PaymentMethod': 'Electronic check', 'Charges': {'Monthly': 48.2, 'Total': '340.35'}}"
                ],
                [
                  "9",
                  "0016-QLJIS",
                  "No",
                  "{'gender': 'Female', 'SeniorCitizen': 0, 'Partner': 'Yes', 'Dependents': 'Yes', 'tenure': 65}",
                  "{'PhoneService': 'Yes', 'MultipleLines': 'Yes'}",
                  "{'InternetService': 'DSL', 'OnlineSecurity': 'Yes', 'OnlineBackup': 'Yes', 'DeviceProtection': 'Yes', 'TechSupport': 'Yes', 'StreamingTV': 'Yes', 'StreamingMovies': 'Yes'}",
                  "{'Contract': 'Two year', 'PaperlessBilling': 'Yes', 'PaymentMethod': 'Mailed check', 'Charges': {'Monthly': 90.45, 'Total': '5957.9'}}"
                ],
                [
                  "10",
                  "0017-DINOC",
                  "No",
                  "{'gender': 'Male', 'SeniorCitizen': 0, 'Partner': 'No', 'Dependents': 'No', 'tenure': 54}",
                  "{'PhoneService': 'No', 'MultipleLines': 'No phone service'}",
                  "{'InternetService': 'DSL', 'OnlineSecurity': 'Yes', 'OnlineBackup': 'No', 'DeviceProtection': 'No', 'TechSupport': 'Yes', 'StreamingTV': 'Yes', 'StreamingMovies': 'No'}",
                  "{'Contract': 'Two year', 'PaperlessBilling': 'No', 'PaymentMethod': 'Credit card (automatic)', 'Charges': {'Monthly': 45.2, 'Total': '2460.55'}}"
                ],
                [
                  "11",
                  "0017-IUDMW",
                  "No",
                  "{'gender': 'Female', 'SeniorCitizen': 0, 'Partner': 'Yes', 'Dependents': 'Yes', 'tenure': 72}",
                  "{'PhoneService': 'Yes', 'MultipleLines': 'Yes'}",
                  "{'InternetService': 'Fiber optic', 'OnlineSecurity': 'Yes', 'OnlineBackup': 'Yes', 'DeviceProtection': 'Yes', 'TechSupport': 'Yes', 'StreamingTV': 'Yes', 'StreamingMovies': 'Yes'}",
                  "{'Contract': 'Two year', 'PaperlessBilling': 'Yes', 'PaymentMethod': 'Credit card (automatic)', 'Charges': {'Monthly': 116.8, 'Total': '8456.75'}}"
                ],
                [
                  "12",
                  "0018-NYROU",
                  "No",
                  "{'gender': 'Female', 'SeniorCitizen': 0, 'Partner': 'Yes', 'Dependents': 'No', 'tenure': 5}",
                  "{'PhoneService': 'Yes', 'MultipleLines': 'No'}",
                  "{'InternetService': 'Fiber optic', 'OnlineSecurity': 'No', 'OnlineBackup': 'No', 'DeviceProtection': 'No', 'TechSupport': 'No', 'StreamingTV': 'No', 'StreamingMovies': 'No'}",
                  "{'Contract': 'Month-to-month', 'PaperlessBilling': 'Yes', 'PaymentMethod': 'Electronic check', 'Charges': {'Monthly': 68.95, 'Total': '351.5'}}"
                ],
                [
                  "13",
                  "0019-EFAEP",
                  "No",
                  "{'gender': 'Female', 'SeniorCitizen': 0, 'Partner': 'No', 'Dependents': 'No', 'tenure': 72}",
                  "{'PhoneService': 'Yes', 'MultipleLines': 'Yes'}",
                  "{'InternetService': 'Fiber optic', 'OnlineSecurity': 'Yes', 'OnlineBackup': 'Yes', 'DeviceProtection': 'Yes', 'TechSupport': 'No', 'StreamingTV': 'Yes', 'StreamingMovies': 'No'}",
                  "{'Contract': 'Two year', 'PaperlessBilling': 'Yes', 'PaymentMethod': 'Bank transfer (automatic)', 'Charges': {'Monthly': 101.3, 'Total': '7261.25'}}"
                ],
                [
                  "14",
                  "0019-GFNTW",
                  "No",
                  "{'gender': 'Female', 'SeniorCitizen': 0, 'Partner': 'No', 'Dependents': 'No', 'tenure': 56}",
                  "{'PhoneService': 'No', 'MultipleLines': 'No phone service'}",
                  "{'InternetService': 'DSL', 'OnlineSecurity': 'Yes', 'OnlineBackup': 'Yes', 'DeviceProtection': 'Yes', 'TechSupport': 'Yes', 'StreamingTV': 'No', 'StreamingMovies': 'No'}",
                  "{'Contract': 'Two year', 'PaperlessBilling': 'No', 'PaymentMethod': 'Bank transfer (automatic)', 'Charges': {'Monthly': 45.05, 'Total': '2560.1'}}"
                ],
                [
                  "15",
                  "0020-INWCK",
                  "No",
                  "{'gender': 'Female', 'SeniorCitizen': 0, 'Partner': 'Yes', 'Dependents': 'Yes', 'tenure': 71}",
                  "{'PhoneService': 'Yes', 'MultipleLines': 'Yes'}",
                  "{'InternetService': 'Fiber optic', 'OnlineSecurity': 'No', 'OnlineBackup': 'Yes', 'DeviceProtection': 'Yes', 'TechSupport': 'No', 'StreamingTV': 'No', 'StreamingMovies': 'Yes'}",
                  "{'Contract': 'Two year', 'PaperlessBilling': 'Yes', 'PaymentMethod': 'Credit card (automatic)', 'Charges': {'Monthly': 95.75, 'Total': '6849.4'}}"
                ],
                [
                  "16",
                  "0020-JDNXP",
                  "No",
                  "{'gender': 'Female', 'SeniorCitizen': 0, 'Partner': 'Yes', 'Dependents': 'Yes', 'tenure': 34}",
                  "{'PhoneService': 'No', 'MultipleLines': 'No phone service'}",
                  "{'InternetService': 'DSL', 'OnlineSecurity': 'Yes', 'OnlineBackup': 'No', 'DeviceProtection': 'Yes', 'TechSupport': 'Yes', 'StreamingTV': 'Yes', 'StreamingMovies': 'Yes'}",
                  "{'Contract': 'One year', 'PaperlessBilling': 'No', 'PaymentMethod': 'Mailed check', 'Charges': {'Monthly': 61.25, 'Total': '1993.2'}}"
                ],
                [
                  "17",
                  "0021-IKXGC",
                  "No",
                  "{'gender': 'Female', 'SeniorCitizen': 1, 'Partner': 'No', 'Dependents': 'No', 'tenure': 1}",
                  "{'PhoneService': 'Yes', 'MultipleLines': 'Yes'}",
                  "{'InternetService': 'Fiber optic', 'OnlineSecurity': 'No', 'OnlineBackup': 'No', 'DeviceProtection': 'No', 'TechSupport': 'No', 'StreamingTV': 'No', 'StreamingMovies': 'No'}",
                  "{'Contract': 'Month-to-month', 'PaperlessBilling': 'Yes', 'PaymentMethod': 'Electronic check', 'Charges': {'Monthly': 72.1, 'Total': '72.1'}}"
                ],
                [
                  "18",
                  "0022-TCJCI",
                  "Yes",
                  "{'gender': 'Male', 'SeniorCitizen': 1, 'Partner': 'No', 'Dependents': 'No', 'tenure': 45}",
                  "{'PhoneService': 'Yes', 'MultipleLines': 'No'}",
                  "{'InternetService': 'DSL', 'OnlineSecurity': 'Yes', 'OnlineBackup': 'No', 'DeviceProtection': 'Yes', 'TechSupport': 'No', 'StreamingTV': 'No', 'StreamingMovies': 'Yes'}",
                  "{'Contract': 'One year', 'PaperlessBilling': 'No', 'PaymentMethod': 'Credit card (automatic)', 'Charges': {'Monthly': 62.7, 'Total': '2791.5'}}"
                ],
                [
                  "19",
                  "0023-HGHWL",
                  "Yes",
                  "{'gender': 'Male', 'SeniorCitizen': 1, 'Partner': 'No', 'Dependents': 'No', 'tenure': 1}",
                  "{'PhoneService': 'No', 'MultipleLines': 'No phone service'}",
                  "{'InternetService': 'DSL', 'OnlineSecurity': 'No', 'OnlineBackup': 'No', 'DeviceProtection': 'No', 'TechSupport': 'No', 'StreamingTV': 'No', 'StreamingMovies': 'No'}",
                  "{'Contract': 'Month-to-month', 'PaperlessBilling': 'Yes', 'PaymentMethod': 'Electronic check', 'Charges': {'Monthly': 25.1, 'Total': '25.1'}}"
                ],
                [
                  "20",
                  "0023-UYUPN",
                  "No",
                  "{'gender': 'Female', 'SeniorCitizen': 1, 'Partner': 'Yes', 'Dependents': 'No', 'tenure': 50}",
                  "{'PhoneService': 'Yes', 'MultipleLines': 'Yes'}",
                  "{'InternetService': 'No', 'OnlineSecurity': 'No internet service', 'OnlineBackup': 'No internet service', 'DeviceProtection': 'No internet service', 'TechSupport': 'No internet service', 'StreamingTV': 'No internet service', 'StreamingMovies': 'No internet service'}",
                  "{'Contract': 'One year', 'PaperlessBilling': 'No', 'PaymentMethod': 'Electronic check', 'Charges': {'Monthly': 25.2, 'Total': '1306.3'}}"
                ],
                [
                  "21",
                  "0023-XUOPT",
                  "Yes",
                  "{'gender': 'Female', 'SeniorCitizen': 0, 'Partner': 'Yes', 'Dependents': 'No', 'tenure': 13}",
                  "{'PhoneService': 'Yes', 'MultipleLines': 'Yes'}",
                  "{'InternetService': 'Fiber optic', 'OnlineSecurity': 'No', 'OnlineBackup': 'Yes', 'DeviceProtection': 'Yes', 'TechSupport': 'No', 'StreamingTV': 'Yes', 'StreamingMovies': 'No'}",
                  "{'Contract': 'Month-to-month', 'PaperlessBilling': 'No', 'PaymentMethod': 'Electronic check', 'Charges': {'Monthly': 94.1, 'Total': '1215.6'}}"
                ],
                [
                  "22",
                  "0027-KWYKW",
                  "No",
                  "{'gender': 'Female', 'SeniorCitizen': 0, 'Partner': 'Yes', 'Dependents': 'Yes', 'tenure': 23}",
                  "{'PhoneService': 'Yes', 'MultipleLines': 'Yes'}",
                  "{'InternetService': 'Fiber optic', 'OnlineSecurity': 'No', 'OnlineBackup': 'No', 'DeviceProtection': 'No', 'TechSupport': 'No', 'StreamingTV': 'Yes', 'StreamingMovies': 'No'}",
                  "{'Contract': 'Month-to-month', 'PaperlessBilling': 'Yes', 'PaymentMethod': 'Electronic check', 'Charges': {'Monthly': 83.75, 'Total': '1849.95'}}"
                ],
                [
                  "23",
                  "0030-FNXPP",
                  "No",
                  "{'gender': 'Female', 'SeniorCitizen': 0, 'Partner': 'No', 'Dependents': 'No', 'tenure': 3}",
                  "{'PhoneService': 'Yes', 'MultipleLines': 'No'}",
                  "{'InternetService': 'No', 'OnlineSecurity': 'No internet service', 'OnlineBackup': 'No internet service', 'DeviceProtection': 'No internet service', 'TechSupport': 'No internet service', 'StreamingTV': 'No internet service', 'StreamingMovies': 'No internet service'}",
                  "{'Contract': 'Month-to-month', 'PaperlessBilling': 'No', 'PaymentMethod': 'Mailed check', 'Charges': {'Monthly': 19.85, 'Total': '57.2'}}"
                ],
                [
                  "24",
                  "0031-PVLZI",
                  "Yes",
                  "{'gender': 'Female', 'SeniorCitizen': 0, 'Partner': 'Yes', 'Dependents': 'Yes', 'tenure': 4}",
                  "{'PhoneService': 'Yes', 'MultipleLines': 'No'}",
                  "{'InternetService': 'No', 'OnlineSecurity': 'No internet service', 'OnlineBackup': 'No internet service', 'DeviceProtection': 'No internet service', 'TechSupport': 'No internet service', 'StreamingTV': 'No internet service', 'StreamingMovies': 'No internet service'}",
                  "{'Contract': 'Month-to-month', 'PaperlessBilling': 'No', 'PaymentMethod': 'Mailed check', 'Charges': {'Monthly': 20.35, 'Total': '76.35'}}"
                ],
                [
                  "25",
                  "0032-PGELS",
                  "Yes",
                  "{'gender': 'Female', 'SeniorCitizen': 0, 'Partner': 'Yes', 'Dependents': 'Yes', 'tenure': 1}",
                  "{'PhoneService': 'No', 'MultipleLines': 'No phone service'}",
                  "{'InternetService': 'DSL', 'OnlineSecurity': 'Yes', 'OnlineBackup': 'No', 'DeviceProtection': 'No', 'TechSupport': 'No', 'StreamingTV': 'No', 'StreamingMovies': 'No'}",
                  "{'Contract': 'Month-to-month', 'PaperlessBilling': 'No', 'PaymentMethod': 'Bank transfer (automatic)', 'Charges': {'Monthly': 30.5, 'Total': '30.5'}}"
                ],
                [
                  "26",
                  "0036-IHMOT",
                  "No",
                  "{'gender': 'Female', 'SeniorCitizen': 0, 'Partner': 'Yes', 'Dependents': 'Yes', 'tenure': 55}",
                  "{'PhoneService': 'Yes', 'MultipleLines': 'No'}",
                  "{'InternetService': 'Fiber optic', 'OnlineSecurity': 'No', 'OnlineBackup': 'Yes', 'DeviceProtection': 'Yes', 'TechSupport': 'Yes', 'StreamingTV': 'Yes', 'StreamingMovies': 'Yes'}",
                  "{'Contract': 'One year', 'PaperlessBilling': 'Yes', 'PaymentMethod': 'Bank transfer (automatic)', 'Charges': {'Monthly': 103.7, 'Total': '5656.75'}}"
                ],
                [
                  "27",
                  "0040-HALCW",
                  "No",
                  "{'gender': 'Male', 'SeniorCitizen': 0, 'Partner': 'Yes', 'Dependents': 'Yes', 'tenure': 54}",
                  "{'PhoneService': 'Yes', 'MultipleLines': 'No'}",
                  "{'InternetService': 'No', 'OnlineSecurity': 'No internet service', 'OnlineBackup': 'No internet service', 'DeviceProtection': 'No internet service', 'TechSupport': 'No internet service', 'StreamingTV': 'No internet service', 'StreamingMovies': 'No internet service'}",
                  "{'Contract': 'Two year', 'PaperlessBilling': 'No', 'PaymentMethod': 'Credit card (automatic)', 'Charges': {'Monthly': 20.4, 'Total': '1090.6'}}"
                ],
                [
                  "28",
                  "0042-JVWOJ",
                  "No",
                  "{'gender': 'Male', 'SeniorCitizen': 0, 'Partner': 'No', 'Dependents': 'No', 'tenure': 26}",
                  "{'PhoneService': 'Yes', 'MultipleLines': 'No'}",
                  "{'InternetService': 'No', 'OnlineSecurity': 'No internet service', 'OnlineBackup': 'No internet service', 'DeviceProtection': 'No internet service', 'TechSupport': 'No internet service', 'StreamingTV': 'No internet service', 'StreamingMovies': 'No internet service'}",
                  "{'Contract': 'One year', 'PaperlessBilling': 'Yes', 'PaymentMethod': 'Bank transfer (automatic)', 'Charges': {'Monthly': 19.6, 'Total': '471.85'}}"
                ],
                [
                  "29",
                  "0042-RLHYP",
                  "No",
                  "{'gender': 'Female', 'SeniorCitizen': 0, 'Partner': 'Yes', 'Dependents': 'Yes', 'tenure': 69}",
                  "{'PhoneService': 'Yes', 'MultipleLines': 'No'}",
                  "{'InternetService': 'No', 'OnlineSecurity': 'No internet service', 'OnlineBackup': 'No internet service', 'DeviceProtection': 'No internet service', 'TechSupport': 'No internet service', 'StreamingTV': 'No internet service', 'StreamingMovies': 'No internet service'}",
                  "{'Contract': 'Two year', 'PaperlessBilling': 'No', 'PaymentMethod': 'Bank transfer (automatic)', 'Charges': {'Monthly': 19.7, 'Total': '1396.9'}}"
                ],
                [
                  "30",
                  "0047-ZHDTW",
                  "",
                  "{'gender': 'Female', 'SeniorCitizen': 0, 'Partner': 'No', 'Dependents': 'No', 'tenure': 11}",
                  "{'PhoneService': 'Yes', 'MultipleLines': 'Yes'}",
                  "{'InternetService': 'Fiber optic', 'OnlineSecurity': 'Yes', 'OnlineBackup': 'No', 'DeviceProtection': 'No', 'TechSupport': 'No', 'StreamingTV': 'No', 'StreamingMovies': 'No'}",
                  "{'Contract': 'Month-to-month', 'PaperlessBilling': 'Yes', 'PaymentMethod': 'Bank transfer (automatic)', 'Charges': {'Monthly': 79.0, 'Total': '929.3'}}"
                ],
                [
                  "31",
                  "0048-LUMLS",
                  "No",
                  "{'gender': 'Male', 'SeniorCitizen': 0, 'Partner': 'Yes', 'Dependents': 'Yes', 'tenure': 37}",
                  "{'PhoneService': 'Yes', 'MultipleLines': 'No'}",
                  "{'InternetService': 'Fiber optic', 'OnlineSecurity': 'No', 'OnlineBackup': 'No', 'DeviceProtection': 'No', 'TechSupport': 'No', 'StreamingTV': 'Yes', 'StreamingMovies': 'Yes'}",
                  "{'Contract': 'One year', 'PaperlessBilling': 'No', 'PaymentMethod': 'Credit card (automatic)', 'Charges': {'Monthly': 91.2, 'Total': '3247.55'}}"
                ],
                [
                  "32",
                  "0048-PIHNL",
                  "No",
                  "{'gender': 'Female', 'SeniorCitizen': 0, 'Partner': 'Yes', 'Dependents': 'No', 'tenure': 49}",
                  "{'PhoneService': 'Yes', 'MultipleLines': 'No'}",
                  "{'InternetService': 'No', 'OnlineSecurity': 'No internet service', 'OnlineBackup': 'No internet service', 'DeviceProtection': 'No internet service', 'TechSupport': 'No internet service', 'StreamingTV': 'No internet service', 'StreamingMovies': 'No internet service'}",
                  "{'Contract': 'One year', 'PaperlessBilling': 'No', 'PaymentMethod': 'Bank transfer (automatic)', 'Charges': {'Monthly': 20.45, 'Total': '900.9'}}"
                ],
                [
                  "33",
                  "0052-DCKON",
                  "No",
                  "{'gender': 'Male', 'SeniorCitizen': 0, 'Partner': 'Yes', 'Dependents': 'No', 'tenure': 66}",
                  "{'PhoneService': 'Yes', 'MultipleLines': 'Yes'}",
                  "{'InternetService': 'Fiber optic', 'OnlineSecurity': 'Yes', 'OnlineBackup': 'Yes', 'DeviceProtection': 'Yes', 'TechSupport': 'Yes', 'StreamingTV': 'Yes', 'StreamingMovies': 'Yes'}",
                  "{'Contract': 'One year', 'PaperlessBilling': 'No', 'PaymentMethod': 'Bank transfer (automatic)', 'Charges': {'Monthly': 115.8, 'Total': '7942.15'}}"
                ],
                [
                  "34",
                  "0052-YNYOT",
                  "No",
                  "{'gender': 'Female', 'SeniorCitizen': 0, 'Partner': 'No', 'Dependents': 'No', 'tenure': 67}",
                  "{'PhoneService': 'Yes', 'MultipleLines': 'No'}",
                  "{'InternetService': 'No', 'OnlineSecurity': 'No internet service', 'OnlineBackup': 'No internet service', 'DeviceProtection': 'No internet service', 'TechSupport': 'No internet service', 'StreamingTV': 'No internet service', 'StreamingMovies': 'No internet service'}",
                  "{'Contract': 'One year', 'PaperlessBilling': 'No', 'PaymentMethod': 'Electronic check', 'Charges': {'Monthly': 20.55, 'Total': '1343.4'}}"
                ],
                [
                  "35",
                  "0056-EPFBG",
                  "No",
                  "{'gender': 'Male', 'SeniorCitizen': 0, 'Partner': 'Yes', 'Dependents': 'Yes', 'tenure': 20}",
                  "{'PhoneService': 'No', 'MultipleLines': 'No phone service'}",
                  "{'InternetService': 'DSL', 'OnlineSecurity': 'Yes', 'OnlineBackup': 'No', 'DeviceProtection': 'Yes', 'TechSupport': 'Yes', 'StreamingTV': 'No', 'StreamingMovies': 'No'}",
                  "{'Contract': 'Two year', 'PaperlessBilling': 'Yes', 'PaymentMethod': 'Credit card (automatic)', 'Charges': {'Monthly': 39.4, 'Total': '825.4'}}"
                ],
                [
                  "36",
                  "0057-QBUQH",
                  "No",
                  "{'gender': 'Female', 'SeniorCitizen': 0, 'Partner': 'No', 'Dependents': 'Yes', 'tenure': 43}",
                  "{'PhoneService': 'Yes', 'MultipleLines': 'Yes'}",
                  "{'InternetService': 'No', 'OnlineSecurity': 'No internet service', 'OnlineBackup': 'No internet service', 'DeviceProtection': 'No internet service', 'TechSupport': 'No internet service', 'StreamingTV': 'No internet service', 'StreamingMovies': 'No internet service'}",
                  "{'Contract': 'Two year', 'PaperlessBilling': 'Yes', 'PaymentMethod': 'Electronic check', 'Charges': {'Monthly': 25.1, 'Total': '1070.15'}}"
                ],
                [
                  "37",
                  "0058-EVZWM",
                  "No",
                  "{'gender': 'Female', 'SeniorCitizen': 0, 'Partner': 'Yes', 'Dependents': 'No', 'tenure': 55}",
                  "{'PhoneService': 'Yes', 'MultipleLines': 'Yes'}",
                  "{'InternetService': 'Fiber optic', 'OnlineSecurity': 'Yes', 'OnlineBackup': 'No', 'DeviceProtection': 'No', 'TechSupport': 'No', 'StreamingTV': 'Yes', 'StreamingMovies': 'No'}",
                  "{'Contract': 'Month-to-month', 'PaperlessBilling': 'Yes', 'PaymentMethod': 'Bank transfer (automatic)', 'Charges': {'Monthly': 89.8, 'Total': '4959.6'}}"
                ],
                [
                  "38",
                  "0060-FUALY",
                  "No",
                  "{'gender': 'Female', 'SeniorCitizen': 0, 'Partner': 'Yes', 'Dependents': 'No', 'tenure': 59}",
                  "{'PhoneService': 'Yes', 'MultipleLines': 'Yes'}",
                  "{'InternetService': 'Fiber optic', 'OnlineSecurity': 'Yes', 'OnlineBackup': 'Yes', 'DeviceProtection': 'No', 'TechSupport': 'No', 'StreamingTV': 'Yes', 'StreamingMovies': 'No'}",
                  "{'Contract': 'Month-to-month', 'PaperlessBilling': 'Yes', 'PaymentMethod': 'Electronic check', 'Charges': {'Monthly': 94.75, 'Total': '5597.65'}}"
                ],
                [
                  "39",
                  "0064-SUDOG",
                  "No",
                  "{'gender': 'Female', 'SeniorCitizen': 0, 'Partner': 'Yes', 'Dependents': 'Yes', 'tenure': 12}",
                  "{'PhoneService': 'Yes', 'MultipleLines': 'No'}",
                  "{'InternetService': 'No', 'OnlineSecurity': 'No internet service', 'OnlineBackup': 'No internet service', 'DeviceProtection': 'No internet service', 'TechSupport': 'No internet service', 'StreamingTV': 'No internet service', 'StreamingMovies': 'No internet service'}",
                  "{'Contract': 'Two year', 'PaperlessBilling': 'No', 'PaymentMethod': 'Bank transfer (automatic)', 'Charges': {'Monthly': 20.3, 'Total': '224.5'}}"
                ],
                [
                  "40",
                  "0064-YIJGF",
                  "No",
                  "{'gender': 'Male', 'SeniorCitizen': 0, 'Partner': 'Yes', 'Dependents': 'Yes', 'tenure': 27}",
                  "{'PhoneService': 'Yes', 'MultipleLines': 'Yes'}",
                  "{'InternetService': 'Fiber optic', 'OnlineSecurity': 'No', 'OnlineBackup': 'No', 'DeviceProtection': 'No', 'TechSupport': 'No', 'StreamingTV': 'No', 'StreamingMovies': 'No'}",
                  "{'Contract': 'Month-to-month', 'PaperlessBilling': 'Yes', 'PaymentMethod': 'Bank transfer (automatic)', 'Charges': {'Monthly': 75.75, 'Total': '1929'}}"
                ],
                [
                  "41",
                  "0067-DKWBL",
                  "Yes",
                  "{'gender': 'Male', 'SeniorCitizen': 1, 'Partner': 'No', 'Dependents': 'No', 'tenure': 2}",
                  "{'PhoneService': 'Yes', 'MultipleLines': 'No'}",
                  "{'InternetService': 'DSL', 'OnlineSecurity': 'Yes', 'OnlineBackup': 'No', 'DeviceProtection': 'No', 'TechSupport': 'No', 'StreamingTV': 'No', 'StreamingMovies': 'No'}",
                  "{'Contract': 'Month-to-month', 'PaperlessBilling': 'Yes', 'PaymentMethod': 'Electronic check', 'Charges': {'Monthly': 49.25, 'Total': '91.1'}}"
                ],
                [
                  "42",
                  "0068-FIGTF",
                  "No",
                  "{'gender': 'Female', 'SeniorCitizen': 0, 'Partner': 'No', 'Dependents': 'No', 'tenure': 27}",
                  "{'PhoneService': 'Yes', 'MultipleLines': 'No'}",
                  "{'InternetService': 'DSL', 'OnlineSecurity': 'No', 'OnlineBackup': 'Yes', 'DeviceProtection': 'Yes', 'TechSupport': 'Yes', 'StreamingTV': 'Yes', 'StreamingMovies': 'Yes'}",
                  "{'Contract': 'One year', 'PaperlessBilling': 'No', 'PaymentMethod': 'Mailed check', 'Charges': {'Monthly': 78.2, 'Total': '2078.95'}}"
                ],
                [
                  "43",
                  "0071-NDAFP",
                  "No",
                  "{'gender': 'Male', 'SeniorCitizen': 0, 'Partner': 'Yes', 'Dependents': 'Yes', 'tenure': 25}",
                  "{'PhoneService': 'Yes', 'MultipleLines': 'Yes'}",
                  "{'InternetService': 'No', 'OnlineSecurity': 'No internet service', 'OnlineBackup': 'No internet service', 'DeviceProtection': 'No internet service', 'TechSupport': 'No internet service', 'StreamingTV': 'No internet service', 'StreamingMovies': 'No internet service'}",
                  "{'Contract': 'Two year', 'PaperlessBilling': 'No', 'PaymentMethod': 'Credit card (automatic)', 'Charges': {'Monthly': 25.5, 'Total': '630.6'}}"
                ],
                [
                  "44",
                  "0074-HDKDG",
                  "No",
                  "{'gender': 'Male', 'SeniorCitizen': 0, 'Partner': 'Yes', 'Dependents': 'Yes', 'tenure': 25}",
                  "{'PhoneService': 'Yes', 'MultipleLines': 'No'}",
                  "{'InternetService': 'DSL', 'OnlineSecurity': 'Yes', 'OnlineBackup': 'Yes', 'DeviceProtection': 'Yes', 'TechSupport': 'No', 'StreamingTV': 'No', 'StreamingMovies': 'No'}",
                  "{'Contract': 'One year', 'PaperlessBilling': 'Yes', 'PaymentMethod': 'Bank transfer (automatic)', 'Charges': {'Monthly': 61.6, 'Total': '1611'}}"
                ],
                [
                  "45",
                  "0076-LVEPS",
                  "No",
                  "{'gender': 'Male', 'SeniorCitizen': 0, 'Partner': 'No', 'Dependents': 'Yes', 'tenure': 29}",
                  "{'PhoneService': 'No', 'MultipleLines': 'No phone service'}",
                  "{'InternetService': 'DSL', 'OnlineSecurity': 'Yes', 'OnlineBackup': 'Yes', 'DeviceProtection': 'Yes', 'TechSupport': 'Yes', 'StreamingTV': 'No', 'StreamingMovies': 'No'}",
                  "{'Contract': 'Month-to-month', 'PaperlessBilling': 'Yes', 'PaymentMethod': 'Mailed check', 'Charges': {'Monthly': 45.0, 'Total': '1242.45'}}"
                ],
                [
                  "46",
                  "0078-XZMHT",
                  "No",
                  "{'gender': 'Male', 'SeniorCitizen': 0, 'Partner': 'Yes', 'Dependents': 'No', 'tenure': 72}",
                  "{'PhoneService': 'Yes', 'MultipleLines': 'Yes'}",
                  "{'InternetService': 'DSL', 'OnlineSecurity': 'No', 'OnlineBackup': 'Yes', 'DeviceProtection': 'Yes', 'TechSupport': 'Yes', 'StreamingTV': 'Yes', 'StreamingMovies': 'Yes'}",
                  "{'Contract': 'Two year', 'PaperlessBilling': 'Yes', 'PaymentMethod': 'Bank transfer (automatic)', 'Charges': {'Monthly': 85.15, 'Total': '6316.2'}}"
                ],
                [
                  "47",
                  "0080-EMYVY",
                  "No",
                  "{'gender': 'Female', 'SeniorCitizen': 0, 'Partner': 'No', 'Dependents': 'No', 'tenure': 14}",
                  "{'PhoneService': 'Yes', 'MultipleLines': 'No'}",
                  "{'InternetService': 'DSL', 'OnlineSecurity': 'No', 'OnlineBackup': 'Yes', 'DeviceProtection': 'No', 'TechSupport': 'No', 'StreamingTV': 'No', 'StreamingMovies': 'No'}",
                  "{'Contract': 'One year', 'PaperlessBilling': 'No', 'PaymentMethod': 'Credit card (automatic)', 'Charges': {'Monthly': 51.45, 'Total': '727.85'}}"
                ],
                [
                  "48",
                  "0080-OROZO",
                  "No",
                  "{'gender': 'Female', 'SeniorCitizen': 0, 'Partner': 'No', 'Dependents': 'No', 'tenure': 35}",
                  "{'PhoneService': 'Yes', 'MultipleLines': 'No'}",
                  "{'InternetService': 'Fiber optic', 'OnlineSecurity': 'No', 'OnlineBackup': 'No', 'DeviceProtection': 'Yes', 'TechSupport': 'Yes', 'StreamingTV': 'Yes', 'StreamingMovies': 'Yes'}",
                  "{'Contract': 'One year', 'PaperlessBilling': 'Yes', 'PaymentMethod': 'Electronic check', 'Charges': {'Monthly': 99.25, 'Total': '3532'}}"
                ],
                [
                  "49",
                  "0082-LDZUE",
                  "No",
                  "{'gender': 'Male', 'SeniorCitizen': 0, 'Partner': 'No', 'Dependents': 'No', 'tenure': 1}",
                  "{'PhoneService': 'Yes', 'MultipleLines': 'No'}",
                  "{'InternetService': 'DSL', 'OnlineSecurity': 'No', 'OnlineBackup': 'No', 'DeviceProtection': 'No', 'TechSupport': 'No', 'StreamingTV': 'No', 'StreamingMovies': 'No'}",
                  "{'Contract': 'Month-to-month', 'PaperlessBilling': 'Yes', 'PaymentMethod': 'Mailed check', 'Charges': {'Monthly': 44.3, 'Total': '44.3'}}"
                ]
              ],
              "shape": {
                "columns": 6,
                "rows": 7267
              }
            },
            "text/html": [
              "<div>\n",
              "<style scoped>\n",
              "    .dataframe tbody tr th:only-of-type {\n",
              "        vertical-align: middle;\n",
              "    }\n",
              "\n",
              "    .dataframe tbody tr th {\n",
              "        vertical-align: top;\n",
              "    }\n",
              "\n",
              "    .dataframe thead th {\n",
              "        text-align: right;\n",
              "    }\n",
              "</style>\n",
              "<table border=\"1\" class=\"dataframe\">\n",
              "  <thead>\n",
              "    <tr style=\"text-align: right;\">\n",
              "      <th></th>\n",
              "      <th>customerID</th>\n",
              "      <th>Churn</th>\n",
              "      <th>customer</th>\n",
              "      <th>phone</th>\n",
              "      <th>internet</th>\n",
              "      <th>account</th>\n",
              "    </tr>\n",
              "  </thead>\n",
              "  <tbody>\n",
              "    <tr>\n",
              "      <th>0</th>\n",
              "      <td>0002-ORFBO</td>\n",
              "      <td>No</td>\n",
              "      <td>{'gender': 'Female', 'SeniorCitizen': 0, 'Part...</td>\n",
              "      <td>{'PhoneService': 'Yes', 'MultipleLines': 'No'}</td>\n",
              "      <td>{'InternetService': 'DSL', 'OnlineSecurity': '...</td>\n",
              "      <td>{'Contract': 'One year', 'PaperlessBilling': '...</td>\n",
              "    </tr>\n",
              "    <tr>\n",
              "      <th>1</th>\n",
              "      <td>0003-MKNFE</td>\n",
              "      <td>No</td>\n",
              "      <td>{'gender': 'Male', 'SeniorCitizen': 0, 'Partne...</td>\n",
              "      <td>{'PhoneService': 'Yes', 'MultipleLines': 'Yes'}</td>\n",
              "      <td>{'InternetService': 'DSL', 'OnlineSecurity': '...</td>\n",
              "      <td>{'Contract': 'Month-to-month', 'PaperlessBilli...</td>\n",
              "    </tr>\n",
              "    <tr>\n",
              "      <th>2</th>\n",
              "      <td>0004-TLHLJ</td>\n",
              "      <td>Yes</td>\n",
              "      <td>{'gender': 'Male', 'SeniorCitizen': 0, 'Partne...</td>\n",
              "      <td>{'PhoneService': 'Yes', 'MultipleLines': 'No'}</td>\n",
              "      <td>{'InternetService': 'Fiber optic', 'OnlineSecu...</td>\n",
              "      <td>{'Contract': 'Month-to-month', 'PaperlessBilli...</td>\n",
              "    </tr>\n",
              "    <tr>\n",
              "      <th>3</th>\n",
              "      <td>0011-IGKFF</td>\n",
              "      <td>Yes</td>\n",
              "      <td>{'gender': 'Male', 'SeniorCitizen': 1, 'Partne...</td>\n",
              "      <td>{'PhoneService': 'Yes', 'MultipleLines': 'No'}</td>\n",
              "      <td>{'InternetService': 'Fiber optic', 'OnlineSecu...</td>\n",
              "      <td>{'Contract': 'Month-to-month', 'PaperlessBilli...</td>\n",
              "    </tr>\n",
              "    <tr>\n",
              "      <th>4</th>\n",
              "      <td>0013-EXCHZ</td>\n",
              "      <td>Yes</td>\n",
              "      <td>{'gender': 'Female', 'SeniorCitizen': 1, 'Part...</td>\n",
              "      <td>{'PhoneService': 'Yes', 'MultipleLines': 'No'}</td>\n",
              "      <td>{'InternetService': 'Fiber optic', 'OnlineSecu...</td>\n",
              "      <td>{'Contract': 'Month-to-month', 'PaperlessBilli...</td>\n",
              "    </tr>\n",
              "    <tr>\n",
              "      <th>...</th>\n",
              "      <td>...</td>\n",
              "      <td>...</td>\n",
              "      <td>...</td>\n",
              "      <td>...</td>\n",
              "      <td>...</td>\n",
              "      <td>...</td>\n",
              "    </tr>\n",
              "    <tr>\n",
              "      <th>7262</th>\n",
              "      <td>9987-LUTYD</td>\n",
              "      <td>No</td>\n",
              "      <td>{'gender': 'Female', 'SeniorCitizen': 0, 'Part...</td>\n",
              "      <td>{'PhoneService': 'Yes', 'MultipleLines': 'No'}</td>\n",
              "      <td>{'InternetService': 'DSL', 'OnlineSecurity': '...</td>\n",
              "      <td>{'Contract': 'One year', 'PaperlessBilling': '...</td>\n",
              "    </tr>\n",
              "    <tr>\n",
              "      <th>7263</th>\n",
              "      <td>9992-RRAMN</td>\n",
              "      <td>Yes</td>\n",
              "      <td>{'gender': 'Male', 'SeniorCitizen': 0, 'Partne...</td>\n",
              "      <td>{'PhoneService': 'Yes', 'MultipleLines': 'Yes'}</td>\n",
              "      <td>{'InternetService': 'Fiber optic', 'OnlineSecu...</td>\n",
              "      <td>{'Contract': 'Month-to-month', 'PaperlessBilli...</td>\n",
              "    </tr>\n",
              "    <tr>\n",
              "      <th>7264</th>\n",
              "      <td>9992-UJOEL</td>\n",
              "      <td>No</td>\n",
              "      <td>{'gender': 'Male', 'SeniorCitizen': 0, 'Partne...</td>\n",
              "      <td>{'PhoneService': 'Yes', 'MultipleLines': 'No'}</td>\n",
              "      <td>{'InternetService': 'DSL', 'OnlineSecurity': '...</td>\n",
              "      <td>{'Contract': 'Month-to-month', 'PaperlessBilli...</td>\n",
              "    </tr>\n",
              "    <tr>\n",
              "      <th>7265</th>\n",
              "      <td>9993-LHIEB</td>\n",
              "      <td>No</td>\n",
              "      <td>{'gender': 'Male', 'SeniorCitizen': 0, 'Partne...</td>\n",
              "      <td>{'PhoneService': 'Yes', 'MultipleLines': 'No'}</td>\n",
              "      <td>{'InternetService': 'DSL', 'OnlineSecurity': '...</td>\n",
              "      <td>{'Contract': 'Two year', 'PaperlessBilling': '...</td>\n",
              "    </tr>\n",
              "    <tr>\n",
              "      <th>7266</th>\n",
              "      <td>9995-HOTOH</td>\n",
              "      <td>No</td>\n",
              "      <td>{'gender': 'Male', 'SeniorCitizen': 0, 'Partne...</td>\n",
              "      <td>{'PhoneService': 'No', 'MultipleLines': 'No ph...</td>\n",
              "      <td>{'InternetService': 'DSL', 'OnlineSecurity': '...</td>\n",
              "      <td>{'Contract': 'Two year', 'PaperlessBilling': '...</td>\n",
              "    </tr>\n",
              "  </tbody>\n",
              "</table>\n",
              "<p>7267 rows × 6 columns</p>\n",
              "</div>"
            ],
            "text/plain": [
              "      customerID Churn                                           customer  \\\n",
              "0     0002-ORFBO    No  {'gender': 'Female', 'SeniorCitizen': 0, 'Part...   \n",
              "1     0003-MKNFE    No  {'gender': 'Male', 'SeniorCitizen': 0, 'Partne...   \n",
              "2     0004-TLHLJ   Yes  {'gender': 'Male', 'SeniorCitizen': 0, 'Partne...   \n",
              "3     0011-IGKFF   Yes  {'gender': 'Male', 'SeniorCitizen': 1, 'Partne...   \n",
              "4     0013-EXCHZ   Yes  {'gender': 'Female', 'SeniorCitizen': 1, 'Part...   \n",
              "...          ...   ...                                                ...   \n",
              "7262  9987-LUTYD    No  {'gender': 'Female', 'SeniorCitizen': 0, 'Part...   \n",
              "7263  9992-RRAMN   Yes  {'gender': 'Male', 'SeniorCitizen': 0, 'Partne...   \n",
              "7264  9992-UJOEL    No  {'gender': 'Male', 'SeniorCitizen': 0, 'Partne...   \n",
              "7265  9993-LHIEB    No  {'gender': 'Male', 'SeniorCitizen': 0, 'Partne...   \n",
              "7266  9995-HOTOH    No  {'gender': 'Male', 'SeniorCitizen': 0, 'Partne...   \n",
              "\n",
              "                                                  phone  \\\n",
              "0        {'PhoneService': 'Yes', 'MultipleLines': 'No'}   \n",
              "1       {'PhoneService': 'Yes', 'MultipleLines': 'Yes'}   \n",
              "2        {'PhoneService': 'Yes', 'MultipleLines': 'No'}   \n",
              "3        {'PhoneService': 'Yes', 'MultipleLines': 'No'}   \n",
              "4        {'PhoneService': 'Yes', 'MultipleLines': 'No'}   \n",
              "...                                                 ...   \n",
              "7262     {'PhoneService': 'Yes', 'MultipleLines': 'No'}   \n",
              "7263    {'PhoneService': 'Yes', 'MultipleLines': 'Yes'}   \n",
              "7264     {'PhoneService': 'Yes', 'MultipleLines': 'No'}   \n",
              "7265     {'PhoneService': 'Yes', 'MultipleLines': 'No'}   \n",
              "7266  {'PhoneService': 'No', 'MultipleLines': 'No ph...   \n",
              "\n",
              "                                               internet  \\\n",
              "0     {'InternetService': 'DSL', 'OnlineSecurity': '...   \n",
              "1     {'InternetService': 'DSL', 'OnlineSecurity': '...   \n",
              "2     {'InternetService': 'Fiber optic', 'OnlineSecu...   \n",
              "3     {'InternetService': 'Fiber optic', 'OnlineSecu...   \n",
              "4     {'InternetService': 'Fiber optic', 'OnlineSecu...   \n",
              "...                                                 ...   \n",
              "7262  {'InternetService': 'DSL', 'OnlineSecurity': '...   \n",
              "7263  {'InternetService': 'Fiber optic', 'OnlineSecu...   \n",
              "7264  {'InternetService': 'DSL', 'OnlineSecurity': '...   \n",
              "7265  {'InternetService': 'DSL', 'OnlineSecurity': '...   \n",
              "7266  {'InternetService': 'DSL', 'OnlineSecurity': '...   \n",
              "\n",
              "                                                account  \n",
              "0     {'Contract': 'One year', 'PaperlessBilling': '...  \n",
              "1     {'Contract': 'Month-to-month', 'PaperlessBilli...  \n",
              "2     {'Contract': 'Month-to-month', 'PaperlessBilli...  \n",
              "3     {'Contract': 'Month-to-month', 'PaperlessBilli...  \n",
              "4     {'Contract': 'Month-to-month', 'PaperlessBilli...  \n",
              "...                                                 ...  \n",
              "7262  {'Contract': 'One year', 'PaperlessBilling': '...  \n",
              "7263  {'Contract': 'Month-to-month', 'PaperlessBilli...  \n",
              "7264  {'Contract': 'Month-to-month', 'PaperlessBilli...  \n",
              "7265  {'Contract': 'Two year', 'PaperlessBilling': '...  \n",
              "7266  {'Contract': 'Two year', 'PaperlessBilling': '...  \n",
              "\n",
              "[7267 rows x 6 columns]"
            ]
          },
          "execution_count": 36,
          "metadata": {},
          "output_type": "execute_result"
        }
      ],
      "source": [
        "df"
      ]
    },
    {
      "cell_type": "code",
      "execution_count": 37,
      "metadata": {},
      "outputs": [
        {
          "name": "stdout",
          "output_type": "stream",
          "text": [
            "<class 'pandas.core.frame.DataFrame'>\n",
            "RangeIndex: 7267 entries, 0 to 7266\n",
            "Data columns (total 6 columns):\n",
            " #   Column      Non-Null Count  Dtype \n",
            "---  ------      --------------  ----- \n",
            " 0   customerID  7267 non-null   object\n",
            " 1   Churn       7267 non-null   object\n",
            " 2   customer    7267 non-null   object\n",
            " 3   phone       7267 non-null   object\n",
            " 4   internet    7267 non-null   object\n",
            " 5   account     7267 non-null   object\n",
            "dtypes: object(6)\n",
            "memory usage: 340.8+ KB\n"
          ]
        }
      ],
      "source": [
        "df.info()"
      ]
    },
    {
      "cell_type": "markdown",
      "metadata": {
        "id": "1lSZP8zmmGZu"
      },
      "source": [
        "#🔧 Transformação"
      ]
    },
    {
      "cell_type": "markdown",
      "metadata": {},
      "source": [
        "Nesta etapa:\n",
        "\n",
        "- Definir e preservar uma coluna de índice (ID)\n",
        "- Normalização das colunas do dataframe base que estão aninhadas em dicionários. A noormalização vai permitir a visualização de novos dataframes.\n",
        "- Definir as colunas que serão preservadas, ou seja, que não precisaram passar pelo processo de normalização.\n",
        "- Concatenar cada dataframe novo gerado após a normalização em um novo dataframe. Na concatenação, definir axis=1 para preservar o índice e alinhar horizontalmente todos os dataframes que os ID's sejam iguais para todos os dataframes que irão formar o novo dataframe."
      ]
    },
    {
      "cell_type": "code",
      "execution_count": 51,
      "metadata": {},
      "outputs": [],
      "source": [
        "df_index = df.set_index('customerID')"
      ]
    },
    {
      "cell_type": "code",
      "execution_count": 52,
      "metadata": {
        "id": "bsm-WTLjmHvt"
      },
      "outputs": [
        {
          "data": {
            "application/vnd.microsoft.datawrangler.viewer.v0+json": {
              "columns": [
                {
                  "name": "index",
                  "rawType": "int64",
                  "type": "integer"
                },
                {
                  "name": "gender",
                  "rawType": "object",
                  "type": "string"
                },
                {
                  "name": "SeniorCitizen",
                  "rawType": "int64",
                  "type": "integer"
                },
                {
                  "name": "Partner",
                  "rawType": "object",
                  "type": "string"
                },
                {
                  "name": "Dependents",
                  "rawType": "object",
                  "type": "string"
                },
                {
                  "name": "tenure",
                  "rawType": "int64",
                  "type": "integer"
                }
              ],
              "ref": "f8a0d85e-2600-414e-b513-007c753a33da",
              "rows": [
                [
                  "0",
                  "Female",
                  "0",
                  "Yes",
                  "Yes",
                  "9"
                ],
                [
                  "1",
                  "Male",
                  "0",
                  "No",
                  "No",
                  "9"
                ],
                [
                  "2",
                  "Male",
                  "0",
                  "No",
                  "No",
                  "4"
                ],
                [
                  "3",
                  "Male",
                  "1",
                  "Yes",
                  "No",
                  "13"
                ],
                [
                  "4",
                  "Female",
                  "1",
                  "Yes",
                  "No",
                  "3"
                ],
                [
                  "5",
                  "Female",
                  "0",
                  "No",
                  "Yes",
                  "9"
                ],
                [
                  "6",
                  "Female",
                  "1",
                  "Yes",
                  "No",
                  "71"
                ],
                [
                  "7",
                  "Male",
                  "0",
                  "Yes",
                  "No",
                  "63"
                ],
                [
                  "8",
                  "Female",
                  "1",
                  "No",
                  "No",
                  "7"
                ],
                [
                  "9",
                  "Female",
                  "0",
                  "Yes",
                  "Yes",
                  "65"
                ],
                [
                  "10",
                  "Male",
                  "0",
                  "No",
                  "No",
                  "54"
                ],
                [
                  "11",
                  "Female",
                  "0",
                  "Yes",
                  "Yes",
                  "72"
                ],
                [
                  "12",
                  "Female",
                  "0",
                  "Yes",
                  "No",
                  "5"
                ],
                [
                  "13",
                  "Female",
                  "0",
                  "No",
                  "No",
                  "72"
                ],
                [
                  "14",
                  "Female",
                  "0",
                  "No",
                  "No",
                  "56"
                ],
                [
                  "15",
                  "Female",
                  "0",
                  "Yes",
                  "Yes",
                  "71"
                ],
                [
                  "16",
                  "Female",
                  "0",
                  "Yes",
                  "Yes",
                  "34"
                ],
                [
                  "17",
                  "Female",
                  "1",
                  "No",
                  "No",
                  "1"
                ],
                [
                  "18",
                  "Male",
                  "1",
                  "No",
                  "No",
                  "45"
                ],
                [
                  "19",
                  "Male",
                  "1",
                  "No",
                  "No",
                  "1"
                ],
                [
                  "20",
                  "Female",
                  "1",
                  "Yes",
                  "No",
                  "50"
                ],
                [
                  "21",
                  "Female",
                  "0",
                  "Yes",
                  "No",
                  "13"
                ],
                [
                  "22",
                  "Female",
                  "0",
                  "Yes",
                  "Yes",
                  "23"
                ],
                [
                  "23",
                  "Female",
                  "0",
                  "No",
                  "No",
                  "3"
                ],
                [
                  "24",
                  "Female",
                  "0",
                  "Yes",
                  "Yes",
                  "4"
                ],
                [
                  "25",
                  "Female",
                  "0",
                  "Yes",
                  "Yes",
                  "1"
                ],
                [
                  "26",
                  "Female",
                  "0",
                  "Yes",
                  "Yes",
                  "55"
                ],
                [
                  "27",
                  "Male",
                  "0",
                  "Yes",
                  "Yes",
                  "54"
                ],
                [
                  "28",
                  "Male",
                  "0",
                  "No",
                  "No",
                  "26"
                ],
                [
                  "29",
                  "Female",
                  "0",
                  "Yes",
                  "Yes",
                  "69"
                ],
                [
                  "30",
                  "Female",
                  "0",
                  "No",
                  "No",
                  "11"
                ],
                [
                  "31",
                  "Male",
                  "0",
                  "Yes",
                  "Yes",
                  "37"
                ],
                [
                  "32",
                  "Female",
                  "0",
                  "Yes",
                  "No",
                  "49"
                ],
                [
                  "33",
                  "Male",
                  "0",
                  "Yes",
                  "No",
                  "66"
                ],
                [
                  "34",
                  "Female",
                  "0",
                  "No",
                  "No",
                  "67"
                ],
                [
                  "35",
                  "Male",
                  "0",
                  "Yes",
                  "Yes",
                  "20"
                ],
                [
                  "36",
                  "Female",
                  "0",
                  "No",
                  "Yes",
                  "43"
                ],
                [
                  "37",
                  "Female",
                  "0",
                  "Yes",
                  "No",
                  "55"
                ],
                [
                  "38",
                  "Female",
                  "0",
                  "Yes",
                  "No",
                  "59"
                ],
                [
                  "39",
                  "Female",
                  "0",
                  "Yes",
                  "Yes",
                  "12"
                ],
                [
                  "40",
                  "Male",
                  "0",
                  "Yes",
                  "Yes",
                  "27"
                ],
                [
                  "41",
                  "Male",
                  "1",
                  "No",
                  "No",
                  "2"
                ],
                [
                  "42",
                  "Female",
                  "0",
                  "No",
                  "No",
                  "27"
                ],
                [
                  "43",
                  "Male",
                  "0",
                  "Yes",
                  "Yes",
                  "25"
                ],
                [
                  "44",
                  "Male",
                  "0",
                  "Yes",
                  "Yes",
                  "25"
                ],
                [
                  "45",
                  "Male",
                  "0",
                  "No",
                  "Yes",
                  "29"
                ],
                [
                  "46",
                  "Male",
                  "0",
                  "Yes",
                  "No",
                  "72"
                ],
                [
                  "47",
                  "Female",
                  "0",
                  "No",
                  "No",
                  "14"
                ],
                [
                  "48",
                  "Female",
                  "0",
                  "No",
                  "No",
                  "35"
                ],
                [
                  "49",
                  "Male",
                  "0",
                  "No",
                  "No",
                  "1"
                ]
              ],
              "shape": {
                "columns": 5,
                "rows": 7267
              }
            },
            "text/html": [
              "<div>\n",
              "<style scoped>\n",
              "    .dataframe tbody tr th:only-of-type {\n",
              "        vertical-align: middle;\n",
              "    }\n",
              "\n",
              "    .dataframe tbody tr th {\n",
              "        vertical-align: top;\n",
              "    }\n",
              "\n",
              "    .dataframe thead th {\n",
              "        text-align: right;\n",
              "    }\n",
              "</style>\n",
              "<table border=\"1\" class=\"dataframe\">\n",
              "  <thead>\n",
              "    <tr style=\"text-align: right;\">\n",
              "      <th></th>\n",
              "      <th>gender</th>\n",
              "      <th>SeniorCitizen</th>\n",
              "      <th>Partner</th>\n",
              "      <th>Dependents</th>\n",
              "      <th>tenure</th>\n",
              "    </tr>\n",
              "  </thead>\n",
              "  <tbody>\n",
              "    <tr>\n",
              "      <th>0</th>\n",
              "      <td>Female</td>\n",
              "      <td>0</td>\n",
              "      <td>Yes</td>\n",
              "      <td>Yes</td>\n",
              "      <td>9</td>\n",
              "    </tr>\n",
              "    <tr>\n",
              "      <th>1</th>\n",
              "      <td>Male</td>\n",
              "      <td>0</td>\n",
              "      <td>No</td>\n",
              "      <td>No</td>\n",
              "      <td>9</td>\n",
              "    </tr>\n",
              "    <tr>\n",
              "      <th>2</th>\n",
              "      <td>Male</td>\n",
              "      <td>0</td>\n",
              "      <td>No</td>\n",
              "      <td>No</td>\n",
              "      <td>4</td>\n",
              "    </tr>\n",
              "    <tr>\n",
              "      <th>3</th>\n",
              "      <td>Male</td>\n",
              "      <td>1</td>\n",
              "      <td>Yes</td>\n",
              "      <td>No</td>\n",
              "      <td>13</td>\n",
              "    </tr>\n",
              "    <tr>\n",
              "      <th>4</th>\n",
              "      <td>Female</td>\n",
              "      <td>1</td>\n",
              "      <td>Yes</td>\n",
              "      <td>No</td>\n",
              "      <td>3</td>\n",
              "    </tr>\n",
              "    <tr>\n",
              "      <th>...</th>\n",
              "      <td>...</td>\n",
              "      <td>...</td>\n",
              "      <td>...</td>\n",
              "      <td>...</td>\n",
              "      <td>...</td>\n",
              "    </tr>\n",
              "    <tr>\n",
              "      <th>7262</th>\n",
              "      <td>Female</td>\n",
              "      <td>0</td>\n",
              "      <td>No</td>\n",
              "      <td>No</td>\n",
              "      <td>13</td>\n",
              "    </tr>\n",
              "    <tr>\n",
              "      <th>7263</th>\n",
              "      <td>Male</td>\n",
              "      <td>0</td>\n",
              "      <td>Yes</td>\n",
              "      <td>No</td>\n",
              "      <td>22</td>\n",
              "    </tr>\n",
              "    <tr>\n",
              "      <th>7264</th>\n",
              "      <td>Male</td>\n",
              "      <td>0</td>\n",
              "      <td>No</td>\n",
              "      <td>No</td>\n",
              "      <td>2</td>\n",
              "    </tr>\n",
              "    <tr>\n",
              "      <th>7265</th>\n",
              "      <td>Male</td>\n",
              "      <td>0</td>\n",
              "      <td>Yes</td>\n",
              "      <td>Yes</td>\n",
              "      <td>67</td>\n",
              "    </tr>\n",
              "    <tr>\n",
              "      <th>7266</th>\n",
              "      <td>Male</td>\n",
              "      <td>0</td>\n",
              "      <td>Yes</td>\n",
              "      <td>Yes</td>\n",
              "      <td>63</td>\n",
              "    </tr>\n",
              "  </tbody>\n",
              "</table>\n",
              "<p>7267 rows × 5 columns</p>\n",
              "</div>"
            ],
            "text/plain": [
              "      gender  SeniorCitizen Partner Dependents  tenure\n",
              "0     Female              0     Yes        Yes       9\n",
              "1       Male              0      No         No       9\n",
              "2       Male              0      No         No       4\n",
              "3       Male              1     Yes         No      13\n",
              "4     Female              1     Yes         No       3\n",
              "...      ...            ...     ...        ...     ...\n",
              "7262  Female              0      No         No      13\n",
              "7263    Male              0     Yes         No      22\n",
              "7264    Male              0      No         No       2\n",
              "7265    Male              0     Yes        Yes      67\n",
              "7266    Male              0     Yes        Yes      63\n",
              "\n",
              "[7267 rows x 5 columns]"
            ]
          },
          "execution_count": 52,
          "metadata": {},
          "output_type": "execute_result"
        }
      ],
      "source": [
        "df_customer = pd.json_normalize(df_index['customer'])\n",
        "df_customer"
      ]
    },
    {
      "cell_type": "code",
      "execution_count": 53,
      "metadata": {},
      "outputs": [
        {
          "data": {
            "application/vnd.microsoft.datawrangler.viewer.v0+json": {
              "columns": [
                {
                  "name": "index",
                  "rawType": "int64",
                  "type": "integer"
                },
                {
                  "name": "PhoneService",
                  "rawType": "object",
                  "type": "string"
                },
                {
                  "name": "MultipleLines",
                  "rawType": "object",
                  "type": "string"
                }
              ],
              "ref": "2e9fc2fb-4f8d-429e-ad2b-d327d8a3e633",
              "rows": [
                [
                  "0",
                  "Yes",
                  "No"
                ],
                [
                  "1",
                  "Yes",
                  "Yes"
                ],
                [
                  "2",
                  "Yes",
                  "No"
                ],
                [
                  "3",
                  "Yes",
                  "No"
                ],
                [
                  "4",
                  "Yes",
                  "No"
                ],
                [
                  "5",
                  "Yes",
                  "No"
                ],
                [
                  "6",
                  "Yes",
                  "No"
                ],
                [
                  "7",
                  "Yes",
                  "Yes"
                ],
                [
                  "8",
                  "Yes",
                  "No"
                ],
                [
                  "9",
                  "Yes",
                  "Yes"
                ],
                [
                  "10",
                  "No",
                  "No phone service"
                ],
                [
                  "11",
                  "Yes",
                  "Yes"
                ],
                [
                  "12",
                  "Yes",
                  "No"
                ],
                [
                  "13",
                  "Yes",
                  "Yes"
                ],
                [
                  "14",
                  "No",
                  "No phone service"
                ],
                [
                  "15",
                  "Yes",
                  "Yes"
                ],
                [
                  "16",
                  "No",
                  "No phone service"
                ],
                [
                  "17",
                  "Yes",
                  "Yes"
                ],
                [
                  "18",
                  "Yes",
                  "No"
                ],
                [
                  "19",
                  "No",
                  "No phone service"
                ],
                [
                  "20",
                  "Yes",
                  "Yes"
                ],
                [
                  "21",
                  "Yes",
                  "Yes"
                ],
                [
                  "22",
                  "Yes",
                  "Yes"
                ],
                [
                  "23",
                  "Yes",
                  "No"
                ],
                [
                  "24",
                  "Yes",
                  "No"
                ],
                [
                  "25",
                  "No",
                  "No phone service"
                ],
                [
                  "26",
                  "Yes",
                  "No"
                ],
                [
                  "27",
                  "Yes",
                  "No"
                ],
                [
                  "28",
                  "Yes",
                  "No"
                ],
                [
                  "29",
                  "Yes",
                  "No"
                ],
                [
                  "30",
                  "Yes",
                  "Yes"
                ],
                [
                  "31",
                  "Yes",
                  "No"
                ],
                [
                  "32",
                  "Yes",
                  "No"
                ],
                [
                  "33",
                  "Yes",
                  "Yes"
                ],
                [
                  "34",
                  "Yes",
                  "No"
                ],
                [
                  "35",
                  "No",
                  "No phone service"
                ],
                [
                  "36",
                  "Yes",
                  "Yes"
                ],
                [
                  "37",
                  "Yes",
                  "Yes"
                ],
                [
                  "38",
                  "Yes",
                  "Yes"
                ],
                [
                  "39",
                  "Yes",
                  "No"
                ],
                [
                  "40",
                  "Yes",
                  "Yes"
                ],
                [
                  "41",
                  "Yes",
                  "No"
                ],
                [
                  "42",
                  "Yes",
                  "No"
                ],
                [
                  "43",
                  "Yes",
                  "Yes"
                ],
                [
                  "44",
                  "Yes",
                  "No"
                ],
                [
                  "45",
                  "No",
                  "No phone service"
                ],
                [
                  "46",
                  "Yes",
                  "Yes"
                ],
                [
                  "47",
                  "Yes",
                  "No"
                ],
                [
                  "48",
                  "Yes",
                  "No"
                ],
                [
                  "49",
                  "Yes",
                  "No"
                ]
              ],
              "shape": {
                "columns": 2,
                "rows": 7267
              }
            },
            "text/html": [
              "<div>\n",
              "<style scoped>\n",
              "    .dataframe tbody tr th:only-of-type {\n",
              "        vertical-align: middle;\n",
              "    }\n",
              "\n",
              "    .dataframe tbody tr th {\n",
              "        vertical-align: top;\n",
              "    }\n",
              "\n",
              "    .dataframe thead th {\n",
              "        text-align: right;\n",
              "    }\n",
              "</style>\n",
              "<table border=\"1\" class=\"dataframe\">\n",
              "  <thead>\n",
              "    <tr style=\"text-align: right;\">\n",
              "      <th></th>\n",
              "      <th>PhoneService</th>\n",
              "      <th>MultipleLines</th>\n",
              "    </tr>\n",
              "  </thead>\n",
              "  <tbody>\n",
              "    <tr>\n",
              "      <th>0</th>\n",
              "      <td>Yes</td>\n",
              "      <td>No</td>\n",
              "    </tr>\n",
              "    <tr>\n",
              "      <th>1</th>\n",
              "      <td>Yes</td>\n",
              "      <td>Yes</td>\n",
              "    </tr>\n",
              "    <tr>\n",
              "      <th>2</th>\n",
              "      <td>Yes</td>\n",
              "      <td>No</td>\n",
              "    </tr>\n",
              "    <tr>\n",
              "      <th>3</th>\n",
              "      <td>Yes</td>\n",
              "      <td>No</td>\n",
              "    </tr>\n",
              "    <tr>\n",
              "      <th>4</th>\n",
              "      <td>Yes</td>\n",
              "      <td>No</td>\n",
              "    </tr>\n",
              "    <tr>\n",
              "      <th>...</th>\n",
              "      <td>...</td>\n",
              "      <td>...</td>\n",
              "    </tr>\n",
              "    <tr>\n",
              "      <th>7262</th>\n",
              "      <td>Yes</td>\n",
              "      <td>No</td>\n",
              "    </tr>\n",
              "    <tr>\n",
              "      <th>7263</th>\n",
              "      <td>Yes</td>\n",
              "      <td>Yes</td>\n",
              "    </tr>\n",
              "    <tr>\n",
              "      <th>7264</th>\n",
              "      <td>Yes</td>\n",
              "      <td>No</td>\n",
              "    </tr>\n",
              "    <tr>\n",
              "      <th>7265</th>\n",
              "      <td>Yes</td>\n",
              "      <td>No</td>\n",
              "    </tr>\n",
              "    <tr>\n",
              "      <th>7266</th>\n",
              "      <td>No</td>\n",
              "      <td>No phone service</td>\n",
              "    </tr>\n",
              "  </tbody>\n",
              "</table>\n",
              "<p>7267 rows × 2 columns</p>\n",
              "</div>"
            ],
            "text/plain": [
              "     PhoneService     MultipleLines\n",
              "0             Yes                No\n",
              "1             Yes               Yes\n",
              "2             Yes                No\n",
              "3             Yes                No\n",
              "4             Yes                No\n",
              "...           ...               ...\n",
              "7262          Yes                No\n",
              "7263          Yes               Yes\n",
              "7264          Yes                No\n",
              "7265          Yes                No\n",
              "7266           No  No phone service\n",
              "\n",
              "[7267 rows x 2 columns]"
            ]
          },
          "execution_count": 53,
          "metadata": {},
          "output_type": "execute_result"
        }
      ],
      "source": [
        "df_phone = pd.json_normalize(df_index['phone'])\n",
        "df_phone"
      ]
    },
    {
      "cell_type": "code",
      "execution_count": 54,
      "metadata": {},
      "outputs": [
        {
          "data": {
            "application/vnd.microsoft.datawrangler.viewer.v0+json": {
              "columns": [
                {
                  "name": "index",
                  "rawType": "int64",
                  "type": "integer"
                },
                {
                  "name": "InternetService",
                  "rawType": "object",
                  "type": "string"
                },
                {
                  "name": "OnlineSecurity",
                  "rawType": "object",
                  "type": "string"
                },
                {
                  "name": "OnlineBackup",
                  "rawType": "object",
                  "type": "string"
                },
                {
                  "name": "DeviceProtection",
                  "rawType": "object",
                  "type": "string"
                },
                {
                  "name": "TechSupport",
                  "rawType": "object",
                  "type": "string"
                },
                {
                  "name": "StreamingTV",
                  "rawType": "object",
                  "type": "string"
                },
                {
                  "name": "StreamingMovies",
                  "rawType": "object",
                  "type": "string"
                }
              ],
              "ref": "9a3a967b-839e-43d8-a4a4-a51953fda8cd",
              "rows": [
                [
                  "0",
                  "DSL",
                  "No",
                  "Yes",
                  "No",
                  "Yes",
                  "Yes",
                  "No"
                ],
                [
                  "1",
                  "DSL",
                  "No",
                  "No",
                  "No",
                  "No",
                  "No",
                  "Yes"
                ],
                [
                  "2",
                  "Fiber optic",
                  "No",
                  "No",
                  "Yes",
                  "No",
                  "No",
                  "No"
                ],
                [
                  "3",
                  "Fiber optic",
                  "No",
                  "Yes",
                  "Yes",
                  "No",
                  "Yes",
                  "Yes"
                ],
                [
                  "4",
                  "Fiber optic",
                  "No",
                  "No",
                  "No",
                  "Yes",
                  "Yes",
                  "No"
                ],
                [
                  "5",
                  "DSL",
                  "No",
                  "No",
                  "No",
                  "Yes",
                  "Yes",
                  "Yes"
                ],
                [
                  "6",
                  "Fiber optic",
                  "Yes",
                  "Yes",
                  "Yes",
                  "Yes",
                  "Yes",
                  "Yes"
                ],
                [
                  "7",
                  "Fiber optic",
                  "Yes",
                  "No",
                  "No",
                  "Yes",
                  "No",
                  "No"
                ],
                [
                  "8",
                  "DSL",
                  "Yes",
                  "No",
                  "No",
                  "No",
                  "No",
                  "No"
                ],
                [
                  "9",
                  "DSL",
                  "Yes",
                  "Yes",
                  "Yes",
                  "Yes",
                  "Yes",
                  "Yes"
                ],
                [
                  "10",
                  "DSL",
                  "Yes",
                  "No",
                  "No",
                  "Yes",
                  "Yes",
                  "No"
                ],
                [
                  "11",
                  "Fiber optic",
                  "Yes",
                  "Yes",
                  "Yes",
                  "Yes",
                  "Yes",
                  "Yes"
                ],
                [
                  "12",
                  "Fiber optic",
                  "No",
                  "No",
                  "No",
                  "No",
                  "No",
                  "No"
                ],
                [
                  "13",
                  "Fiber optic",
                  "Yes",
                  "Yes",
                  "Yes",
                  "No",
                  "Yes",
                  "No"
                ],
                [
                  "14",
                  "DSL",
                  "Yes",
                  "Yes",
                  "Yes",
                  "Yes",
                  "No",
                  "No"
                ],
                [
                  "15",
                  "Fiber optic",
                  "No",
                  "Yes",
                  "Yes",
                  "No",
                  "No",
                  "Yes"
                ],
                [
                  "16",
                  "DSL",
                  "Yes",
                  "No",
                  "Yes",
                  "Yes",
                  "Yes",
                  "Yes"
                ],
                [
                  "17",
                  "Fiber optic",
                  "No",
                  "No",
                  "No",
                  "No",
                  "No",
                  "No"
                ],
                [
                  "18",
                  "DSL",
                  "Yes",
                  "No",
                  "Yes",
                  "No",
                  "No",
                  "Yes"
                ],
                [
                  "19",
                  "DSL",
                  "No",
                  "No",
                  "No",
                  "No",
                  "No",
                  "No"
                ],
                [
                  "20",
                  "No",
                  "No internet service",
                  "No internet service",
                  "No internet service",
                  "No internet service",
                  "No internet service",
                  "No internet service"
                ],
                [
                  "21",
                  "Fiber optic",
                  "No",
                  "Yes",
                  "Yes",
                  "No",
                  "Yes",
                  "No"
                ],
                [
                  "22",
                  "Fiber optic",
                  "No",
                  "No",
                  "No",
                  "No",
                  "Yes",
                  "No"
                ],
                [
                  "23",
                  "No",
                  "No internet service",
                  "No internet service",
                  "No internet service",
                  "No internet service",
                  "No internet service",
                  "No internet service"
                ],
                [
                  "24",
                  "No",
                  "No internet service",
                  "No internet service",
                  "No internet service",
                  "No internet service",
                  "No internet service",
                  "No internet service"
                ],
                [
                  "25",
                  "DSL",
                  "Yes",
                  "No",
                  "No",
                  "No",
                  "No",
                  "No"
                ],
                [
                  "26",
                  "Fiber optic",
                  "No",
                  "Yes",
                  "Yes",
                  "Yes",
                  "Yes",
                  "Yes"
                ],
                [
                  "27",
                  "No",
                  "No internet service",
                  "No internet service",
                  "No internet service",
                  "No internet service",
                  "No internet service",
                  "No internet service"
                ],
                [
                  "28",
                  "No",
                  "No internet service",
                  "No internet service",
                  "No internet service",
                  "No internet service",
                  "No internet service",
                  "No internet service"
                ],
                [
                  "29",
                  "No",
                  "No internet service",
                  "No internet service",
                  "No internet service",
                  "No internet service",
                  "No internet service",
                  "No internet service"
                ],
                [
                  "30",
                  "Fiber optic",
                  "Yes",
                  "No",
                  "No",
                  "No",
                  "No",
                  "No"
                ],
                [
                  "31",
                  "Fiber optic",
                  "No",
                  "No",
                  "No",
                  "No",
                  "Yes",
                  "Yes"
                ],
                [
                  "32",
                  "No",
                  "No internet service",
                  "No internet service",
                  "No internet service",
                  "No internet service",
                  "No internet service",
                  "No internet service"
                ],
                [
                  "33",
                  "Fiber optic",
                  "Yes",
                  "Yes",
                  "Yes",
                  "Yes",
                  "Yes",
                  "Yes"
                ],
                [
                  "34",
                  "No",
                  "No internet service",
                  "No internet service",
                  "No internet service",
                  "No internet service",
                  "No internet service",
                  "No internet service"
                ],
                [
                  "35",
                  "DSL",
                  "Yes",
                  "No",
                  "Yes",
                  "Yes",
                  "No",
                  "No"
                ],
                [
                  "36",
                  "No",
                  "No internet service",
                  "No internet service",
                  "No internet service",
                  "No internet service",
                  "No internet service",
                  "No internet service"
                ],
                [
                  "37",
                  "Fiber optic",
                  "Yes",
                  "No",
                  "No",
                  "No",
                  "Yes",
                  "No"
                ],
                [
                  "38",
                  "Fiber optic",
                  "Yes",
                  "Yes",
                  "No",
                  "No",
                  "Yes",
                  "No"
                ],
                [
                  "39",
                  "No",
                  "No internet service",
                  "No internet service",
                  "No internet service",
                  "No internet service",
                  "No internet service",
                  "No internet service"
                ],
                [
                  "40",
                  "Fiber optic",
                  "No",
                  "No",
                  "No",
                  "No",
                  "No",
                  "No"
                ],
                [
                  "41",
                  "DSL",
                  "Yes",
                  "No",
                  "No",
                  "No",
                  "No",
                  "No"
                ],
                [
                  "42",
                  "DSL",
                  "No",
                  "Yes",
                  "Yes",
                  "Yes",
                  "Yes",
                  "Yes"
                ],
                [
                  "43",
                  "No",
                  "No internet service",
                  "No internet service",
                  "No internet service",
                  "No internet service",
                  "No internet service",
                  "No internet service"
                ],
                [
                  "44",
                  "DSL",
                  "Yes",
                  "Yes",
                  "Yes",
                  "No",
                  "No",
                  "No"
                ],
                [
                  "45",
                  "DSL",
                  "Yes",
                  "Yes",
                  "Yes",
                  "Yes",
                  "No",
                  "No"
                ],
                [
                  "46",
                  "DSL",
                  "No",
                  "Yes",
                  "Yes",
                  "Yes",
                  "Yes",
                  "Yes"
                ],
                [
                  "47",
                  "DSL",
                  "No",
                  "Yes",
                  "No",
                  "No",
                  "No",
                  "No"
                ],
                [
                  "48",
                  "Fiber optic",
                  "No",
                  "No",
                  "Yes",
                  "Yes",
                  "Yes",
                  "Yes"
                ],
                [
                  "49",
                  "DSL",
                  "No",
                  "No",
                  "No",
                  "No",
                  "No",
                  "No"
                ]
              ],
              "shape": {
                "columns": 7,
                "rows": 7267
              }
            },
            "text/html": [
              "<div>\n",
              "<style scoped>\n",
              "    .dataframe tbody tr th:only-of-type {\n",
              "        vertical-align: middle;\n",
              "    }\n",
              "\n",
              "    .dataframe tbody tr th {\n",
              "        vertical-align: top;\n",
              "    }\n",
              "\n",
              "    .dataframe thead th {\n",
              "        text-align: right;\n",
              "    }\n",
              "</style>\n",
              "<table border=\"1\" class=\"dataframe\">\n",
              "  <thead>\n",
              "    <tr style=\"text-align: right;\">\n",
              "      <th></th>\n",
              "      <th>InternetService</th>\n",
              "      <th>OnlineSecurity</th>\n",
              "      <th>OnlineBackup</th>\n",
              "      <th>DeviceProtection</th>\n",
              "      <th>TechSupport</th>\n",
              "      <th>StreamingTV</th>\n",
              "      <th>StreamingMovies</th>\n",
              "    </tr>\n",
              "  </thead>\n",
              "  <tbody>\n",
              "    <tr>\n",
              "      <th>0</th>\n",
              "      <td>DSL</td>\n",
              "      <td>No</td>\n",
              "      <td>Yes</td>\n",
              "      <td>No</td>\n",
              "      <td>Yes</td>\n",
              "      <td>Yes</td>\n",
              "      <td>No</td>\n",
              "    </tr>\n",
              "    <tr>\n",
              "      <th>1</th>\n",
              "      <td>DSL</td>\n",
              "      <td>No</td>\n",
              "      <td>No</td>\n",
              "      <td>No</td>\n",
              "      <td>No</td>\n",
              "      <td>No</td>\n",
              "      <td>Yes</td>\n",
              "    </tr>\n",
              "    <tr>\n",
              "      <th>2</th>\n",
              "      <td>Fiber optic</td>\n",
              "      <td>No</td>\n",
              "      <td>No</td>\n",
              "      <td>Yes</td>\n",
              "      <td>No</td>\n",
              "      <td>No</td>\n",
              "      <td>No</td>\n",
              "    </tr>\n",
              "    <tr>\n",
              "      <th>3</th>\n",
              "      <td>Fiber optic</td>\n",
              "      <td>No</td>\n",
              "      <td>Yes</td>\n",
              "      <td>Yes</td>\n",
              "      <td>No</td>\n",
              "      <td>Yes</td>\n",
              "      <td>Yes</td>\n",
              "    </tr>\n",
              "    <tr>\n",
              "      <th>4</th>\n",
              "      <td>Fiber optic</td>\n",
              "      <td>No</td>\n",
              "      <td>No</td>\n",
              "      <td>No</td>\n",
              "      <td>Yes</td>\n",
              "      <td>Yes</td>\n",
              "      <td>No</td>\n",
              "    </tr>\n",
              "    <tr>\n",
              "      <th>...</th>\n",
              "      <td>...</td>\n",
              "      <td>...</td>\n",
              "      <td>...</td>\n",
              "      <td>...</td>\n",
              "      <td>...</td>\n",
              "      <td>...</td>\n",
              "      <td>...</td>\n",
              "    </tr>\n",
              "    <tr>\n",
              "      <th>7262</th>\n",
              "      <td>DSL</td>\n",
              "      <td>Yes</td>\n",
              "      <td>No</td>\n",
              "      <td>No</td>\n",
              "      <td>Yes</td>\n",
              "      <td>No</td>\n",
              "      <td>No</td>\n",
              "    </tr>\n",
              "    <tr>\n",
              "      <th>7263</th>\n",
              "      <td>Fiber optic</td>\n",
              "      <td>No</td>\n",
              "      <td>No</td>\n",
              "      <td>No</td>\n",
              "      <td>No</td>\n",
              "      <td>No</td>\n",
              "      <td>Yes</td>\n",
              "    </tr>\n",
              "    <tr>\n",
              "      <th>7264</th>\n",
              "      <td>DSL</td>\n",
              "      <td>No</td>\n",
              "      <td>Yes</td>\n",
              "      <td>No</td>\n",
              "      <td>No</td>\n",
              "      <td>No</td>\n",
              "      <td>No</td>\n",
              "    </tr>\n",
              "    <tr>\n",
              "      <th>7265</th>\n",
              "      <td>DSL</td>\n",
              "      <td>Yes</td>\n",
              "      <td>No</td>\n",
              "      <td>Yes</td>\n",
              "      <td>Yes</td>\n",
              "      <td>No</td>\n",
              "      <td>Yes</td>\n",
              "    </tr>\n",
              "    <tr>\n",
              "      <th>7266</th>\n",
              "      <td>DSL</td>\n",
              "      <td>Yes</td>\n",
              "      <td>Yes</td>\n",
              "      <td>Yes</td>\n",
              "      <td>No</td>\n",
              "      <td>Yes</td>\n",
              "      <td>Yes</td>\n",
              "    </tr>\n",
              "  </tbody>\n",
              "</table>\n",
              "<p>7267 rows × 7 columns</p>\n",
              "</div>"
            ],
            "text/plain": [
              "     InternetService OnlineSecurity OnlineBackup DeviceProtection TechSupport  \\\n",
              "0                DSL             No          Yes               No         Yes   \n",
              "1                DSL             No           No               No          No   \n",
              "2        Fiber optic             No           No              Yes          No   \n",
              "3        Fiber optic             No          Yes              Yes          No   \n",
              "4        Fiber optic             No           No               No         Yes   \n",
              "...              ...            ...          ...              ...         ...   \n",
              "7262             DSL            Yes           No               No         Yes   \n",
              "7263     Fiber optic             No           No               No          No   \n",
              "7264             DSL             No          Yes               No          No   \n",
              "7265             DSL            Yes           No              Yes         Yes   \n",
              "7266             DSL            Yes          Yes              Yes          No   \n",
              "\n",
              "     StreamingTV StreamingMovies  \n",
              "0            Yes              No  \n",
              "1             No             Yes  \n",
              "2             No              No  \n",
              "3            Yes             Yes  \n",
              "4            Yes              No  \n",
              "...          ...             ...  \n",
              "7262          No              No  \n",
              "7263          No             Yes  \n",
              "7264          No              No  \n",
              "7265          No             Yes  \n",
              "7266         Yes             Yes  \n",
              "\n",
              "[7267 rows x 7 columns]"
            ]
          },
          "execution_count": 54,
          "metadata": {},
          "output_type": "execute_result"
        }
      ],
      "source": [
        "df_internet = pd.json_normalize(df_index['internet'])\n",
        "df_internet"
      ]
    },
    {
      "cell_type": "code",
      "execution_count": 55,
      "metadata": {},
      "outputs": [
        {
          "data": {
            "application/vnd.microsoft.datawrangler.viewer.v0+json": {
              "columns": [
                {
                  "name": "index",
                  "rawType": "int64",
                  "type": "integer"
                },
                {
                  "name": "Contract",
                  "rawType": "object",
                  "type": "string"
                },
                {
                  "name": "PaperlessBilling",
                  "rawType": "object",
                  "type": "string"
                },
                {
                  "name": "PaymentMethod",
                  "rawType": "object",
                  "type": "string"
                },
                {
                  "name": "Charges.Monthly",
                  "rawType": "float64",
                  "type": "float"
                },
                {
                  "name": "Charges.Total",
                  "rawType": "object",
                  "type": "string"
                }
              ],
              "ref": "03820fd5-32b3-4480-b435-ee981bf07384",
              "rows": [
                [
                  "0",
                  "One year",
                  "Yes",
                  "Mailed check",
                  "65.6",
                  "593.3"
                ],
                [
                  "1",
                  "Month-to-month",
                  "No",
                  "Mailed check",
                  "59.9",
                  "542.4"
                ],
                [
                  "2",
                  "Month-to-month",
                  "Yes",
                  "Electronic check",
                  "73.9",
                  "280.85"
                ],
                [
                  "3",
                  "Month-to-month",
                  "Yes",
                  "Electronic check",
                  "98.0",
                  "1237.85"
                ],
                [
                  "4",
                  "Month-to-month",
                  "Yes",
                  "Mailed check",
                  "83.9",
                  "267.4"
                ],
                [
                  "5",
                  "Month-to-month",
                  "Yes",
                  "Credit card (automatic)",
                  "69.4",
                  "571.45"
                ],
                [
                  "6",
                  "Two year",
                  "Yes",
                  "Bank transfer (automatic)",
                  "109.7",
                  "7904.25"
                ],
                [
                  "7",
                  "Two year",
                  "Yes",
                  "Credit card (automatic)",
                  "84.65",
                  "5377.8"
                ],
                [
                  "8",
                  "Month-to-month",
                  "Yes",
                  "Electronic check",
                  "48.2",
                  "340.35"
                ],
                [
                  "9",
                  "Two year",
                  "Yes",
                  "Mailed check",
                  "90.45",
                  "5957.9"
                ],
                [
                  "10",
                  "Two year",
                  "No",
                  "Credit card (automatic)",
                  "45.2",
                  "2460.55"
                ],
                [
                  "11",
                  "Two year",
                  "Yes",
                  "Credit card (automatic)",
                  "116.8",
                  "8456.75"
                ],
                [
                  "12",
                  "Month-to-month",
                  "Yes",
                  "Electronic check",
                  "68.95",
                  "351.5"
                ],
                [
                  "13",
                  "Two year",
                  "Yes",
                  "Bank transfer (automatic)",
                  "101.3",
                  "7261.25"
                ],
                [
                  "14",
                  "Two year",
                  "No",
                  "Bank transfer (automatic)",
                  "45.05",
                  "2560.1"
                ],
                [
                  "15",
                  "Two year",
                  "Yes",
                  "Credit card (automatic)",
                  "95.75",
                  "6849.4"
                ],
                [
                  "16",
                  "One year",
                  "No",
                  "Mailed check",
                  "61.25",
                  "1993.2"
                ],
                [
                  "17",
                  "Month-to-month",
                  "Yes",
                  "Electronic check",
                  "72.1",
                  "72.1"
                ],
                [
                  "18",
                  "One year",
                  "No",
                  "Credit card (automatic)",
                  "62.7",
                  "2791.5"
                ],
                [
                  "19",
                  "Month-to-month",
                  "Yes",
                  "Electronic check",
                  "25.1",
                  "25.1"
                ],
                [
                  "20",
                  "One year",
                  "No",
                  "Electronic check",
                  "25.2",
                  "1306.3"
                ],
                [
                  "21",
                  "Month-to-month",
                  "No",
                  "Electronic check",
                  "94.1",
                  "1215.6"
                ],
                [
                  "22",
                  "Month-to-month",
                  "Yes",
                  "Electronic check",
                  "83.75",
                  "1849.95"
                ],
                [
                  "23",
                  "Month-to-month",
                  "No",
                  "Mailed check",
                  "19.85",
                  "57.2"
                ],
                [
                  "24",
                  "Month-to-month",
                  "No",
                  "Mailed check",
                  "20.35",
                  "76.35"
                ],
                [
                  "25",
                  "Month-to-month",
                  "No",
                  "Bank transfer (automatic)",
                  "30.5",
                  "30.5"
                ],
                [
                  "26",
                  "One year",
                  "Yes",
                  "Bank transfer (automatic)",
                  "103.7",
                  "5656.75"
                ],
                [
                  "27",
                  "Two year",
                  "No",
                  "Credit card (automatic)",
                  "20.4",
                  "1090.6"
                ],
                [
                  "28",
                  "One year",
                  "Yes",
                  "Bank transfer (automatic)",
                  "19.6",
                  "471.85"
                ],
                [
                  "29",
                  "Two year",
                  "No",
                  "Bank transfer (automatic)",
                  "19.7",
                  "1396.9"
                ],
                [
                  "30",
                  "Month-to-month",
                  "Yes",
                  "Bank transfer (automatic)",
                  "79.0",
                  "929.3"
                ],
                [
                  "31",
                  "One year",
                  "No",
                  "Credit card (automatic)",
                  "91.2",
                  "3247.55"
                ],
                [
                  "32",
                  "One year",
                  "No",
                  "Bank transfer (automatic)",
                  "20.45",
                  "900.9"
                ],
                [
                  "33",
                  "One year",
                  "No",
                  "Bank transfer (automatic)",
                  "115.8",
                  "7942.15"
                ],
                [
                  "34",
                  "One year",
                  "No",
                  "Electronic check",
                  "20.55",
                  "1343.4"
                ],
                [
                  "35",
                  "Two year",
                  "Yes",
                  "Credit card (automatic)",
                  "39.4",
                  "825.4"
                ],
                [
                  "36",
                  "Two year",
                  "Yes",
                  "Electronic check",
                  "25.1",
                  "1070.15"
                ],
                [
                  "37",
                  "Month-to-month",
                  "Yes",
                  "Bank transfer (automatic)",
                  "89.8",
                  "4959.6"
                ],
                [
                  "38",
                  "Month-to-month",
                  "Yes",
                  "Electronic check",
                  "94.75",
                  "5597.65"
                ],
                [
                  "39",
                  "Two year",
                  "No",
                  "Bank transfer (automatic)",
                  "20.3",
                  "224.5"
                ],
                [
                  "40",
                  "Month-to-month",
                  "Yes",
                  "Bank transfer (automatic)",
                  "75.75",
                  "1929"
                ],
                [
                  "41",
                  "Month-to-month",
                  "Yes",
                  "Electronic check",
                  "49.25",
                  "91.1"
                ],
                [
                  "42",
                  "One year",
                  "No",
                  "Mailed check",
                  "78.2",
                  "2078.95"
                ],
                [
                  "43",
                  "Two year",
                  "No",
                  "Credit card (automatic)",
                  "25.5",
                  "630.6"
                ],
                [
                  "44",
                  "One year",
                  "Yes",
                  "Bank transfer (automatic)",
                  "61.6",
                  "1611"
                ],
                [
                  "45",
                  "Month-to-month",
                  "Yes",
                  "Mailed check",
                  "45.0",
                  "1242.45"
                ],
                [
                  "46",
                  "Two year",
                  "Yes",
                  "Bank transfer (automatic)",
                  "85.15",
                  "6316.2"
                ],
                [
                  "47",
                  "One year",
                  "No",
                  "Credit card (automatic)",
                  "51.45",
                  "727.85"
                ],
                [
                  "48",
                  "One year",
                  "Yes",
                  "Electronic check",
                  "99.25",
                  "3532"
                ],
                [
                  "49",
                  "Month-to-month",
                  "Yes",
                  "Mailed check",
                  "44.3",
                  "44.3"
                ]
              ],
              "shape": {
                "columns": 5,
                "rows": 7267
              }
            },
            "text/html": [
              "<div>\n",
              "<style scoped>\n",
              "    .dataframe tbody tr th:only-of-type {\n",
              "        vertical-align: middle;\n",
              "    }\n",
              "\n",
              "    .dataframe tbody tr th {\n",
              "        vertical-align: top;\n",
              "    }\n",
              "\n",
              "    .dataframe thead th {\n",
              "        text-align: right;\n",
              "    }\n",
              "</style>\n",
              "<table border=\"1\" class=\"dataframe\">\n",
              "  <thead>\n",
              "    <tr style=\"text-align: right;\">\n",
              "      <th></th>\n",
              "      <th>Contract</th>\n",
              "      <th>PaperlessBilling</th>\n",
              "      <th>PaymentMethod</th>\n",
              "      <th>Charges.Monthly</th>\n",
              "      <th>Charges.Total</th>\n",
              "    </tr>\n",
              "  </thead>\n",
              "  <tbody>\n",
              "    <tr>\n",
              "      <th>0</th>\n",
              "      <td>One year</td>\n",
              "      <td>Yes</td>\n",
              "      <td>Mailed check</td>\n",
              "      <td>65.60</td>\n",
              "      <td>593.3</td>\n",
              "    </tr>\n",
              "    <tr>\n",
              "      <th>1</th>\n",
              "      <td>Month-to-month</td>\n",
              "      <td>No</td>\n",
              "      <td>Mailed check</td>\n",
              "      <td>59.90</td>\n",
              "      <td>542.4</td>\n",
              "    </tr>\n",
              "    <tr>\n",
              "      <th>2</th>\n",
              "      <td>Month-to-month</td>\n",
              "      <td>Yes</td>\n",
              "      <td>Electronic check</td>\n",
              "      <td>73.90</td>\n",
              "      <td>280.85</td>\n",
              "    </tr>\n",
              "    <tr>\n",
              "      <th>3</th>\n",
              "      <td>Month-to-month</td>\n",
              "      <td>Yes</td>\n",
              "      <td>Electronic check</td>\n",
              "      <td>98.00</td>\n",
              "      <td>1237.85</td>\n",
              "    </tr>\n",
              "    <tr>\n",
              "      <th>4</th>\n",
              "      <td>Month-to-month</td>\n",
              "      <td>Yes</td>\n",
              "      <td>Mailed check</td>\n",
              "      <td>83.90</td>\n",
              "      <td>267.4</td>\n",
              "    </tr>\n",
              "    <tr>\n",
              "      <th>...</th>\n",
              "      <td>...</td>\n",
              "      <td>...</td>\n",
              "      <td>...</td>\n",
              "      <td>...</td>\n",
              "      <td>...</td>\n",
              "    </tr>\n",
              "    <tr>\n",
              "      <th>7262</th>\n",
              "      <td>One year</td>\n",
              "      <td>No</td>\n",
              "      <td>Mailed check</td>\n",
              "      <td>55.15</td>\n",
              "      <td>742.9</td>\n",
              "    </tr>\n",
              "    <tr>\n",
              "      <th>7263</th>\n",
              "      <td>Month-to-month</td>\n",
              "      <td>Yes</td>\n",
              "      <td>Electronic check</td>\n",
              "      <td>85.10</td>\n",
              "      <td>1873.7</td>\n",
              "    </tr>\n",
              "    <tr>\n",
              "      <th>7264</th>\n",
              "      <td>Month-to-month</td>\n",
              "      <td>Yes</td>\n",
              "      <td>Mailed check</td>\n",
              "      <td>50.30</td>\n",
              "      <td>92.75</td>\n",
              "    </tr>\n",
              "    <tr>\n",
              "      <th>7265</th>\n",
              "      <td>Two year</td>\n",
              "      <td>No</td>\n",
              "      <td>Mailed check</td>\n",
              "      <td>67.85</td>\n",
              "      <td>4627.65</td>\n",
              "    </tr>\n",
              "    <tr>\n",
              "      <th>7266</th>\n",
              "      <td>Two year</td>\n",
              "      <td>No</td>\n",
              "      <td>Electronic check</td>\n",
              "      <td>59.00</td>\n",
              "      <td>3707.6</td>\n",
              "    </tr>\n",
              "  </tbody>\n",
              "</table>\n",
              "<p>7267 rows × 5 columns</p>\n",
              "</div>"
            ],
            "text/plain": [
              "            Contract PaperlessBilling     PaymentMethod  Charges.Monthly  \\\n",
              "0           One year              Yes      Mailed check            65.60   \n",
              "1     Month-to-month               No      Mailed check            59.90   \n",
              "2     Month-to-month              Yes  Electronic check            73.90   \n",
              "3     Month-to-month              Yes  Electronic check            98.00   \n",
              "4     Month-to-month              Yes      Mailed check            83.90   \n",
              "...              ...              ...               ...              ...   \n",
              "7262        One year               No      Mailed check            55.15   \n",
              "7263  Month-to-month              Yes  Electronic check            85.10   \n",
              "7264  Month-to-month              Yes      Mailed check            50.30   \n",
              "7265        Two year               No      Mailed check            67.85   \n",
              "7266        Two year               No  Electronic check            59.00   \n",
              "\n",
              "     Charges.Total  \n",
              "0            593.3  \n",
              "1            542.4  \n",
              "2           280.85  \n",
              "3          1237.85  \n",
              "4            267.4  \n",
              "...            ...  \n",
              "7262         742.9  \n",
              "7263        1873.7  \n",
              "7264         92.75  \n",
              "7265       4627.65  \n",
              "7266        3707.6  \n",
              "\n",
              "[7267 rows x 5 columns]"
            ]
          },
          "execution_count": 55,
          "metadata": {},
          "output_type": "execute_result"
        }
      ],
      "source": [
        "df_account = pd.json_normalize(df_index['account'])\n",
        "df_account"
      ]
    },
    {
      "cell_type": "code",
      "execution_count": 56,
      "metadata": {},
      "outputs": [],
      "source": [
        "colunas_originais = ['customerID', 'Churn']\n",
        "df_colunas_originais = df[colunas_originais]"
      ]
    },
    {
      "cell_type": "code",
      "execution_count": 59,
      "metadata": {},
      "outputs": [],
      "source": [
        "df_concatenada = pd.concat([df_colunas_originais, df_customer, df_phone, df_internet, df_account], axis=1)"
      ]
    },
    {
      "cell_type": "code",
      "execution_count": 60,
      "metadata": {},
      "outputs": [
        {
          "data": {
            "application/vnd.microsoft.datawrangler.viewer.v0+json": {
              "columns": [
                {
                  "name": "index",
                  "rawType": "int64",
                  "type": "integer"
                },
                {
                  "name": "customerID",
                  "rawType": "object",
                  "type": "string"
                },
                {
                  "name": "Churn",
                  "rawType": "object",
                  "type": "string"
                },
                {
                  "name": "gender",
                  "rawType": "object",
                  "type": "string"
                },
                {
                  "name": "SeniorCitizen",
                  "rawType": "int64",
                  "type": "integer"
                },
                {
                  "name": "Partner",
                  "rawType": "object",
                  "type": "string"
                },
                {
                  "name": "Dependents",
                  "rawType": "object",
                  "type": "string"
                },
                {
                  "name": "tenure",
                  "rawType": "int64",
                  "type": "integer"
                },
                {
                  "name": "PhoneService",
                  "rawType": "object",
                  "type": "string"
                },
                {
                  "name": "MultipleLines",
                  "rawType": "object",
                  "type": "string"
                },
                {
                  "name": "InternetService",
                  "rawType": "object",
                  "type": "string"
                },
                {
                  "name": "OnlineSecurity",
                  "rawType": "object",
                  "type": "string"
                },
                {
                  "name": "OnlineBackup",
                  "rawType": "object",
                  "type": "string"
                },
                {
                  "name": "DeviceProtection",
                  "rawType": "object",
                  "type": "string"
                },
                {
                  "name": "TechSupport",
                  "rawType": "object",
                  "type": "string"
                },
                {
                  "name": "StreamingTV",
                  "rawType": "object",
                  "type": "string"
                },
                {
                  "name": "StreamingMovies",
                  "rawType": "object",
                  "type": "string"
                },
                {
                  "name": "Contract",
                  "rawType": "object",
                  "type": "string"
                },
                {
                  "name": "PaperlessBilling",
                  "rawType": "object",
                  "type": "string"
                },
                {
                  "name": "PaymentMethod",
                  "rawType": "object",
                  "type": "string"
                },
                {
                  "name": "Charges.Monthly",
                  "rawType": "float64",
                  "type": "float"
                },
                {
                  "name": "Charges.Total",
                  "rawType": "object",
                  "type": "string"
                }
              ],
              "ref": "baeb703a-6095-496e-a9e3-016aa7c3aa88",
              "rows": [
                [
                  "0",
                  "0002-ORFBO",
                  "No",
                  "Female",
                  "0",
                  "Yes",
                  "Yes",
                  "9",
                  "Yes",
                  "No",
                  "DSL",
                  "No",
                  "Yes",
                  "No",
                  "Yes",
                  "Yes",
                  "No",
                  "One year",
                  "Yes",
                  "Mailed check",
                  "65.6",
                  "593.3"
                ],
                [
                  "1",
                  "0003-MKNFE",
                  "No",
                  "Male",
                  "0",
                  "No",
                  "No",
                  "9",
                  "Yes",
                  "Yes",
                  "DSL",
                  "No",
                  "No",
                  "No",
                  "No",
                  "No",
                  "Yes",
                  "Month-to-month",
                  "No",
                  "Mailed check",
                  "59.9",
                  "542.4"
                ],
                [
                  "2",
                  "0004-TLHLJ",
                  "Yes",
                  "Male",
                  "0",
                  "No",
                  "No",
                  "4",
                  "Yes",
                  "No",
                  "Fiber optic",
                  "No",
                  "No",
                  "Yes",
                  "No",
                  "No",
                  "No",
                  "Month-to-month",
                  "Yes",
                  "Electronic check",
                  "73.9",
                  "280.85"
                ],
                [
                  "3",
                  "0011-IGKFF",
                  "Yes",
                  "Male",
                  "1",
                  "Yes",
                  "No",
                  "13",
                  "Yes",
                  "No",
                  "Fiber optic",
                  "No",
                  "Yes",
                  "Yes",
                  "No",
                  "Yes",
                  "Yes",
                  "Month-to-month",
                  "Yes",
                  "Electronic check",
                  "98.0",
                  "1237.85"
                ],
                [
                  "4",
                  "0013-EXCHZ",
                  "Yes",
                  "Female",
                  "1",
                  "Yes",
                  "No",
                  "3",
                  "Yes",
                  "No",
                  "Fiber optic",
                  "No",
                  "No",
                  "No",
                  "Yes",
                  "Yes",
                  "No",
                  "Month-to-month",
                  "Yes",
                  "Mailed check",
                  "83.9",
                  "267.4"
                ],
                [
                  "5",
                  "0013-MHZWF",
                  "No",
                  "Female",
                  "0",
                  "No",
                  "Yes",
                  "9",
                  "Yes",
                  "No",
                  "DSL",
                  "No",
                  "No",
                  "No",
                  "Yes",
                  "Yes",
                  "Yes",
                  "Month-to-month",
                  "Yes",
                  "Credit card (automatic)",
                  "69.4",
                  "571.45"
                ],
                [
                  "6",
                  "0013-SMEOE",
                  "No",
                  "Female",
                  "1",
                  "Yes",
                  "No",
                  "71",
                  "Yes",
                  "No",
                  "Fiber optic",
                  "Yes",
                  "Yes",
                  "Yes",
                  "Yes",
                  "Yes",
                  "Yes",
                  "Two year",
                  "Yes",
                  "Bank transfer (automatic)",
                  "109.7",
                  "7904.25"
                ],
                [
                  "7",
                  "0014-BMAQU",
                  "No",
                  "Male",
                  "0",
                  "Yes",
                  "No",
                  "63",
                  "Yes",
                  "Yes",
                  "Fiber optic",
                  "Yes",
                  "No",
                  "No",
                  "Yes",
                  "No",
                  "No",
                  "Two year",
                  "Yes",
                  "Credit card (automatic)",
                  "84.65",
                  "5377.8"
                ],
                [
                  "8",
                  "0015-UOCOJ",
                  "No",
                  "Female",
                  "1",
                  "No",
                  "No",
                  "7",
                  "Yes",
                  "No",
                  "DSL",
                  "Yes",
                  "No",
                  "No",
                  "No",
                  "No",
                  "No",
                  "Month-to-month",
                  "Yes",
                  "Electronic check",
                  "48.2",
                  "340.35"
                ],
                [
                  "9",
                  "0016-QLJIS",
                  "No",
                  "Female",
                  "0",
                  "Yes",
                  "Yes",
                  "65",
                  "Yes",
                  "Yes",
                  "DSL",
                  "Yes",
                  "Yes",
                  "Yes",
                  "Yes",
                  "Yes",
                  "Yes",
                  "Two year",
                  "Yes",
                  "Mailed check",
                  "90.45",
                  "5957.9"
                ],
                [
                  "10",
                  "0017-DINOC",
                  "No",
                  "Male",
                  "0",
                  "No",
                  "No",
                  "54",
                  "No",
                  "No phone service",
                  "DSL",
                  "Yes",
                  "No",
                  "No",
                  "Yes",
                  "Yes",
                  "No",
                  "Two year",
                  "No",
                  "Credit card (automatic)",
                  "45.2",
                  "2460.55"
                ],
                [
                  "11",
                  "0017-IUDMW",
                  "No",
                  "Female",
                  "0",
                  "Yes",
                  "Yes",
                  "72",
                  "Yes",
                  "Yes",
                  "Fiber optic",
                  "Yes",
                  "Yes",
                  "Yes",
                  "Yes",
                  "Yes",
                  "Yes",
                  "Two year",
                  "Yes",
                  "Credit card (automatic)",
                  "116.8",
                  "8456.75"
                ],
                [
                  "12",
                  "0018-NYROU",
                  "No",
                  "Female",
                  "0",
                  "Yes",
                  "No",
                  "5",
                  "Yes",
                  "No",
                  "Fiber optic",
                  "No",
                  "No",
                  "No",
                  "No",
                  "No",
                  "No",
                  "Month-to-month",
                  "Yes",
                  "Electronic check",
                  "68.95",
                  "351.5"
                ],
                [
                  "13",
                  "0019-EFAEP",
                  "No",
                  "Female",
                  "0",
                  "No",
                  "No",
                  "72",
                  "Yes",
                  "Yes",
                  "Fiber optic",
                  "Yes",
                  "Yes",
                  "Yes",
                  "No",
                  "Yes",
                  "No",
                  "Two year",
                  "Yes",
                  "Bank transfer (automatic)",
                  "101.3",
                  "7261.25"
                ],
                [
                  "14",
                  "0019-GFNTW",
                  "No",
                  "Female",
                  "0",
                  "No",
                  "No",
                  "56",
                  "No",
                  "No phone service",
                  "DSL",
                  "Yes",
                  "Yes",
                  "Yes",
                  "Yes",
                  "No",
                  "No",
                  "Two year",
                  "No",
                  "Bank transfer (automatic)",
                  "45.05",
                  "2560.1"
                ],
                [
                  "15",
                  "0020-INWCK",
                  "No",
                  "Female",
                  "0",
                  "Yes",
                  "Yes",
                  "71",
                  "Yes",
                  "Yes",
                  "Fiber optic",
                  "No",
                  "Yes",
                  "Yes",
                  "No",
                  "No",
                  "Yes",
                  "Two year",
                  "Yes",
                  "Credit card (automatic)",
                  "95.75",
                  "6849.4"
                ],
                [
                  "16",
                  "0020-JDNXP",
                  "No",
                  "Female",
                  "0",
                  "Yes",
                  "Yes",
                  "34",
                  "No",
                  "No phone service",
                  "DSL",
                  "Yes",
                  "No",
                  "Yes",
                  "Yes",
                  "Yes",
                  "Yes",
                  "One year",
                  "No",
                  "Mailed check",
                  "61.25",
                  "1993.2"
                ],
                [
                  "17",
                  "0021-IKXGC",
                  "No",
                  "Female",
                  "1",
                  "No",
                  "No",
                  "1",
                  "Yes",
                  "Yes",
                  "Fiber optic",
                  "No",
                  "No",
                  "No",
                  "No",
                  "No",
                  "No",
                  "Month-to-month",
                  "Yes",
                  "Electronic check",
                  "72.1",
                  "72.1"
                ],
                [
                  "18",
                  "0022-TCJCI",
                  "Yes",
                  "Male",
                  "1",
                  "No",
                  "No",
                  "45",
                  "Yes",
                  "No",
                  "DSL",
                  "Yes",
                  "No",
                  "Yes",
                  "No",
                  "No",
                  "Yes",
                  "One year",
                  "No",
                  "Credit card (automatic)",
                  "62.7",
                  "2791.5"
                ],
                [
                  "19",
                  "0023-HGHWL",
                  "Yes",
                  "Male",
                  "1",
                  "No",
                  "No",
                  "1",
                  "No",
                  "No phone service",
                  "DSL",
                  "No",
                  "No",
                  "No",
                  "No",
                  "No",
                  "No",
                  "Month-to-month",
                  "Yes",
                  "Electronic check",
                  "25.1",
                  "25.1"
                ],
                [
                  "20",
                  "0023-UYUPN",
                  "No",
                  "Female",
                  "1",
                  "Yes",
                  "No",
                  "50",
                  "Yes",
                  "Yes",
                  "No",
                  "No internet service",
                  "No internet service",
                  "No internet service",
                  "No internet service",
                  "No internet service",
                  "No internet service",
                  "One year",
                  "No",
                  "Electronic check",
                  "25.2",
                  "1306.3"
                ],
                [
                  "21",
                  "0023-XUOPT",
                  "Yes",
                  "Female",
                  "0",
                  "Yes",
                  "No",
                  "13",
                  "Yes",
                  "Yes",
                  "Fiber optic",
                  "No",
                  "Yes",
                  "Yes",
                  "No",
                  "Yes",
                  "No",
                  "Month-to-month",
                  "No",
                  "Electronic check",
                  "94.1",
                  "1215.6"
                ],
                [
                  "22",
                  "0027-KWYKW",
                  "No",
                  "Female",
                  "0",
                  "Yes",
                  "Yes",
                  "23",
                  "Yes",
                  "Yes",
                  "Fiber optic",
                  "No",
                  "No",
                  "No",
                  "No",
                  "Yes",
                  "No",
                  "Month-to-month",
                  "Yes",
                  "Electronic check",
                  "83.75",
                  "1849.95"
                ],
                [
                  "23",
                  "0030-FNXPP",
                  "No",
                  "Female",
                  "0",
                  "No",
                  "No",
                  "3",
                  "Yes",
                  "No",
                  "No",
                  "No internet service",
                  "No internet service",
                  "No internet service",
                  "No internet service",
                  "No internet service",
                  "No internet service",
                  "Month-to-month",
                  "No",
                  "Mailed check",
                  "19.85",
                  "57.2"
                ],
                [
                  "24",
                  "0031-PVLZI",
                  "Yes",
                  "Female",
                  "0",
                  "Yes",
                  "Yes",
                  "4",
                  "Yes",
                  "No",
                  "No",
                  "No internet service",
                  "No internet service",
                  "No internet service",
                  "No internet service",
                  "No internet service",
                  "No internet service",
                  "Month-to-month",
                  "No",
                  "Mailed check",
                  "20.35",
                  "76.35"
                ],
                [
                  "25",
                  "0032-PGELS",
                  "Yes",
                  "Female",
                  "0",
                  "Yes",
                  "Yes",
                  "1",
                  "No",
                  "No phone service",
                  "DSL",
                  "Yes",
                  "No",
                  "No",
                  "No",
                  "No",
                  "No",
                  "Month-to-month",
                  "No",
                  "Bank transfer (automatic)",
                  "30.5",
                  "30.5"
                ],
                [
                  "26",
                  "0036-IHMOT",
                  "No",
                  "Female",
                  "0",
                  "Yes",
                  "Yes",
                  "55",
                  "Yes",
                  "No",
                  "Fiber optic",
                  "No",
                  "Yes",
                  "Yes",
                  "Yes",
                  "Yes",
                  "Yes",
                  "One year",
                  "Yes",
                  "Bank transfer (automatic)",
                  "103.7",
                  "5656.75"
                ],
                [
                  "27",
                  "0040-HALCW",
                  "No",
                  "Male",
                  "0",
                  "Yes",
                  "Yes",
                  "54",
                  "Yes",
                  "No",
                  "No",
                  "No internet service",
                  "No internet service",
                  "No internet service",
                  "No internet service",
                  "No internet service",
                  "No internet service",
                  "Two year",
                  "No",
                  "Credit card (automatic)",
                  "20.4",
                  "1090.6"
                ],
                [
                  "28",
                  "0042-JVWOJ",
                  "No",
                  "Male",
                  "0",
                  "No",
                  "No",
                  "26",
                  "Yes",
                  "No",
                  "No",
                  "No internet service",
                  "No internet service",
                  "No internet service",
                  "No internet service",
                  "No internet service",
                  "No internet service",
                  "One year",
                  "Yes",
                  "Bank transfer (automatic)",
                  "19.6",
                  "471.85"
                ],
                [
                  "29",
                  "0042-RLHYP",
                  "No",
                  "Female",
                  "0",
                  "Yes",
                  "Yes",
                  "69",
                  "Yes",
                  "No",
                  "No",
                  "No internet service",
                  "No internet service",
                  "No internet service",
                  "No internet service",
                  "No internet service",
                  "No internet service",
                  "Two year",
                  "No",
                  "Bank transfer (automatic)",
                  "19.7",
                  "1396.9"
                ],
                [
                  "30",
                  "0047-ZHDTW",
                  "",
                  "Female",
                  "0",
                  "No",
                  "No",
                  "11",
                  "Yes",
                  "Yes",
                  "Fiber optic",
                  "Yes",
                  "No",
                  "No",
                  "No",
                  "No",
                  "No",
                  "Month-to-month",
                  "Yes",
                  "Bank transfer (automatic)",
                  "79.0",
                  "929.3"
                ],
                [
                  "31",
                  "0048-LUMLS",
                  "No",
                  "Male",
                  "0",
                  "Yes",
                  "Yes",
                  "37",
                  "Yes",
                  "No",
                  "Fiber optic",
                  "No",
                  "No",
                  "No",
                  "No",
                  "Yes",
                  "Yes",
                  "One year",
                  "No",
                  "Credit card (automatic)",
                  "91.2",
                  "3247.55"
                ],
                [
                  "32",
                  "0048-PIHNL",
                  "No",
                  "Female",
                  "0",
                  "Yes",
                  "No",
                  "49",
                  "Yes",
                  "No",
                  "No",
                  "No internet service",
                  "No internet service",
                  "No internet service",
                  "No internet service",
                  "No internet service",
                  "No internet service",
                  "One year",
                  "No",
                  "Bank transfer (automatic)",
                  "20.45",
                  "900.9"
                ],
                [
                  "33",
                  "0052-DCKON",
                  "No",
                  "Male",
                  "0",
                  "Yes",
                  "No",
                  "66",
                  "Yes",
                  "Yes",
                  "Fiber optic",
                  "Yes",
                  "Yes",
                  "Yes",
                  "Yes",
                  "Yes",
                  "Yes",
                  "One year",
                  "No",
                  "Bank transfer (automatic)",
                  "115.8",
                  "7942.15"
                ],
                [
                  "34",
                  "0052-YNYOT",
                  "No",
                  "Female",
                  "0",
                  "No",
                  "No",
                  "67",
                  "Yes",
                  "No",
                  "No",
                  "No internet service",
                  "No internet service",
                  "No internet service",
                  "No internet service",
                  "No internet service",
                  "No internet service",
                  "One year",
                  "No",
                  "Electronic check",
                  "20.55",
                  "1343.4"
                ],
                [
                  "35",
                  "0056-EPFBG",
                  "No",
                  "Male",
                  "0",
                  "Yes",
                  "Yes",
                  "20",
                  "No",
                  "No phone service",
                  "DSL",
                  "Yes",
                  "No",
                  "Yes",
                  "Yes",
                  "No",
                  "No",
                  "Two year",
                  "Yes",
                  "Credit card (automatic)",
                  "39.4",
                  "825.4"
                ],
                [
                  "36",
                  "0057-QBUQH",
                  "No",
                  "Female",
                  "0",
                  "No",
                  "Yes",
                  "43",
                  "Yes",
                  "Yes",
                  "No",
                  "No internet service",
                  "No internet service",
                  "No internet service",
                  "No internet service",
                  "No internet service",
                  "No internet service",
                  "Two year",
                  "Yes",
                  "Electronic check",
                  "25.1",
                  "1070.15"
                ],
                [
                  "37",
                  "0058-EVZWM",
                  "No",
                  "Female",
                  "0",
                  "Yes",
                  "No",
                  "55",
                  "Yes",
                  "Yes",
                  "Fiber optic",
                  "Yes",
                  "No",
                  "No",
                  "No",
                  "Yes",
                  "No",
                  "Month-to-month",
                  "Yes",
                  "Bank transfer (automatic)",
                  "89.8",
                  "4959.6"
                ],
                [
                  "38",
                  "0060-FUALY",
                  "No",
                  "Female",
                  "0",
                  "Yes",
                  "No",
                  "59",
                  "Yes",
                  "Yes",
                  "Fiber optic",
                  "Yes",
                  "Yes",
                  "No",
                  "No",
                  "Yes",
                  "No",
                  "Month-to-month",
                  "Yes",
                  "Electronic check",
                  "94.75",
                  "5597.65"
                ],
                [
                  "39",
                  "0064-SUDOG",
                  "No",
                  "Female",
                  "0",
                  "Yes",
                  "Yes",
                  "12",
                  "Yes",
                  "No",
                  "No",
                  "No internet service",
                  "No internet service",
                  "No internet service",
                  "No internet service",
                  "No internet service",
                  "No internet service",
                  "Two year",
                  "No",
                  "Bank transfer (automatic)",
                  "20.3",
                  "224.5"
                ],
                [
                  "40",
                  "0064-YIJGF",
                  "No",
                  "Male",
                  "0",
                  "Yes",
                  "Yes",
                  "27",
                  "Yes",
                  "Yes",
                  "Fiber optic",
                  "No",
                  "No",
                  "No",
                  "No",
                  "No",
                  "No",
                  "Month-to-month",
                  "Yes",
                  "Bank transfer (automatic)",
                  "75.75",
                  "1929"
                ],
                [
                  "41",
                  "0067-DKWBL",
                  "Yes",
                  "Male",
                  "1",
                  "No",
                  "No",
                  "2",
                  "Yes",
                  "No",
                  "DSL",
                  "Yes",
                  "No",
                  "No",
                  "No",
                  "No",
                  "No",
                  "Month-to-month",
                  "Yes",
                  "Electronic check",
                  "49.25",
                  "91.1"
                ],
                [
                  "42",
                  "0068-FIGTF",
                  "No",
                  "Female",
                  "0",
                  "No",
                  "No",
                  "27",
                  "Yes",
                  "No",
                  "DSL",
                  "No",
                  "Yes",
                  "Yes",
                  "Yes",
                  "Yes",
                  "Yes",
                  "One year",
                  "No",
                  "Mailed check",
                  "78.2",
                  "2078.95"
                ],
                [
                  "43",
                  "0071-NDAFP",
                  "No",
                  "Male",
                  "0",
                  "Yes",
                  "Yes",
                  "25",
                  "Yes",
                  "Yes",
                  "No",
                  "No internet service",
                  "No internet service",
                  "No internet service",
                  "No internet service",
                  "No internet service",
                  "No internet service",
                  "Two year",
                  "No",
                  "Credit card (automatic)",
                  "25.5",
                  "630.6"
                ],
                [
                  "44",
                  "0074-HDKDG",
                  "No",
                  "Male",
                  "0",
                  "Yes",
                  "Yes",
                  "25",
                  "Yes",
                  "No",
                  "DSL",
                  "Yes",
                  "Yes",
                  "Yes",
                  "No",
                  "No",
                  "No",
                  "One year",
                  "Yes",
                  "Bank transfer (automatic)",
                  "61.6",
                  "1611"
                ],
                [
                  "45",
                  "0076-LVEPS",
                  "No",
                  "Male",
                  "0",
                  "No",
                  "Yes",
                  "29",
                  "No",
                  "No phone service",
                  "DSL",
                  "Yes",
                  "Yes",
                  "Yes",
                  "Yes",
                  "No",
                  "No",
                  "Month-to-month",
                  "Yes",
                  "Mailed check",
                  "45.0",
                  "1242.45"
                ],
                [
                  "46",
                  "0078-XZMHT",
                  "No",
                  "Male",
                  "0",
                  "Yes",
                  "No",
                  "72",
                  "Yes",
                  "Yes",
                  "DSL",
                  "No",
                  "Yes",
                  "Yes",
                  "Yes",
                  "Yes",
                  "Yes",
                  "Two year",
                  "Yes",
                  "Bank transfer (automatic)",
                  "85.15",
                  "6316.2"
                ],
                [
                  "47",
                  "0080-EMYVY",
                  "No",
                  "Female",
                  "0",
                  "No",
                  "No",
                  "14",
                  "Yes",
                  "No",
                  "DSL",
                  "No",
                  "Yes",
                  "No",
                  "No",
                  "No",
                  "No",
                  "One year",
                  "No",
                  "Credit card (automatic)",
                  "51.45",
                  "727.85"
                ],
                [
                  "48",
                  "0080-OROZO",
                  "No",
                  "Female",
                  "0",
                  "No",
                  "No",
                  "35",
                  "Yes",
                  "No",
                  "Fiber optic",
                  "No",
                  "No",
                  "Yes",
                  "Yes",
                  "Yes",
                  "Yes",
                  "One year",
                  "Yes",
                  "Electronic check",
                  "99.25",
                  "3532"
                ],
                [
                  "49",
                  "0082-LDZUE",
                  "No",
                  "Male",
                  "0",
                  "No",
                  "No",
                  "1",
                  "Yes",
                  "No",
                  "DSL",
                  "No",
                  "No",
                  "No",
                  "No",
                  "No",
                  "No",
                  "Month-to-month",
                  "Yes",
                  "Mailed check",
                  "44.3",
                  "44.3"
                ]
              ],
              "shape": {
                "columns": 21,
                "rows": 7267
              }
            },
            "text/html": [
              "<div>\n",
              "<style scoped>\n",
              "    .dataframe tbody tr th:only-of-type {\n",
              "        vertical-align: middle;\n",
              "    }\n",
              "\n",
              "    .dataframe tbody tr th {\n",
              "        vertical-align: top;\n",
              "    }\n",
              "\n",
              "    .dataframe thead th {\n",
              "        text-align: right;\n",
              "    }\n",
              "</style>\n",
              "<table border=\"1\" class=\"dataframe\">\n",
              "  <thead>\n",
              "    <tr style=\"text-align: right;\">\n",
              "      <th></th>\n",
              "      <th>customerID</th>\n",
              "      <th>Churn</th>\n",
              "      <th>gender</th>\n",
              "      <th>SeniorCitizen</th>\n",
              "      <th>Partner</th>\n",
              "      <th>Dependents</th>\n",
              "      <th>tenure</th>\n",
              "      <th>PhoneService</th>\n",
              "      <th>MultipleLines</th>\n",
              "      <th>InternetService</th>\n",
              "      <th>...</th>\n",
              "      <th>OnlineBackup</th>\n",
              "      <th>DeviceProtection</th>\n",
              "      <th>TechSupport</th>\n",
              "      <th>StreamingTV</th>\n",
              "      <th>StreamingMovies</th>\n",
              "      <th>Contract</th>\n",
              "      <th>PaperlessBilling</th>\n",
              "      <th>PaymentMethod</th>\n",
              "      <th>Charges.Monthly</th>\n",
              "      <th>Charges.Total</th>\n",
              "    </tr>\n",
              "  </thead>\n",
              "  <tbody>\n",
              "    <tr>\n",
              "      <th>0</th>\n",
              "      <td>0002-ORFBO</td>\n",
              "      <td>No</td>\n",
              "      <td>Female</td>\n",
              "      <td>0</td>\n",
              "      <td>Yes</td>\n",
              "      <td>Yes</td>\n",
              "      <td>9</td>\n",
              "      <td>Yes</td>\n",
              "      <td>No</td>\n",
              "      <td>DSL</td>\n",
              "      <td>...</td>\n",
              "      <td>Yes</td>\n",
              "      <td>No</td>\n",
              "      <td>Yes</td>\n",
              "      <td>Yes</td>\n",
              "      <td>No</td>\n",
              "      <td>One year</td>\n",
              "      <td>Yes</td>\n",
              "      <td>Mailed check</td>\n",
              "      <td>65.60</td>\n",
              "      <td>593.3</td>\n",
              "    </tr>\n",
              "    <tr>\n",
              "      <th>1</th>\n",
              "      <td>0003-MKNFE</td>\n",
              "      <td>No</td>\n",
              "      <td>Male</td>\n",
              "      <td>0</td>\n",
              "      <td>No</td>\n",
              "      <td>No</td>\n",
              "      <td>9</td>\n",
              "      <td>Yes</td>\n",
              "      <td>Yes</td>\n",
              "      <td>DSL</td>\n",
              "      <td>...</td>\n",
              "      <td>No</td>\n",
              "      <td>No</td>\n",
              "      <td>No</td>\n",
              "      <td>No</td>\n",
              "      <td>Yes</td>\n",
              "      <td>Month-to-month</td>\n",
              "      <td>No</td>\n",
              "      <td>Mailed check</td>\n",
              "      <td>59.90</td>\n",
              "      <td>542.4</td>\n",
              "    </tr>\n",
              "    <tr>\n",
              "      <th>2</th>\n",
              "      <td>0004-TLHLJ</td>\n",
              "      <td>Yes</td>\n",
              "      <td>Male</td>\n",
              "      <td>0</td>\n",
              "      <td>No</td>\n",
              "      <td>No</td>\n",
              "      <td>4</td>\n",
              "      <td>Yes</td>\n",
              "      <td>No</td>\n",
              "      <td>Fiber optic</td>\n",
              "      <td>...</td>\n",
              "      <td>No</td>\n",
              "      <td>Yes</td>\n",
              "      <td>No</td>\n",
              "      <td>No</td>\n",
              "      <td>No</td>\n",
              "      <td>Month-to-month</td>\n",
              "      <td>Yes</td>\n",
              "      <td>Electronic check</td>\n",
              "      <td>73.90</td>\n",
              "      <td>280.85</td>\n",
              "    </tr>\n",
              "    <tr>\n",
              "      <th>3</th>\n",
              "      <td>0011-IGKFF</td>\n",
              "      <td>Yes</td>\n",
              "      <td>Male</td>\n",
              "      <td>1</td>\n",
              "      <td>Yes</td>\n",
              "      <td>No</td>\n",
              "      <td>13</td>\n",
              "      <td>Yes</td>\n",
              "      <td>No</td>\n",
              "      <td>Fiber optic</td>\n",
              "      <td>...</td>\n",
              "      <td>Yes</td>\n",
              "      <td>Yes</td>\n",
              "      <td>No</td>\n",
              "      <td>Yes</td>\n",
              "      <td>Yes</td>\n",
              "      <td>Month-to-month</td>\n",
              "      <td>Yes</td>\n",
              "      <td>Electronic check</td>\n",
              "      <td>98.00</td>\n",
              "      <td>1237.85</td>\n",
              "    </tr>\n",
              "    <tr>\n",
              "      <th>4</th>\n",
              "      <td>0013-EXCHZ</td>\n",
              "      <td>Yes</td>\n",
              "      <td>Female</td>\n",
              "      <td>1</td>\n",
              "      <td>Yes</td>\n",
              "      <td>No</td>\n",
              "      <td>3</td>\n",
              "      <td>Yes</td>\n",
              "      <td>No</td>\n",
              "      <td>Fiber optic</td>\n",
              "      <td>...</td>\n",
              "      <td>No</td>\n",
              "      <td>No</td>\n",
              "      <td>Yes</td>\n",
              "      <td>Yes</td>\n",
              "      <td>No</td>\n",
              "      <td>Month-to-month</td>\n",
              "      <td>Yes</td>\n",
              "      <td>Mailed check</td>\n",
              "      <td>83.90</td>\n",
              "      <td>267.4</td>\n",
              "    </tr>\n",
              "    <tr>\n",
              "      <th>...</th>\n",
              "      <td>...</td>\n",
              "      <td>...</td>\n",
              "      <td>...</td>\n",
              "      <td>...</td>\n",
              "      <td>...</td>\n",
              "      <td>...</td>\n",
              "      <td>...</td>\n",
              "      <td>...</td>\n",
              "      <td>...</td>\n",
              "      <td>...</td>\n",
              "      <td>...</td>\n",
              "      <td>...</td>\n",
              "      <td>...</td>\n",
              "      <td>...</td>\n",
              "      <td>...</td>\n",
              "      <td>...</td>\n",
              "      <td>...</td>\n",
              "      <td>...</td>\n",
              "      <td>...</td>\n",
              "      <td>...</td>\n",
              "      <td>...</td>\n",
              "    </tr>\n",
              "    <tr>\n",
              "      <th>7262</th>\n",
              "      <td>9987-LUTYD</td>\n",
              "      <td>No</td>\n",
              "      <td>Female</td>\n",
              "      <td>0</td>\n",
              "      <td>No</td>\n",
              "      <td>No</td>\n",
              "      <td>13</td>\n",
              "      <td>Yes</td>\n",
              "      <td>No</td>\n",
              "      <td>DSL</td>\n",
              "      <td>...</td>\n",
              "      <td>No</td>\n",
              "      <td>No</td>\n",
              "      <td>Yes</td>\n",
              "      <td>No</td>\n",
              "      <td>No</td>\n",
              "      <td>One year</td>\n",
              "      <td>No</td>\n",
              "      <td>Mailed check</td>\n",
              "      <td>55.15</td>\n",
              "      <td>742.9</td>\n",
              "    </tr>\n",
              "    <tr>\n",
              "      <th>7263</th>\n",
              "      <td>9992-RRAMN</td>\n",
              "      <td>Yes</td>\n",
              "      <td>Male</td>\n",
              "      <td>0</td>\n",
              "      <td>Yes</td>\n",
              "      <td>No</td>\n",
              "      <td>22</td>\n",
              "      <td>Yes</td>\n",
              "      <td>Yes</td>\n",
              "      <td>Fiber optic</td>\n",
              "      <td>...</td>\n",
              "      <td>No</td>\n",
              "      <td>No</td>\n",
              "      <td>No</td>\n",
              "      <td>No</td>\n",
              "      <td>Yes</td>\n",
              "      <td>Month-to-month</td>\n",
              "      <td>Yes</td>\n",
              "      <td>Electronic check</td>\n",
              "      <td>85.10</td>\n",
              "      <td>1873.7</td>\n",
              "    </tr>\n",
              "    <tr>\n",
              "      <th>7264</th>\n",
              "      <td>9992-UJOEL</td>\n",
              "      <td>No</td>\n",
              "      <td>Male</td>\n",
              "      <td>0</td>\n",
              "      <td>No</td>\n",
              "      <td>No</td>\n",
              "      <td>2</td>\n",
              "      <td>Yes</td>\n",
              "      <td>No</td>\n",
              "      <td>DSL</td>\n",
              "      <td>...</td>\n",
              "      <td>Yes</td>\n",
              "      <td>No</td>\n",
              "      <td>No</td>\n",
              "      <td>No</td>\n",
              "      <td>No</td>\n",
              "      <td>Month-to-month</td>\n",
              "      <td>Yes</td>\n",
              "      <td>Mailed check</td>\n",
              "      <td>50.30</td>\n",
              "      <td>92.75</td>\n",
              "    </tr>\n",
              "    <tr>\n",
              "      <th>7265</th>\n",
              "      <td>9993-LHIEB</td>\n",
              "      <td>No</td>\n",
              "      <td>Male</td>\n",
              "      <td>0</td>\n",
              "      <td>Yes</td>\n",
              "      <td>Yes</td>\n",
              "      <td>67</td>\n",
              "      <td>Yes</td>\n",
              "      <td>No</td>\n",
              "      <td>DSL</td>\n",
              "      <td>...</td>\n",
              "      <td>No</td>\n",
              "      <td>Yes</td>\n",
              "      <td>Yes</td>\n",
              "      <td>No</td>\n",
              "      <td>Yes</td>\n",
              "      <td>Two year</td>\n",
              "      <td>No</td>\n",
              "      <td>Mailed check</td>\n",
              "      <td>67.85</td>\n",
              "      <td>4627.65</td>\n",
              "    </tr>\n",
              "    <tr>\n",
              "      <th>7266</th>\n",
              "      <td>9995-HOTOH</td>\n",
              "      <td>No</td>\n",
              "      <td>Male</td>\n",
              "      <td>0</td>\n",
              "      <td>Yes</td>\n",
              "      <td>Yes</td>\n",
              "      <td>63</td>\n",
              "      <td>No</td>\n",
              "      <td>No phone service</td>\n",
              "      <td>DSL</td>\n",
              "      <td>...</td>\n",
              "      <td>Yes</td>\n",
              "      <td>Yes</td>\n",
              "      <td>No</td>\n",
              "      <td>Yes</td>\n",
              "      <td>Yes</td>\n",
              "      <td>Two year</td>\n",
              "      <td>No</td>\n",
              "      <td>Electronic check</td>\n",
              "      <td>59.00</td>\n",
              "      <td>3707.6</td>\n",
              "    </tr>\n",
              "  </tbody>\n",
              "</table>\n",
              "<p>7267 rows × 21 columns</p>\n",
              "</div>"
            ],
            "text/plain": [
              "      customerID Churn  gender  SeniorCitizen Partner Dependents  tenure  \\\n",
              "0     0002-ORFBO    No  Female              0     Yes        Yes       9   \n",
              "1     0003-MKNFE    No    Male              0      No         No       9   \n",
              "2     0004-TLHLJ   Yes    Male              0      No         No       4   \n",
              "3     0011-IGKFF   Yes    Male              1     Yes         No      13   \n",
              "4     0013-EXCHZ   Yes  Female              1     Yes         No       3   \n",
              "...          ...   ...     ...            ...     ...        ...     ...   \n",
              "7262  9987-LUTYD    No  Female              0      No         No      13   \n",
              "7263  9992-RRAMN   Yes    Male              0     Yes         No      22   \n",
              "7264  9992-UJOEL    No    Male              0      No         No       2   \n",
              "7265  9993-LHIEB    No    Male              0     Yes        Yes      67   \n",
              "7266  9995-HOTOH    No    Male              0     Yes        Yes      63   \n",
              "\n",
              "     PhoneService     MultipleLines InternetService  ... OnlineBackup  \\\n",
              "0             Yes                No             DSL  ...          Yes   \n",
              "1             Yes               Yes             DSL  ...           No   \n",
              "2             Yes                No     Fiber optic  ...           No   \n",
              "3             Yes                No     Fiber optic  ...          Yes   \n",
              "4             Yes                No     Fiber optic  ...           No   \n",
              "...           ...               ...             ...  ...          ...   \n",
              "7262          Yes                No             DSL  ...           No   \n",
              "7263          Yes               Yes     Fiber optic  ...           No   \n",
              "7264          Yes                No             DSL  ...          Yes   \n",
              "7265          Yes                No             DSL  ...           No   \n",
              "7266           No  No phone service             DSL  ...          Yes   \n",
              "\n",
              "     DeviceProtection TechSupport StreamingTV StreamingMovies        Contract  \\\n",
              "0                  No         Yes         Yes              No        One year   \n",
              "1                  No          No          No             Yes  Month-to-month   \n",
              "2                 Yes          No          No              No  Month-to-month   \n",
              "3                 Yes          No         Yes             Yes  Month-to-month   \n",
              "4                  No         Yes         Yes              No  Month-to-month   \n",
              "...               ...         ...         ...             ...             ...   \n",
              "7262               No         Yes          No              No        One year   \n",
              "7263               No          No          No             Yes  Month-to-month   \n",
              "7264               No          No          No              No  Month-to-month   \n",
              "7265              Yes         Yes          No             Yes        Two year   \n",
              "7266              Yes          No         Yes             Yes        Two year   \n",
              "\n",
              "     PaperlessBilling     PaymentMethod Charges.Monthly  Charges.Total  \n",
              "0                 Yes      Mailed check           65.60          593.3  \n",
              "1                  No      Mailed check           59.90          542.4  \n",
              "2                 Yes  Electronic check           73.90         280.85  \n",
              "3                 Yes  Electronic check           98.00        1237.85  \n",
              "4                 Yes      Mailed check           83.90          267.4  \n",
              "...               ...               ...             ...            ...  \n",
              "7262               No      Mailed check           55.15          742.9  \n",
              "7263              Yes  Electronic check           85.10         1873.7  \n",
              "7264              Yes      Mailed check           50.30          92.75  \n",
              "7265               No      Mailed check           67.85        4627.65  \n",
              "7266               No  Electronic check           59.00         3707.6  \n",
              "\n",
              "[7267 rows x 21 columns]"
            ]
          },
          "execution_count": 60,
          "metadata": {},
          "output_type": "execute_result"
        }
      ],
      "source": [
        "df_concatenada"
      ]
    },
    {
      "cell_type": "code",
      "execution_count": 69,
      "metadata": {},
      "outputs": [
        {
          "name": "stdout",
          "output_type": "stream",
          "text": [
            "<class 'pandas.core.frame.DataFrame'>\n",
            "RangeIndex: 7267 entries, 0 to 7266\n",
            "Data columns (total 21 columns):\n",
            " #   Column            Non-Null Count  Dtype  \n",
            "---  ------            --------------  -----  \n",
            " 0   customerID        7267 non-null   object \n",
            " 1   Churn             7267 non-null   object \n",
            " 2   gender            7267 non-null   object \n",
            " 3   SeniorCitizen     7267 non-null   int64  \n",
            " 4   Partner           7267 non-null   object \n",
            " 5   Dependents        7267 non-null   object \n",
            " 6   tenure            7267 non-null   int64  \n",
            " 7   PhoneService      7267 non-null   object \n",
            " 8   MultipleLines     7267 non-null   object \n",
            " 9   InternetService   7267 non-null   object \n",
            " 10  OnlineSecurity    7267 non-null   object \n",
            " 11  OnlineBackup      7267 non-null   object \n",
            " 12  DeviceProtection  7267 non-null   object \n",
            " 13  TechSupport       7267 non-null   object \n",
            " 14  StreamingTV       7267 non-null   object \n",
            " 15  StreamingMovies   7267 non-null   object \n",
            " 16  Contract          7267 non-null   object \n",
            " 17  PaperlessBilling  7267 non-null   object \n",
            " 18  PaymentMethod     7267 non-null   object \n",
            " 19  Charges.Monthly   7267 non-null   float64\n",
            " 20  Charges.Total     7267 non-null   object \n",
            "dtypes: float64(1), int64(2), object(18)\n",
            "memory usage: 1.2+ MB\n"
          ]
        }
      ],
      "source": [
        "df_concatenada.info()"
      ]
    },
    {
      "cell_type": "code",
      "execution_count": 70,
      "metadata": {},
      "outputs": [],
      "source": [
        "df_concatenada['Churn'] = df_concatenada['Churn'].map({'Yes': 1, 'No': 0})\n",
        "df_concatenada['SeniorCitizen'] = df_concatenada['SeniorCitizen'].astype(bool)\n",
        "df_concatenada['Charges.Total'] = pd.to_numeric(df_concatenada['Charges.Total'], errors='coerce')\n",
        "df_concatenada['Charges.Total'] = df_concatenada['Charges.Total'].fillna(df_concatenada['Charges.Total'].mean())"
      ]
    },
    {
      "cell_type": "code",
      "execution_count": 71,
      "metadata": {},
      "outputs": [
        {
          "name": "stdout",
          "output_type": "stream",
          "text": [
            "<class 'pandas.core.frame.DataFrame'>\n",
            "RangeIndex: 7267 entries, 0 to 7266\n",
            "Data columns (total 21 columns):\n",
            " #   Column            Non-Null Count  Dtype  \n",
            "---  ------            --------------  -----  \n",
            " 0   customerID        7267 non-null   object \n",
            " 1   Churn             7043 non-null   float64\n",
            " 2   gender            7267 non-null   object \n",
            " 3   SeniorCitizen     7267 non-null   bool   \n",
            " 4   Partner           7267 non-null   object \n",
            " 5   Dependents        7267 non-null   object \n",
            " 6   tenure            7267 non-null   int64  \n",
            " 7   PhoneService      7267 non-null   object \n",
            " 8   MultipleLines     7267 non-null   object \n",
            " 9   InternetService   7267 non-null   object \n",
            " 10  OnlineSecurity    7267 non-null   object \n",
            " 11  OnlineBackup      7267 non-null   object \n",
            " 12  DeviceProtection  7267 non-null   object \n",
            " 13  TechSupport       7267 non-null   object \n",
            " 14  StreamingTV       7267 non-null   object \n",
            " 15  StreamingMovies   7267 non-null   object \n",
            " 16  Contract          7267 non-null   object \n",
            " 17  PaperlessBilling  7267 non-null   object \n",
            " 18  PaymentMethod     7267 non-null   object \n",
            " 19  Charges.Monthly   7267 non-null   float64\n",
            " 20  Charges.Total     7267 non-null   float64\n",
            "dtypes: bool(1), float64(3), int64(1), object(16)\n",
            "memory usage: 1.1+ MB\n"
          ]
        }
      ],
      "source": [
        "df_concatenada.info()"
      ]
    },
    {
      "cell_type": "code",
      "execution_count": null,
      "metadata": {},
      "outputs": [
        {
          "data": {
            "application/vnd.microsoft.datawrangler.viewer.v0+json": {
              "columns": [
                {
                  "name": "index",
                  "rawType": "object",
                  "type": "string"
                },
                {
                  "name": "0",
                  "rawType": "int64",
                  "type": "integer"
                }
              ],
              "ref": "3c069c85-3cfa-4289-bfa6-048d6565960d",
              "rows": [
                [
                  "customerID",
                  "0"
                ],
                [
                  "Churn",
                  "224"
                ],
                [
                  "gender",
                  "0"
                ],
                [
                  "SeniorCitizen",
                  "0"
                ],
                [
                  "Partner",
                  "0"
                ],
                [
                  "Dependents",
                  "0"
                ],
                [
                  "tenure",
                  "0"
                ],
                [
                  "PhoneService",
                  "0"
                ],
                [
                  "MultipleLines",
                  "0"
                ],
                [
                  "InternetService",
                  "0"
                ],
                [
                  "OnlineSecurity",
                  "0"
                ],
                [
                  "OnlineBackup",
                  "0"
                ],
                [
                  "DeviceProtection",
                  "0"
                ],
                [
                  "TechSupport",
                  "0"
                ],
                [
                  "StreamingTV",
                  "0"
                ],
                [
                  "StreamingMovies",
                  "0"
                ],
                [
                  "Contract",
                  "0"
                ],
                [
                  "PaperlessBilling",
                  "0"
                ],
                [
                  "PaymentMethod",
                  "0"
                ],
                [
                  "Charges.Monthly",
                  "0"
                ],
                [
                  "Charges.Total",
                  "0"
                ]
              ],
              "shape": {
                "columns": 1,
                "rows": 21
              }
            },
            "text/plain": [
              "customerID            0\n",
              "Churn               224\n",
              "gender                0\n",
              "SeniorCitizen         0\n",
              "Partner               0\n",
              "Dependents            0\n",
              "tenure                0\n",
              "PhoneService          0\n",
              "MultipleLines         0\n",
              "InternetService       0\n",
              "OnlineSecurity        0\n",
              "OnlineBackup          0\n",
              "DeviceProtection      0\n",
              "TechSupport           0\n",
              "StreamingTV           0\n",
              "StreamingMovies       0\n",
              "Contract              0\n",
              "PaperlessBilling      0\n",
              "PaymentMethod         0\n",
              "Charges.Monthly       0\n",
              "Charges.Total         0\n",
              "dtype: int64"
            ]
          },
          "execution_count": 76,
          "metadata": {},
          "output_type": "execute_result"
        }
      ],
      "source": [
        "# Verifica a quantidade de colunas vazias\n",
        "df_concatenada.isnull().sum()"
      ]
    },
    {
      "cell_type": "code",
      "execution_count": null,
      "metadata": {},
      "outputs": [
        {
          "data": {
            "application/vnd.microsoft.datawrangler.viewer.v0+json": {
              "columns": [
                {
                  "name": "index",
                  "rawType": "object",
                  "type": "string"
                },
                {
                  "name": "0",
                  "rawType": "float64",
                  "type": "float"
                }
              ],
              "ref": "25af2b85-475b-489b-806a-7e80b756205e",
              "rows": [
                [
                  "customerID",
                  "0.0"
                ],
                [
                  "Churn",
                  "3.0824274115866244"
                ],
                [
                  "gender",
                  "0.0"
                ],
                [
                  "SeniorCitizen",
                  "0.0"
                ],
                [
                  "Partner",
                  "0.0"
                ],
                [
                  "Dependents",
                  "0.0"
                ],
                [
                  "tenure",
                  "0.0"
                ],
                [
                  "PhoneService",
                  "0.0"
                ],
                [
                  "MultipleLines",
                  "0.0"
                ],
                [
                  "InternetService",
                  "0.0"
                ],
                [
                  "OnlineSecurity",
                  "0.0"
                ],
                [
                  "OnlineBackup",
                  "0.0"
                ],
                [
                  "DeviceProtection",
                  "0.0"
                ],
                [
                  "TechSupport",
                  "0.0"
                ],
                [
                  "StreamingTV",
                  "0.0"
                ],
                [
                  "StreamingMovies",
                  "0.0"
                ],
                [
                  "Contract",
                  "0.0"
                ],
                [
                  "PaperlessBilling",
                  "0.0"
                ],
                [
                  "PaymentMethod",
                  "0.0"
                ],
                [
                  "Charges.Monthly",
                  "0.0"
                ],
                [
                  "Charges.Total",
                  "0.0"
                ]
              ],
              "shape": {
                "columns": 1,
                "rows": 21
              }
            },
            "text/plain": [
              "customerID          0.000000\n",
              "Churn               3.082427\n",
              "gender              0.000000\n",
              "SeniorCitizen       0.000000\n",
              "Partner             0.000000\n",
              "Dependents          0.000000\n",
              "tenure              0.000000\n",
              "PhoneService        0.000000\n",
              "MultipleLines       0.000000\n",
              "InternetService     0.000000\n",
              "OnlineSecurity      0.000000\n",
              "OnlineBackup        0.000000\n",
              "DeviceProtection    0.000000\n",
              "TechSupport         0.000000\n",
              "StreamingTV         0.000000\n",
              "StreamingMovies     0.000000\n",
              "Contract            0.000000\n",
              "PaperlessBilling    0.000000\n",
              "PaymentMethod       0.000000\n",
              "Charges.Monthly     0.000000\n",
              "Charges.Total       0.000000\n",
              "dtype: float64"
            ]
          },
          "execution_count": 77,
          "metadata": {},
          "output_type": "execute_result"
        }
      ],
      "source": [
        "# Verifica o percentual de colunas vazias\n",
        "df_concatenada.isnull().sum() / len(df_concatenada) * 100"
      ]
    },
    {
      "cell_type": "code",
      "execution_count": 78,
      "metadata": {},
      "outputs": [
        {
          "data": {
            "text/plain": [
              "np.int64(0)"
            ]
          },
          "execution_count": 78,
          "metadata": {},
          "output_type": "execute_result"
        }
      ],
      "source": [
        "# Verifica existência de linhas duplicadas\n",
        "df_concatenada.duplicated().sum()"
      ]
    },
    {
      "cell_type": "code",
      "execution_count": null,
      "metadata": {},
      "outputs": [
        {
          "data": {
            "text/plain": [
              "np.int64(0)"
            ]
          },
          "execution_count": 80,
          "metadata": {},
          "output_type": "execute_result"
        }
      ],
      "source": [
        "# Verifica se o índice possui valores duplicados\n",
        "df_concatenada['customerID'].duplicated().sum()"
      ]
    },
    {
      "cell_type": "code",
      "execution_count": null,
      "metadata": {},
      "outputs": [
        {
          "data": {
            "application/vnd.microsoft.datawrangler.viewer.v0+json": {
              "columns": [
                {
                  "name": "gender",
                  "rawType": "object",
                  "type": "string"
                },
                {
                  "name": "count",
                  "rawType": "int64",
                  "type": "integer"
                }
              ],
              "ref": "bd42beac-830b-40a5-826e-b4843181a388",
              "rows": [
                [
                  "Male",
                  "3675"
                ],
                [
                  "Female",
                  "3592"
                ]
              ],
              "shape": {
                "columns": 1,
                "rows": 2
              }
            },
            "text/plain": [
              "gender\n",
              "Male      3675\n",
              "Female    3592\n",
              "Name: count, dtype: int64"
            ]
          },
          "execution_count": 81,
          "metadata": {},
          "output_type": "execute_result"
        }
      ],
      "source": [
        "# Verifica valores únicos e contagem do sexo\n",
        "df_concatenada['gender'].value_counts()"
      ]
    },
    {
      "cell_type": "code",
      "execution_count": null,
      "metadata": {},
      "outputs": [
        {
          "data": {
            "application/vnd.microsoft.datawrangler.viewer.v0+json": {
              "columns": [
                {
                  "name": "PaymentMethod",
                  "rawType": "object",
                  "type": "string"
                },
                {
                  "name": "count",
                  "rawType": "int64",
                  "type": "integer"
                }
              ],
              "ref": "83889a4f-905a-45e9-8fbd-cf06f8568c84",
              "rows": [
                [
                  "Electronic check",
                  "2445"
                ],
                [
                  "Mailed check",
                  "1665"
                ],
                [
                  "Bank transfer (automatic)",
                  "1589"
                ],
                [
                  "Credit card (automatic)",
                  "1568"
                ]
              ],
              "shape": {
                "columns": 1,
                "rows": 4
              }
            },
            "text/plain": [
              "PaymentMethod\n",
              "Electronic check             2445\n",
              "Mailed check                 1665\n",
              "Bank transfer (automatic)    1589\n",
              "Credit card (automatic)      1568\n",
              "Name: count, dtype: int64"
            ]
          },
          "execution_count": 84,
          "metadata": {},
          "output_type": "execute_result"
        }
      ],
      "source": [
        "# Verifica valores únicos e contagem do método de pagamento\n",
        "df_concatenada['PaymentMethod'].value_counts()"
      ]
    },
    {
      "cell_type": "markdown",
      "metadata": {
        "id": "6XnTC2NTmMRL"
      },
      "source": [
        "#📊 Carga e análise"
      ]
    },
    {
      "cell_type": "markdown",
      "metadata": {},
      "source": [
        "Nesta etapa:\n",
        "\n",
        "- Salvar o dataframe concatenado que foi gerado."
      ]
    },
    {
      "cell_type": "code",
      "execution_count": 72,
      "metadata": {
        "id": "1jgUnLqTmPdd"
      },
      "outputs": [],
      "source": [
        "df_concatenada.to_csv('telecomX_concatenado.csv', index=False)"
      ]
    },
    {
      "cell_type": "code",
      "execution_count": 73,
      "metadata": {},
      "outputs": [
        {
          "data": {
            "application/vnd.microsoft.datawrangler.viewer.v0+json": {
              "columns": [
                {
                  "name": "customerID",
                  "rawType": "object",
                  "type": "string"
                },
                {
                  "name": "Churn",
                  "rawType": "float64",
                  "type": "float"
                },
                {
                  "name": "gender",
                  "rawType": "object",
                  "type": "string"
                },
                {
                  "name": "SeniorCitizen",
                  "rawType": "bool",
                  "type": "boolean"
                },
                {
                  "name": "Partner",
                  "rawType": "object",
                  "type": "string"
                },
                {
                  "name": "Dependents",
                  "rawType": "object",
                  "type": "string"
                },
                {
                  "name": "tenure",
                  "rawType": "int64",
                  "type": "integer"
                },
                {
                  "name": "PhoneService",
                  "rawType": "object",
                  "type": "string"
                },
                {
                  "name": "MultipleLines",
                  "rawType": "object",
                  "type": "string"
                },
                {
                  "name": "InternetService",
                  "rawType": "object",
                  "type": "string"
                },
                {
                  "name": "OnlineSecurity",
                  "rawType": "object",
                  "type": "string"
                },
                {
                  "name": "OnlineBackup",
                  "rawType": "object",
                  "type": "string"
                },
                {
                  "name": "DeviceProtection",
                  "rawType": "object",
                  "type": "string"
                },
                {
                  "name": "TechSupport",
                  "rawType": "object",
                  "type": "string"
                },
                {
                  "name": "StreamingTV",
                  "rawType": "object",
                  "type": "string"
                },
                {
                  "name": "StreamingMovies",
                  "rawType": "object",
                  "type": "string"
                },
                {
                  "name": "Contract",
                  "rawType": "object",
                  "type": "string"
                },
                {
                  "name": "PaperlessBilling",
                  "rawType": "object",
                  "type": "string"
                },
                {
                  "name": "PaymentMethod",
                  "rawType": "object",
                  "type": "string"
                },
                {
                  "name": "Charges.Monthly",
                  "rawType": "float64",
                  "type": "float"
                },
                {
                  "name": "Charges.Total",
                  "rawType": "float64",
                  "type": "float"
                }
              ],
              "ref": "4748aa15-203b-4e32-8b6d-2956ca2b8d5d",
              "rows": [
                [
                  "0002-ORFBO",
                  "0.0",
                  "Female",
                  "False",
                  "Yes",
                  "Yes",
                  "9",
                  "Yes",
                  "No",
                  "DSL",
                  "No",
                  "Yes",
                  "No",
                  "Yes",
                  "Yes",
                  "No",
                  "One year",
                  "Yes",
                  "Mailed check",
                  "65.6",
                  "593.3"
                ],
                [
                  "0003-MKNFE",
                  "0.0",
                  "Male",
                  "False",
                  "No",
                  "No",
                  "9",
                  "Yes",
                  "Yes",
                  "DSL",
                  "No",
                  "No",
                  "No",
                  "No",
                  "No",
                  "Yes",
                  "Month-to-month",
                  "No",
                  "Mailed check",
                  "59.9",
                  "542.4"
                ],
                [
                  "0004-TLHLJ",
                  "1.0",
                  "Male",
                  "False",
                  "No",
                  "No",
                  "4",
                  "Yes",
                  "No",
                  "Fiber optic",
                  "No",
                  "No",
                  "Yes",
                  "No",
                  "No",
                  "No",
                  "Month-to-month",
                  "Yes",
                  "Electronic check",
                  "73.9",
                  "280.85"
                ],
                [
                  "0011-IGKFF",
                  "1.0",
                  "Male",
                  "True",
                  "Yes",
                  "No",
                  "13",
                  "Yes",
                  "No",
                  "Fiber optic",
                  "No",
                  "Yes",
                  "Yes",
                  "No",
                  "Yes",
                  "Yes",
                  "Month-to-month",
                  "Yes",
                  "Electronic check",
                  "98.0",
                  "1237.85"
                ],
                [
                  "0013-EXCHZ",
                  "1.0",
                  "Female",
                  "True",
                  "Yes",
                  "No",
                  "3",
                  "Yes",
                  "No",
                  "Fiber optic",
                  "No",
                  "No",
                  "No",
                  "Yes",
                  "Yes",
                  "No",
                  "Month-to-month",
                  "Yes",
                  "Mailed check",
                  "83.9",
                  "267.4"
                ],
                [
                  "0013-MHZWF",
                  "0.0",
                  "Female",
                  "False",
                  "No",
                  "Yes",
                  "9",
                  "Yes",
                  "No",
                  "DSL",
                  "No",
                  "No",
                  "No",
                  "Yes",
                  "Yes",
                  "Yes",
                  "Month-to-month",
                  "Yes",
                  "Credit card (automatic)",
                  "69.4",
                  "571.45"
                ],
                [
                  "0013-SMEOE",
                  "0.0",
                  "Female",
                  "True",
                  "Yes",
                  "No",
                  "71",
                  "Yes",
                  "No",
                  "Fiber optic",
                  "Yes",
                  "Yes",
                  "Yes",
                  "Yes",
                  "Yes",
                  "Yes",
                  "Two year",
                  "Yes",
                  "Bank transfer (automatic)",
                  "109.7",
                  "7904.25"
                ],
                [
                  "0014-BMAQU",
                  "0.0",
                  "Male",
                  "False",
                  "Yes",
                  "No",
                  "63",
                  "Yes",
                  "Yes",
                  "Fiber optic",
                  "Yes",
                  "No",
                  "No",
                  "Yes",
                  "No",
                  "No",
                  "Two year",
                  "Yes",
                  "Credit card (automatic)",
                  "84.65",
                  "5377.8"
                ],
                [
                  "0015-UOCOJ",
                  "0.0",
                  "Female",
                  "True",
                  "No",
                  "No",
                  "7",
                  "Yes",
                  "No",
                  "DSL",
                  "Yes",
                  "No",
                  "No",
                  "No",
                  "No",
                  "No",
                  "Month-to-month",
                  "Yes",
                  "Electronic check",
                  "48.2",
                  "340.35"
                ],
                [
                  "0016-QLJIS",
                  "0.0",
                  "Female",
                  "False",
                  "Yes",
                  "Yes",
                  "65",
                  "Yes",
                  "Yes",
                  "DSL",
                  "Yes",
                  "Yes",
                  "Yes",
                  "Yes",
                  "Yes",
                  "Yes",
                  "Two year",
                  "Yes",
                  "Mailed check",
                  "90.45",
                  "5957.9"
                ],
                [
                  "0017-DINOC",
                  "0.0",
                  "Male",
                  "False",
                  "No",
                  "No",
                  "54",
                  "No",
                  "No phone service",
                  "DSL",
                  "Yes",
                  "No",
                  "No",
                  "Yes",
                  "Yes",
                  "No",
                  "Two year",
                  "No",
                  "Credit card (automatic)",
                  "45.2",
                  "2460.55"
                ],
                [
                  "0017-IUDMW",
                  "0.0",
                  "Female",
                  "False",
                  "Yes",
                  "Yes",
                  "72",
                  "Yes",
                  "Yes",
                  "Fiber optic",
                  "Yes",
                  "Yes",
                  "Yes",
                  "Yes",
                  "Yes",
                  "Yes",
                  "Two year",
                  "Yes",
                  "Credit card (automatic)",
                  "116.8",
                  "8456.75"
                ],
                [
                  "0018-NYROU",
                  "0.0",
                  "Female",
                  "False",
                  "Yes",
                  "No",
                  "5",
                  "Yes",
                  "No",
                  "Fiber optic",
                  "No",
                  "No",
                  "No",
                  "No",
                  "No",
                  "No",
                  "Month-to-month",
                  "Yes",
                  "Electronic check",
                  "68.95",
                  "351.5"
                ],
                [
                  "0019-EFAEP",
                  "0.0",
                  "Female",
                  "False",
                  "No",
                  "No",
                  "72",
                  "Yes",
                  "Yes",
                  "Fiber optic",
                  "Yes",
                  "Yes",
                  "Yes",
                  "No",
                  "Yes",
                  "No",
                  "Two year",
                  "Yes",
                  "Bank transfer (automatic)",
                  "101.3",
                  "7261.25"
                ],
                [
                  "0019-GFNTW",
                  "0.0",
                  "Female",
                  "False",
                  "No",
                  "No",
                  "56",
                  "No",
                  "No phone service",
                  "DSL",
                  "Yes",
                  "Yes",
                  "Yes",
                  "Yes",
                  "No",
                  "No",
                  "Two year",
                  "No",
                  "Bank transfer (automatic)",
                  "45.05",
                  "2560.1"
                ],
                [
                  "0020-INWCK",
                  "0.0",
                  "Female",
                  "False",
                  "Yes",
                  "Yes",
                  "71",
                  "Yes",
                  "Yes",
                  "Fiber optic",
                  "No",
                  "Yes",
                  "Yes",
                  "No",
                  "No",
                  "Yes",
                  "Two year",
                  "Yes",
                  "Credit card (automatic)",
                  "95.75",
                  "6849.4"
                ],
                [
                  "0020-JDNXP",
                  "0.0",
                  "Female",
                  "False",
                  "Yes",
                  "Yes",
                  "34",
                  "No",
                  "No phone service",
                  "DSL",
                  "Yes",
                  "No",
                  "Yes",
                  "Yes",
                  "Yes",
                  "Yes",
                  "One year",
                  "No",
                  "Mailed check",
                  "61.25",
                  "1993.2"
                ],
                [
                  "0021-IKXGC",
                  "0.0",
                  "Female",
                  "True",
                  "No",
                  "No",
                  "1",
                  "Yes",
                  "Yes",
                  "Fiber optic",
                  "No",
                  "No",
                  "No",
                  "No",
                  "No",
                  "No",
                  "Month-to-month",
                  "Yes",
                  "Electronic check",
                  "72.1",
                  "72.1"
                ],
                [
                  "0022-TCJCI",
                  "1.0",
                  "Male",
                  "True",
                  "No",
                  "No",
                  "45",
                  "Yes",
                  "No",
                  "DSL",
                  "Yes",
                  "No",
                  "Yes",
                  "No",
                  "No",
                  "Yes",
                  "One year",
                  "No",
                  "Credit card (automatic)",
                  "62.7",
                  "2791.5"
                ],
                [
                  "0023-HGHWL",
                  "1.0",
                  "Male",
                  "True",
                  "No",
                  "No",
                  "1",
                  "No",
                  "No phone service",
                  "DSL",
                  "No",
                  "No",
                  "No",
                  "No",
                  "No",
                  "No",
                  "Month-to-month",
                  "Yes",
                  "Electronic check",
                  "25.1",
                  "25.1"
                ],
                [
                  "0023-UYUPN",
                  "0.0",
                  "Female",
                  "True",
                  "Yes",
                  "No",
                  "50",
                  "Yes",
                  "Yes",
                  "No",
                  "No internet service",
                  "No internet service",
                  "No internet service",
                  "No internet service",
                  "No internet service",
                  "No internet service",
                  "One year",
                  "No",
                  "Electronic check",
                  "25.2",
                  "1306.3"
                ],
                [
                  "0023-XUOPT",
                  "1.0",
                  "Female",
                  "False",
                  "Yes",
                  "No",
                  "13",
                  "Yes",
                  "Yes",
                  "Fiber optic",
                  "No",
                  "Yes",
                  "Yes",
                  "No",
                  "Yes",
                  "No",
                  "Month-to-month",
                  "No",
                  "Electronic check",
                  "94.1",
                  "1215.6"
                ],
                [
                  "0027-KWYKW",
                  "0.0",
                  "Female",
                  "False",
                  "Yes",
                  "Yes",
                  "23",
                  "Yes",
                  "Yes",
                  "Fiber optic",
                  "No",
                  "No",
                  "No",
                  "No",
                  "Yes",
                  "No",
                  "Month-to-month",
                  "Yes",
                  "Electronic check",
                  "83.75",
                  "1849.95"
                ],
                [
                  "0030-FNXPP",
                  "0.0",
                  "Female",
                  "False",
                  "No",
                  "No",
                  "3",
                  "Yes",
                  "No",
                  "No",
                  "No internet service",
                  "No internet service",
                  "No internet service",
                  "No internet service",
                  "No internet service",
                  "No internet service",
                  "Month-to-month",
                  "No",
                  "Mailed check",
                  "19.85",
                  "57.2"
                ],
                [
                  "0031-PVLZI",
                  "1.0",
                  "Female",
                  "False",
                  "Yes",
                  "Yes",
                  "4",
                  "Yes",
                  "No",
                  "No",
                  "No internet service",
                  "No internet service",
                  "No internet service",
                  "No internet service",
                  "No internet service",
                  "No internet service",
                  "Month-to-month",
                  "No",
                  "Mailed check",
                  "20.35",
                  "76.35"
                ],
                [
                  "0032-PGELS",
                  "1.0",
                  "Female",
                  "False",
                  "Yes",
                  "Yes",
                  "1",
                  "No",
                  "No phone service",
                  "DSL",
                  "Yes",
                  "No",
                  "No",
                  "No",
                  "No",
                  "No",
                  "Month-to-month",
                  "No",
                  "Bank transfer (automatic)",
                  "30.5",
                  "30.5"
                ],
                [
                  "0036-IHMOT",
                  "0.0",
                  "Female",
                  "False",
                  "Yes",
                  "Yes",
                  "55",
                  "Yes",
                  "No",
                  "Fiber optic",
                  "No",
                  "Yes",
                  "Yes",
                  "Yes",
                  "Yes",
                  "Yes",
                  "One year",
                  "Yes",
                  "Bank transfer (automatic)",
                  "103.7",
                  "5656.75"
                ],
                [
                  "0040-HALCW",
                  "0.0",
                  "Male",
                  "False",
                  "Yes",
                  "Yes",
                  "54",
                  "Yes",
                  "No",
                  "No",
                  "No internet service",
                  "No internet service",
                  "No internet service",
                  "No internet service",
                  "No internet service",
                  "No internet service",
                  "Two year",
                  "No",
                  "Credit card (automatic)",
                  "20.4",
                  "1090.6"
                ],
                [
                  "0042-JVWOJ",
                  "0.0",
                  "Male",
                  "False",
                  "No",
                  "No",
                  "26",
                  "Yes",
                  "No",
                  "No",
                  "No internet service",
                  "No internet service",
                  "No internet service",
                  "No internet service",
                  "No internet service",
                  "No internet service",
                  "One year",
                  "Yes",
                  "Bank transfer (automatic)",
                  "19.6",
                  "471.85"
                ],
                [
                  "0042-RLHYP",
                  "0.0",
                  "Female",
                  "False",
                  "Yes",
                  "Yes",
                  "69",
                  "Yes",
                  "No",
                  "No",
                  "No internet service",
                  "No internet service",
                  "No internet service",
                  "No internet service",
                  "No internet service",
                  "No internet service",
                  "Two year",
                  "No",
                  "Bank transfer (automatic)",
                  "19.7",
                  "1396.9"
                ],
                [
                  "0047-ZHDTW",
                  null,
                  "Female",
                  "False",
                  "No",
                  "No",
                  "11",
                  "Yes",
                  "Yes",
                  "Fiber optic",
                  "Yes",
                  "No",
                  "No",
                  "No",
                  "No",
                  "No",
                  "Month-to-month",
                  "Yes",
                  "Bank transfer (automatic)",
                  "79.0",
                  "929.3"
                ],
                [
                  "0048-LUMLS",
                  "0.0",
                  "Male",
                  "False",
                  "Yes",
                  "Yes",
                  "37",
                  "Yes",
                  "No",
                  "Fiber optic",
                  "No",
                  "No",
                  "No",
                  "No",
                  "Yes",
                  "Yes",
                  "One year",
                  "No",
                  "Credit card (automatic)",
                  "91.2",
                  "3247.55"
                ],
                [
                  "0048-PIHNL",
                  "0.0",
                  "Female",
                  "False",
                  "Yes",
                  "No",
                  "49",
                  "Yes",
                  "No",
                  "No",
                  "No internet service",
                  "No internet service",
                  "No internet service",
                  "No internet service",
                  "No internet service",
                  "No internet service",
                  "One year",
                  "No",
                  "Bank transfer (automatic)",
                  "20.45",
                  "900.9"
                ],
                [
                  "0052-DCKON",
                  "0.0",
                  "Male",
                  "False",
                  "Yes",
                  "No",
                  "66",
                  "Yes",
                  "Yes",
                  "Fiber optic",
                  "Yes",
                  "Yes",
                  "Yes",
                  "Yes",
                  "Yes",
                  "Yes",
                  "One year",
                  "No",
                  "Bank transfer (automatic)",
                  "115.8",
                  "7942.15"
                ],
                [
                  "0052-YNYOT",
                  "0.0",
                  "Female",
                  "False",
                  "No",
                  "No",
                  "67",
                  "Yes",
                  "No",
                  "No",
                  "No internet service",
                  "No internet service",
                  "No internet service",
                  "No internet service",
                  "No internet service",
                  "No internet service",
                  "One year",
                  "No",
                  "Electronic check",
                  "20.55",
                  "1343.4"
                ],
                [
                  "0056-EPFBG",
                  "0.0",
                  "Male",
                  "False",
                  "Yes",
                  "Yes",
                  "20",
                  "No",
                  "No phone service",
                  "DSL",
                  "Yes",
                  "No",
                  "Yes",
                  "Yes",
                  "No",
                  "No",
                  "Two year",
                  "Yes",
                  "Credit card (automatic)",
                  "39.4",
                  "825.4"
                ],
                [
                  "0057-QBUQH",
                  "0.0",
                  "Female",
                  "False",
                  "No",
                  "Yes",
                  "43",
                  "Yes",
                  "Yes",
                  "No",
                  "No internet service",
                  "No internet service",
                  "No internet service",
                  "No internet service",
                  "No internet service",
                  "No internet service",
                  "Two year",
                  "Yes",
                  "Electronic check",
                  "25.1",
                  "1070.15"
                ],
                [
                  "0058-EVZWM",
                  "0.0",
                  "Female",
                  "False",
                  "Yes",
                  "No",
                  "55",
                  "Yes",
                  "Yes",
                  "Fiber optic",
                  "Yes",
                  "No",
                  "No",
                  "No",
                  "Yes",
                  "No",
                  "Month-to-month",
                  "Yes",
                  "Bank transfer (automatic)",
                  "89.8",
                  "4959.6"
                ],
                [
                  "0060-FUALY",
                  "0.0",
                  "Female",
                  "False",
                  "Yes",
                  "No",
                  "59",
                  "Yes",
                  "Yes",
                  "Fiber optic",
                  "Yes",
                  "Yes",
                  "No",
                  "No",
                  "Yes",
                  "No",
                  "Month-to-month",
                  "Yes",
                  "Electronic check",
                  "94.75",
                  "5597.65"
                ],
                [
                  "0064-SUDOG",
                  "0.0",
                  "Female",
                  "False",
                  "Yes",
                  "Yes",
                  "12",
                  "Yes",
                  "No",
                  "No",
                  "No internet service",
                  "No internet service",
                  "No internet service",
                  "No internet service",
                  "No internet service",
                  "No internet service",
                  "Two year",
                  "No",
                  "Bank transfer (automatic)",
                  "20.3",
                  "224.5"
                ],
                [
                  "0064-YIJGF",
                  "0.0",
                  "Male",
                  "False",
                  "Yes",
                  "Yes",
                  "27",
                  "Yes",
                  "Yes",
                  "Fiber optic",
                  "No",
                  "No",
                  "No",
                  "No",
                  "No",
                  "No",
                  "Month-to-month",
                  "Yes",
                  "Bank transfer (automatic)",
                  "75.75",
                  "1929.0"
                ],
                [
                  "0067-DKWBL",
                  "1.0",
                  "Male",
                  "True",
                  "No",
                  "No",
                  "2",
                  "Yes",
                  "No",
                  "DSL",
                  "Yes",
                  "No",
                  "No",
                  "No",
                  "No",
                  "No",
                  "Month-to-month",
                  "Yes",
                  "Electronic check",
                  "49.25",
                  "91.1"
                ],
                [
                  "0068-FIGTF",
                  "0.0",
                  "Female",
                  "False",
                  "No",
                  "No",
                  "27",
                  "Yes",
                  "No",
                  "DSL",
                  "No",
                  "Yes",
                  "Yes",
                  "Yes",
                  "Yes",
                  "Yes",
                  "One year",
                  "No",
                  "Mailed check",
                  "78.2",
                  "2078.95"
                ],
                [
                  "0071-NDAFP",
                  "0.0",
                  "Male",
                  "False",
                  "Yes",
                  "Yes",
                  "25",
                  "Yes",
                  "Yes",
                  "No",
                  "No internet service",
                  "No internet service",
                  "No internet service",
                  "No internet service",
                  "No internet service",
                  "No internet service",
                  "Two year",
                  "No",
                  "Credit card (automatic)",
                  "25.5",
                  "630.6"
                ],
                [
                  "0074-HDKDG",
                  "0.0",
                  "Male",
                  "False",
                  "Yes",
                  "Yes",
                  "25",
                  "Yes",
                  "No",
                  "DSL",
                  "Yes",
                  "Yes",
                  "Yes",
                  "No",
                  "No",
                  "No",
                  "One year",
                  "Yes",
                  "Bank transfer (automatic)",
                  "61.6",
                  "1611.0"
                ],
                [
                  "0076-LVEPS",
                  "0.0",
                  "Male",
                  "False",
                  "No",
                  "Yes",
                  "29",
                  "No",
                  "No phone service",
                  "DSL",
                  "Yes",
                  "Yes",
                  "Yes",
                  "Yes",
                  "No",
                  "No",
                  "Month-to-month",
                  "Yes",
                  "Mailed check",
                  "45.0",
                  "1242.45"
                ],
                [
                  "0078-XZMHT",
                  "0.0",
                  "Male",
                  "False",
                  "Yes",
                  "No",
                  "72",
                  "Yes",
                  "Yes",
                  "DSL",
                  "No",
                  "Yes",
                  "Yes",
                  "Yes",
                  "Yes",
                  "Yes",
                  "Two year",
                  "Yes",
                  "Bank transfer (automatic)",
                  "85.15",
                  "6316.2"
                ],
                [
                  "0080-EMYVY",
                  "0.0",
                  "Female",
                  "False",
                  "No",
                  "No",
                  "14",
                  "Yes",
                  "No",
                  "DSL",
                  "No",
                  "Yes",
                  "No",
                  "No",
                  "No",
                  "No",
                  "One year",
                  "No",
                  "Credit card (automatic)",
                  "51.45",
                  "727.85"
                ],
                [
                  "0080-OROZO",
                  "0.0",
                  "Female",
                  "False",
                  "No",
                  "No",
                  "35",
                  "Yes",
                  "No",
                  "Fiber optic",
                  "No",
                  "No",
                  "Yes",
                  "Yes",
                  "Yes",
                  "Yes",
                  "One year",
                  "Yes",
                  "Electronic check",
                  "99.25",
                  "3532.0"
                ],
                [
                  "0082-LDZUE",
                  "0.0",
                  "Male",
                  "False",
                  "No",
                  "No",
                  "1",
                  "Yes",
                  "No",
                  "DSL",
                  "No",
                  "No",
                  "No",
                  "No",
                  "No",
                  "No",
                  "Month-to-month",
                  "Yes",
                  "Mailed check",
                  "44.3",
                  "44.3"
                ]
              ],
              "shape": {
                "columns": 20,
                "rows": 7267
              }
            },
            "text/html": [
              "<div>\n",
              "<style scoped>\n",
              "    .dataframe tbody tr th:only-of-type {\n",
              "        vertical-align: middle;\n",
              "    }\n",
              "\n",
              "    .dataframe tbody tr th {\n",
              "        vertical-align: top;\n",
              "    }\n",
              "\n",
              "    .dataframe thead th {\n",
              "        text-align: right;\n",
              "    }\n",
              "</style>\n",
              "<table border=\"1\" class=\"dataframe\">\n",
              "  <thead>\n",
              "    <tr style=\"text-align: right;\">\n",
              "      <th></th>\n",
              "      <th>Churn</th>\n",
              "      <th>gender</th>\n",
              "      <th>SeniorCitizen</th>\n",
              "      <th>Partner</th>\n",
              "      <th>Dependents</th>\n",
              "      <th>tenure</th>\n",
              "      <th>PhoneService</th>\n",
              "      <th>MultipleLines</th>\n",
              "      <th>InternetService</th>\n",
              "      <th>OnlineSecurity</th>\n",
              "      <th>OnlineBackup</th>\n",
              "      <th>DeviceProtection</th>\n",
              "      <th>TechSupport</th>\n",
              "      <th>StreamingTV</th>\n",
              "      <th>StreamingMovies</th>\n",
              "      <th>Contract</th>\n",
              "      <th>PaperlessBilling</th>\n",
              "      <th>PaymentMethod</th>\n",
              "      <th>Charges.Monthly</th>\n",
              "      <th>Charges.Total</th>\n",
              "    </tr>\n",
              "    <tr>\n",
              "      <th>customerID</th>\n",
              "      <th></th>\n",
              "      <th></th>\n",
              "      <th></th>\n",
              "      <th></th>\n",
              "      <th></th>\n",
              "      <th></th>\n",
              "      <th></th>\n",
              "      <th></th>\n",
              "      <th></th>\n",
              "      <th></th>\n",
              "      <th></th>\n",
              "      <th></th>\n",
              "      <th></th>\n",
              "      <th></th>\n",
              "      <th></th>\n",
              "      <th></th>\n",
              "      <th></th>\n",
              "      <th></th>\n",
              "      <th></th>\n",
              "      <th></th>\n",
              "    </tr>\n",
              "  </thead>\n",
              "  <tbody>\n",
              "    <tr>\n",
              "      <th>0002-ORFBO</th>\n",
              "      <td>0.0</td>\n",
              "      <td>Female</td>\n",
              "      <td>False</td>\n",
              "      <td>Yes</td>\n",
              "      <td>Yes</td>\n",
              "      <td>9</td>\n",
              "      <td>Yes</td>\n",
              "      <td>No</td>\n",
              "      <td>DSL</td>\n",
              "      <td>No</td>\n",
              "      <td>Yes</td>\n",
              "      <td>No</td>\n",
              "      <td>Yes</td>\n",
              "      <td>Yes</td>\n",
              "      <td>No</td>\n",
              "      <td>One year</td>\n",
              "      <td>Yes</td>\n",
              "      <td>Mailed check</td>\n",
              "      <td>65.60</td>\n",
              "      <td>593.30</td>\n",
              "    </tr>\n",
              "    <tr>\n",
              "      <th>0003-MKNFE</th>\n",
              "      <td>0.0</td>\n",
              "      <td>Male</td>\n",
              "      <td>False</td>\n",
              "      <td>No</td>\n",
              "      <td>No</td>\n",
              "      <td>9</td>\n",
              "      <td>Yes</td>\n",
              "      <td>Yes</td>\n",
              "      <td>DSL</td>\n",
              "      <td>No</td>\n",
              "      <td>No</td>\n",
              "      <td>No</td>\n",
              "      <td>No</td>\n",
              "      <td>No</td>\n",
              "      <td>Yes</td>\n",
              "      <td>Month-to-month</td>\n",
              "      <td>No</td>\n",
              "      <td>Mailed check</td>\n",
              "      <td>59.90</td>\n",
              "      <td>542.40</td>\n",
              "    </tr>\n",
              "    <tr>\n",
              "      <th>0004-TLHLJ</th>\n",
              "      <td>1.0</td>\n",
              "      <td>Male</td>\n",
              "      <td>False</td>\n",
              "      <td>No</td>\n",
              "      <td>No</td>\n",
              "      <td>4</td>\n",
              "      <td>Yes</td>\n",
              "      <td>No</td>\n",
              "      <td>Fiber optic</td>\n",
              "      <td>No</td>\n",
              "      <td>No</td>\n",
              "      <td>Yes</td>\n",
              "      <td>No</td>\n",
              "      <td>No</td>\n",
              "      <td>No</td>\n",
              "      <td>Month-to-month</td>\n",
              "      <td>Yes</td>\n",
              "      <td>Electronic check</td>\n",
              "      <td>73.90</td>\n",
              "      <td>280.85</td>\n",
              "    </tr>\n",
              "    <tr>\n",
              "      <th>0011-IGKFF</th>\n",
              "      <td>1.0</td>\n",
              "      <td>Male</td>\n",
              "      <td>True</td>\n",
              "      <td>Yes</td>\n",
              "      <td>No</td>\n",
              "      <td>13</td>\n",
              "      <td>Yes</td>\n",
              "      <td>No</td>\n",
              "      <td>Fiber optic</td>\n",
              "      <td>No</td>\n",
              "      <td>Yes</td>\n",
              "      <td>Yes</td>\n",
              "      <td>No</td>\n",
              "      <td>Yes</td>\n",
              "      <td>Yes</td>\n",
              "      <td>Month-to-month</td>\n",
              "      <td>Yes</td>\n",
              "      <td>Electronic check</td>\n",
              "      <td>98.00</td>\n",
              "      <td>1237.85</td>\n",
              "    </tr>\n",
              "    <tr>\n",
              "      <th>0013-EXCHZ</th>\n",
              "      <td>1.0</td>\n",
              "      <td>Female</td>\n",
              "      <td>True</td>\n",
              "      <td>Yes</td>\n",
              "      <td>No</td>\n",
              "      <td>3</td>\n",
              "      <td>Yes</td>\n",
              "      <td>No</td>\n",
              "      <td>Fiber optic</td>\n",
              "      <td>No</td>\n",
              "      <td>No</td>\n",
              "      <td>No</td>\n",
              "      <td>Yes</td>\n",
              "      <td>Yes</td>\n",
              "      <td>No</td>\n",
              "      <td>Month-to-month</td>\n",
              "      <td>Yes</td>\n",
              "      <td>Mailed check</td>\n",
              "      <td>83.90</td>\n",
              "      <td>267.40</td>\n",
              "    </tr>\n",
              "    <tr>\n",
              "      <th>...</th>\n",
              "      <td>...</td>\n",
              "      <td>...</td>\n",
              "      <td>...</td>\n",
              "      <td>...</td>\n",
              "      <td>...</td>\n",
              "      <td>...</td>\n",
              "      <td>...</td>\n",
              "      <td>...</td>\n",
              "      <td>...</td>\n",
              "      <td>...</td>\n",
              "      <td>...</td>\n",
              "      <td>...</td>\n",
              "      <td>...</td>\n",
              "      <td>...</td>\n",
              "      <td>...</td>\n",
              "      <td>...</td>\n",
              "      <td>...</td>\n",
              "      <td>...</td>\n",
              "      <td>...</td>\n",
              "      <td>...</td>\n",
              "    </tr>\n",
              "    <tr>\n",
              "      <th>9987-LUTYD</th>\n",
              "      <td>0.0</td>\n",
              "      <td>Female</td>\n",
              "      <td>False</td>\n",
              "      <td>No</td>\n",
              "      <td>No</td>\n",
              "      <td>13</td>\n",
              "      <td>Yes</td>\n",
              "      <td>No</td>\n",
              "      <td>DSL</td>\n",
              "      <td>Yes</td>\n",
              "      <td>No</td>\n",
              "      <td>No</td>\n",
              "      <td>Yes</td>\n",
              "      <td>No</td>\n",
              "      <td>No</td>\n",
              "      <td>One year</td>\n",
              "      <td>No</td>\n",
              "      <td>Mailed check</td>\n",
              "      <td>55.15</td>\n",
              "      <td>742.90</td>\n",
              "    </tr>\n",
              "    <tr>\n",
              "      <th>9992-RRAMN</th>\n",
              "      <td>1.0</td>\n",
              "      <td>Male</td>\n",
              "      <td>False</td>\n",
              "      <td>Yes</td>\n",
              "      <td>No</td>\n",
              "      <td>22</td>\n",
              "      <td>Yes</td>\n",
              "      <td>Yes</td>\n",
              "      <td>Fiber optic</td>\n",
              "      <td>No</td>\n",
              "      <td>No</td>\n",
              "      <td>No</td>\n",
              "      <td>No</td>\n",
              "      <td>No</td>\n",
              "      <td>Yes</td>\n",
              "      <td>Month-to-month</td>\n",
              "      <td>Yes</td>\n",
              "      <td>Electronic check</td>\n",
              "      <td>85.10</td>\n",
              "      <td>1873.70</td>\n",
              "    </tr>\n",
              "    <tr>\n",
              "      <th>9992-UJOEL</th>\n",
              "      <td>0.0</td>\n",
              "      <td>Male</td>\n",
              "      <td>False</td>\n",
              "      <td>No</td>\n",
              "      <td>No</td>\n",
              "      <td>2</td>\n",
              "      <td>Yes</td>\n",
              "      <td>No</td>\n",
              "      <td>DSL</td>\n",
              "      <td>No</td>\n",
              "      <td>Yes</td>\n",
              "      <td>No</td>\n",
              "      <td>No</td>\n",
              "      <td>No</td>\n",
              "      <td>No</td>\n",
              "      <td>Month-to-month</td>\n",
              "      <td>Yes</td>\n",
              "      <td>Mailed check</td>\n",
              "      <td>50.30</td>\n",
              "      <td>92.75</td>\n",
              "    </tr>\n",
              "    <tr>\n",
              "      <th>9993-LHIEB</th>\n",
              "      <td>0.0</td>\n",
              "      <td>Male</td>\n",
              "      <td>False</td>\n",
              "      <td>Yes</td>\n",
              "      <td>Yes</td>\n",
              "      <td>67</td>\n",
              "      <td>Yes</td>\n",
              "      <td>No</td>\n",
              "      <td>DSL</td>\n",
              "      <td>Yes</td>\n",
              "      <td>No</td>\n",
              "      <td>Yes</td>\n",
              "      <td>Yes</td>\n",
              "      <td>No</td>\n",
              "      <td>Yes</td>\n",
              "      <td>Two year</td>\n",
              "      <td>No</td>\n",
              "      <td>Mailed check</td>\n",
              "      <td>67.85</td>\n",
              "      <td>4627.65</td>\n",
              "    </tr>\n",
              "    <tr>\n",
              "      <th>9995-HOTOH</th>\n",
              "      <td>0.0</td>\n",
              "      <td>Male</td>\n",
              "      <td>False</td>\n",
              "      <td>Yes</td>\n",
              "      <td>Yes</td>\n",
              "      <td>63</td>\n",
              "      <td>No</td>\n",
              "      <td>No phone service</td>\n",
              "      <td>DSL</td>\n",
              "      <td>Yes</td>\n",
              "      <td>Yes</td>\n",
              "      <td>Yes</td>\n",
              "      <td>No</td>\n",
              "      <td>Yes</td>\n",
              "      <td>Yes</td>\n",
              "      <td>Two year</td>\n",
              "      <td>No</td>\n",
              "      <td>Electronic check</td>\n",
              "      <td>59.00</td>\n",
              "      <td>3707.60</td>\n",
              "    </tr>\n",
              "  </tbody>\n",
              "</table>\n",
              "<p>7267 rows × 20 columns</p>\n",
              "</div>"
            ],
            "text/plain": [
              "            Churn  gender  SeniorCitizen Partner Dependents  tenure  \\\n",
              "customerID                                                            \n",
              "0002-ORFBO    0.0  Female          False     Yes        Yes       9   \n",
              "0003-MKNFE    0.0    Male          False      No         No       9   \n",
              "0004-TLHLJ    1.0    Male          False      No         No       4   \n",
              "0011-IGKFF    1.0    Male           True     Yes         No      13   \n",
              "0013-EXCHZ    1.0  Female           True     Yes         No       3   \n",
              "...           ...     ...            ...     ...        ...     ...   \n",
              "9987-LUTYD    0.0  Female          False      No         No      13   \n",
              "9992-RRAMN    1.0    Male          False     Yes         No      22   \n",
              "9992-UJOEL    0.0    Male          False      No         No       2   \n",
              "9993-LHIEB    0.0    Male          False     Yes        Yes      67   \n",
              "9995-HOTOH    0.0    Male          False     Yes        Yes      63   \n",
              "\n",
              "           PhoneService     MultipleLines InternetService OnlineSecurity  \\\n",
              "customerID                                                                 \n",
              "0002-ORFBO          Yes                No             DSL             No   \n",
              "0003-MKNFE          Yes               Yes             DSL             No   \n",
              "0004-TLHLJ          Yes                No     Fiber optic             No   \n",
              "0011-IGKFF          Yes                No     Fiber optic             No   \n",
              "0013-EXCHZ          Yes                No     Fiber optic             No   \n",
              "...                 ...               ...             ...            ...   \n",
              "9987-LUTYD          Yes                No             DSL            Yes   \n",
              "9992-RRAMN          Yes               Yes     Fiber optic             No   \n",
              "9992-UJOEL          Yes                No             DSL             No   \n",
              "9993-LHIEB          Yes                No             DSL            Yes   \n",
              "9995-HOTOH           No  No phone service             DSL            Yes   \n",
              "\n",
              "           OnlineBackup DeviceProtection TechSupport StreamingTV  \\\n",
              "customerID                                                         \n",
              "0002-ORFBO          Yes               No         Yes         Yes   \n",
              "0003-MKNFE           No               No          No          No   \n",
              "0004-TLHLJ           No              Yes          No          No   \n",
              "0011-IGKFF          Yes              Yes          No         Yes   \n",
              "0013-EXCHZ           No               No         Yes         Yes   \n",
              "...                 ...              ...         ...         ...   \n",
              "9987-LUTYD           No               No         Yes          No   \n",
              "9992-RRAMN           No               No          No          No   \n",
              "9992-UJOEL          Yes               No          No          No   \n",
              "9993-LHIEB           No              Yes         Yes          No   \n",
              "9995-HOTOH          Yes              Yes          No         Yes   \n",
              "\n",
              "           StreamingMovies        Contract PaperlessBilling     PaymentMethod  \\\n",
              "customerID                                                                      \n",
              "0002-ORFBO              No        One year              Yes      Mailed check   \n",
              "0003-MKNFE             Yes  Month-to-month               No      Mailed check   \n",
              "0004-TLHLJ              No  Month-to-month              Yes  Electronic check   \n",
              "0011-IGKFF             Yes  Month-to-month              Yes  Electronic check   \n",
              "0013-EXCHZ              No  Month-to-month              Yes      Mailed check   \n",
              "...                    ...             ...              ...               ...   \n",
              "9987-LUTYD              No        One year               No      Mailed check   \n",
              "9992-RRAMN             Yes  Month-to-month              Yes  Electronic check   \n",
              "9992-UJOEL              No  Month-to-month              Yes      Mailed check   \n",
              "9993-LHIEB             Yes        Two year               No      Mailed check   \n",
              "9995-HOTOH             Yes        Two year               No  Electronic check   \n",
              "\n",
              "            Charges.Monthly  Charges.Total  \n",
              "customerID                                  \n",
              "0002-ORFBO            65.60         593.30  \n",
              "0003-MKNFE            59.90         542.40  \n",
              "0004-TLHLJ            73.90         280.85  \n",
              "0011-IGKFF            98.00        1237.85  \n",
              "0013-EXCHZ            83.90         267.40  \n",
              "...                     ...            ...  \n",
              "9987-LUTYD            55.15         742.90  \n",
              "9992-RRAMN            85.10        1873.70  \n",
              "9992-UJOEL            50.30          92.75  \n",
              "9993-LHIEB            67.85        4627.65  \n",
              "9995-HOTOH            59.00        3707.60  \n",
              "\n",
              "[7267 rows x 20 columns]"
            ]
          },
          "execution_count": 73,
          "metadata": {},
          "output_type": "execute_result"
        }
      ],
      "source": [
        "df_telecomX = pd.read_csv('telecomX_concatenado.csv')\n",
        "df_telecomX = df_telecomX.set_index('customerID')\n",
        "df_telecomX"
      ]
    },
    {
      "cell_type": "code",
      "execution_count": 90,
      "metadata": {},
      "outputs": [
        {
          "data": {
            "application/vnd.microsoft.datawrangler.viewer.v0+json": {
              "columns": [
                {
                  "name": "Churn",
                  "rawType": "float64",
                  "type": "float"
                },
                {
                  "name": "count",
                  "rawType": "int64",
                  "type": "integer"
                }
              ],
              "ref": "69863a73-5bf2-44af-bc5a-e6e584a64d65",
              "rows": [
                [
                  "0.0",
                  "5174"
                ],
                [
                  "1.0",
                  "1869"
                ]
              ],
              "shape": {
                "columns": 1,
                "rows": 2
              }
            },
            "text/plain": [
              "Churn\n",
              "0.0    5174\n",
              "1.0    1869\n",
              "Name: count, dtype: int64"
            ]
          },
          "execution_count": 90,
          "metadata": {},
          "output_type": "execute_result"
        }
      ],
      "source": [
        "# Faz a contagem de Churn, onde 'Yes'= 1 e 'No' = 0\n",
        "df_telecomX['Churn'].value_counts()"
      ]
    },
    {
      "cell_type": "code",
      "execution_count": null,
      "metadata": {},
      "outputs": [
        {
          "data": {
            "application/vnd.microsoft.datawrangler.viewer.v0+json": {
              "columns": [
                {
                  "name": "('gender', 'Churn')",
                  "rawType": "object",
                  "type": "unknown"
                },
                {
                  "name": "count",
                  "rawType": "int64",
                  "type": "integer"
                }
              ],
              "ref": "01497a40-57fc-4e65-8433-43f995b3c81b",
              "rows": [
                [
                  "('Female', np.float64(0.0))",
                  "2549"
                ],
                [
                  "('Female', np.float64(1.0))",
                  "939"
                ],
                [
                  "('Male', np.float64(0.0))",
                  "2625"
                ],
                [
                  "('Male', np.float64(1.0))",
                  "930"
                ]
              ],
              "shape": {
                "columns": 1,
                "rows": 4
              }
            },
            "text/plain": [
              "gender  Churn\n",
              "Female  0.0      2549\n",
              "        1.0       939\n",
              "Male    0.0      2625\n",
              "        1.0       930\n",
              "Name: count, dtype: int64"
            ]
          },
          "execution_count": 93,
          "metadata": {},
          "output_type": "execute_result"
        }
      ],
      "source": [
        "# Faz a contagem de Churn por sexo, onde 'Yes'= 1 e 'No' = 0\n",
        "churn_genero = df_telecomX.groupby('gender')['Churn'].value_counts()\n",
        "churn_genero"
      ]
    },
    {
      "cell_type": "code",
      "execution_count": 98,
      "metadata": {},
      "outputs": [
        {
          "data": {
            "application/vnd.microsoft.datawrangler.viewer.v0+json": {
              "columns": [
                {
                  "name": "('SeniorCitizen', 'Churn')",
                  "rawType": "object",
                  "type": "unknown"
                },
                {
                  "name": "count",
                  "rawType": "int64",
                  "type": "integer"
                }
              ],
              "ref": "586134a5-68e7-420a-88ec-899ee4ff2582",
              "rows": [
                [
                  "(np.False_, np.float64(0.0))",
                  "4508"
                ],
                [
                  "(np.False_, np.float64(1.0))",
                  "1393"
                ],
                [
                  "(np.True_, np.float64(0.0))",
                  "666"
                ],
                [
                  "(np.True_, np.float64(1.0))",
                  "476"
                ]
              ],
              "shape": {
                "columns": 1,
                "rows": 4
              }
            },
            "text/plain": [
              "SeniorCitizen  Churn\n",
              "False          0.0      4508\n",
              "               1.0      1393\n",
              "True           0.0       666\n",
              "               1.0       476\n",
              "Name: count, dtype: int64"
            ]
          },
          "execution_count": 98,
          "metadata": {},
          "output_type": "execute_result"
        }
      ],
      "source": [
        "# Faz a contagem de Churn por senioridade, onde 'True'= 1 e 'False' = 0\n",
        "churn_idoso = df_telecomX.groupby('SeniorCitizen')['Churn'].value_counts()\n",
        "churn_idoso"
      ]
    },
    {
      "cell_type": "code",
      "execution_count": 99,
      "metadata": {},
      "outputs": [
        {
          "data": {
            "application/vnd.microsoft.datawrangler.viewer.v0+json": {
              "columns": [
                {
                  "name": "('Partner', 'Churn')",
                  "rawType": "object",
                  "type": "unknown"
                },
                {
                  "name": "count",
                  "rawType": "int64",
                  "type": "integer"
                }
              ],
              "ref": "32aadee6-8ddf-42a4-bedc-b85d89ad9490",
              "rows": [
                [
                  "('No', np.float64(0.0))",
                  "2441"
                ],
                [
                  "('No', np.float64(1.0))",
                  "1200"
                ],
                [
                  "('Yes', np.float64(0.0))",
                  "2733"
                ],
                [
                  "('Yes', np.float64(1.0))",
                  "669"
                ]
              ],
              "shape": {
                "columns": 1,
                "rows": 4
              }
            },
            "text/plain": [
              "Partner  Churn\n",
              "No       0.0      2441\n",
              "         1.0      1200\n",
              "Yes      0.0      2733\n",
              "         1.0       669\n",
              "Name: count, dtype: int64"
            ]
          },
          "execution_count": 99,
          "metadata": {},
          "output_type": "execute_result"
        }
      ],
      "source": [
        "# Faz a contagem de Churn por estado civil (parceiro), onde 'Yes'= 1 e 'No' = 0\n",
        "churn_parceiro = df_telecomX.groupby('Partner')['Churn'].value_counts()\n",
        "churn_parceiro"
      ]
    },
    {
      "cell_type": "code",
      "execution_count": null,
      "metadata": {},
      "outputs": [
        {
          "data": {
            "application/vnd.microsoft.datawrangler.viewer.v0+json": {
              "columns": [
                {
                  "name": "('Dependents', 'Churn')",
                  "rawType": "object",
                  "type": "unknown"
                },
                {
                  "name": "count",
                  "rawType": "int64",
                  "type": "integer"
                }
              ],
              "ref": "2520b66f-d42c-4f99-86c8-ec35135b986e",
              "rows": [
                [
                  "('No', np.float64(0.0))",
                  "3390"
                ],
                [
                  "('No', np.float64(1.0))",
                  "1543"
                ],
                [
                  "('Yes', np.float64(0.0))",
                  "1784"
                ],
                [
                  "('Yes', np.float64(1.0))",
                  "326"
                ]
              ],
              "shape": {
                "columns": 1,
                "rows": 4
              }
            },
            "text/plain": [
              "Dependents  Churn\n",
              "No          0.0      3390\n",
              "            1.0      1543\n",
              "Yes         0.0      1784\n",
              "            1.0       326\n",
              "Name: count, dtype: int64"
            ]
          },
          "execution_count": 101,
          "metadata": {},
          "output_type": "execute_result"
        }
      ],
      "source": [
        "# Faz a contagem de Churn se possui ou não dependentes, onde 'Yes'= 1 e 'No' = 0\n",
        "churn_dependentes = df_telecomX.groupby('Dependents')['Churn'].value_counts()\n",
        "churn_dependentes"
      ]
    },
    {
      "cell_type": "code",
      "execution_count": 102,
      "metadata": {},
      "outputs": [
        {
          "data": {
            "application/vnd.microsoft.datawrangler.viewer.v0+json": {
              "columns": [
                {
                  "name": "('tenure', 'Churn')",
                  "rawType": "object",
                  "type": "unknown"
                },
                {
                  "name": "count",
                  "rawType": "int64",
                  "type": "integer"
                }
              ],
              "ref": "e046b4dd-d908-4ee0-bd82-69de453ef142",
              "rows": [
                [
                  "(np.int64(0), np.float64(0.0))",
                  "11"
                ],
                [
                  "(np.int64(1), np.float64(1.0))",
                  "380"
                ],
                [
                  "(np.int64(1), np.float64(0.0))",
                  "233"
                ],
                [
                  "(np.int64(2), np.float64(1.0))",
                  "123"
                ],
                [
                  "(np.int64(2), np.float64(0.0))",
                  "115"
                ],
                [
                  "(np.int64(3), np.float64(0.0))",
                  "106"
                ],
                [
                  "(np.int64(3), np.float64(1.0))",
                  "94"
                ],
                [
                  "(np.int64(4), np.float64(0.0))",
                  "93"
                ],
                [
                  "(np.int64(4), np.float64(1.0))",
                  "83"
                ],
                [
                  "(np.int64(5), np.float64(0.0))",
                  "69"
                ],
                [
                  "(np.int64(5), np.float64(1.0))",
                  "64"
                ],
                [
                  "(np.int64(6), np.float64(0.0))",
                  "70"
                ],
                [
                  "(np.int64(6), np.float64(1.0))",
                  "40"
                ],
                [
                  "(np.int64(7), np.float64(0.0))",
                  "80"
                ],
                [
                  "(np.int64(7), np.float64(1.0))",
                  "51"
                ],
                [
                  "(np.int64(8), np.float64(0.0))",
                  "81"
                ],
                [
                  "(np.int64(8), np.float64(1.0))",
                  "42"
                ],
                [
                  "(np.int64(9), np.float64(0.0))",
                  "73"
                ],
                [
                  "(np.int64(9), np.float64(1.0))",
                  "46"
                ],
                [
                  "(np.int64(10), np.float64(0.0))",
                  "71"
                ],
                [
                  "(np.int64(10), np.float64(1.0))",
                  "45"
                ],
                [
                  "(np.int64(11), np.float64(0.0))",
                  "68"
                ],
                [
                  "(np.int64(11), np.float64(1.0))",
                  "31"
                ],
                [
                  "(np.int64(12), np.float64(0.0))",
                  "79"
                ],
                [
                  "(np.int64(12), np.float64(1.0))",
                  "38"
                ],
                [
                  "(np.int64(13), np.float64(0.0))",
                  "71"
                ],
                [
                  "(np.int64(13), np.float64(1.0))",
                  "38"
                ],
                [
                  "(np.int64(14), np.float64(0.0))",
                  "52"
                ],
                [
                  "(np.int64(14), np.float64(1.0))",
                  "24"
                ],
                [
                  "(np.int64(15), np.float64(0.0))",
                  "62"
                ],
                [
                  "(np.int64(15), np.float64(1.0))",
                  "37"
                ],
                [
                  "(np.int64(16), np.float64(0.0))",
                  "52"
                ],
                [
                  "(np.int64(16), np.float64(1.0))",
                  "28"
                ],
                [
                  "(np.int64(17), np.float64(0.0))",
                  "61"
                ],
                [
                  "(np.int64(17), np.float64(1.0))",
                  "26"
                ],
                [
                  "(np.int64(18), np.float64(0.0))",
                  "73"
                ],
                [
                  "(np.int64(18), np.float64(1.0))",
                  "24"
                ],
                [
                  "(np.int64(19), np.float64(0.0))",
                  "54"
                ],
                [
                  "(np.int64(19), np.float64(1.0))",
                  "19"
                ],
                [
                  "(np.int64(20), np.float64(0.0))",
                  "53"
                ],
                [
                  "(np.int64(20), np.float64(1.0))",
                  "18"
                ],
                [
                  "(np.int64(21), np.float64(0.0))",
                  "46"
                ],
                [
                  "(np.int64(21), np.float64(1.0))",
                  "17"
                ],
                [
                  "(np.int64(22), np.float64(0.0))",
                  "63"
                ],
                [
                  "(np.int64(22), np.float64(1.0))",
                  "27"
                ],
                [
                  "(np.int64(23), np.float64(0.0))",
                  "72"
                ],
                [
                  "(np.int64(23), np.float64(1.0))",
                  "13"
                ],
                [
                  "(np.int64(24), np.float64(0.0))",
                  "71"
                ],
                [
                  "(np.int64(24), np.float64(1.0))",
                  "23"
                ],
                [
                  "(np.int64(25), np.float64(0.0))",
                  "56"
                ]
              ],
              "shape": {
                "columns": 1,
                "rows": 145
              }
            },
            "text/plain": [
              "tenure  Churn\n",
              "0       0.0       11\n",
              "1       1.0      380\n",
              "        0.0      233\n",
              "2       1.0      123\n",
              "        0.0      115\n",
              "                ... \n",
              "70      1.0       11\n",
              "71      0.0      164\n",
              "        1.0        6\n",
              "72      0.0      356\n",
              "        1.0        6\n",
              "Name: count, Length: 145, dtype: int64"
            ]
          },
          "execution_count": 102,
          "metadata": {},
          "output_type": "execute_result"
        }
      ],
      "source": [
        "# Faz a contagem de Churn pela quantidade de meses de contrato\n",
        "churn_meses_contrato = df_telecomX.groupby('tenure')['Churn'].value_counts()\n",
        "churn_meses_contrato"
      ]
    },
    {
      "cell_type": "code",
      "execution_count": 103,
      "metadata": {},
      "outputs": [
        {
          "data": {
            "application/vnd.microsoft.datawrangler.viewer.v0+json": {
              "columns": [
                {
                  "name": "('Contract', 'Churn')",
                  "rawType": "object",
                  "type": "unknown"
                },
                {
                  "name": "count",
                  "rawType": "int64",
                  "type": "integer"
                }
              ],
              "ref": "ee1b0e74-b608-46e8-bf66-56fc63a19fbb",
              "rows": [
                [
                  "('Month-to-month', np.float64(0.0))",
                  "2220"
                ],
                [
                  "('Month-to-month', np.float64(1.0))",
                  "1655"
                ],
                [
                  "('One year', np.float64(0.0))",
                  "1307"
                ],
                [
                  "('One year', np.float64(1.0))",
                  "166"
                ],
                [
                  "('Two year', np.float64(0.0))",
                  "1647"
                ],
                [
                  "('Two year', np.float64(1.0))",
                  "48"
                ]
              ],
              "shape": {
                "columns": 1,
                "rows": 6
              }
            },
            "text/plain": [
              "Contract        Churn\n",
              "Month-to-month  0.0      2220\n",
              "                1.0      1655\n",
              "One year        0.0      1307\n",
              "                1.0       166\n",
              "Two year        0.0      1647\n",
              "                1.0        48\n",
              "Name: count, dtype: int64"
            ]
          },
          "execution_count": 103,
          "metadata": {},
          "output_type": "execute_result"
        }
      ],
      "source": [
        "# Faz a contagem de Churn pelo tipo de contrato (mensal, anual, bianual)\n",
        "churn_tipo_contrato = df_telecomX.groupby('Contract')['Churn'].value_counts()\n",
        "churn_tipo_contrato"
      ]
    },
    {
      "cell_type": "code",
      "execution_count": 104,
      "metadata": {},
      "outputs": [
        {
          "data": {
            "application/vnd.microsoft.datawrangler.viewer.v0+json": {
              "columns": [
                {
                  "name": "('PaymentMethod', 'Churn')",
                  "rawType": "object",
                  "type": "unknown"
                },
                {
                  "name": "count",
                  "rawType": "int64",
                  "type": "integer"
                }
              ],
              "ref": "a9d98669-c226-4f07-b476-58f09eb75c74",
              "rows": [
                [
                  "('Bank transfer (automatic)', np.float64(0.0))",
                  "1286"
                ],
                [
                  "('Bank transfer (automatic)', np.float64(1.0))",
                  "258"
                ],
                [
                  "('Credit card (automatic)', np.float64(0.0))",
                  "1290"
                ],
                [
                  "('Credit card (automatic)', np.float64(1.0))",
                  "232"
                ],
                [
                  "('Electronic check', np.float64(0.0))",
                  "1294"
                ],
                [
                  "('Electronic check', np.float64(1.0))",
                  "1071"
                ],
                [
                  "('Mailed check', np.float64(0.0))",
                  "1304"
                ],
                [
                  "('Mailed check', np.float64(1.0))",
                  "308"
                ]
              ],
              "shape": {
                "columns": 1,
                "rows": 8
              }
            },
            "text/plain": [
              "PaymentMethod              Churn\n",
              "Bank transfer (automatic)  0.0      1286\n",
              "                           1.0       258\n",
              "Credit card (automatic)    0.0      1290\n",
              "                           1.0       232\n",
              "Electronic check           0.0      1294\n",
              "                           1.0      1071\n",
              "Mailed check               0.0      1304\n",
              "                           1.0       308\n",
              "Name: count, dtype: int64"
            ]
          },
          "execution_count": 104,
          "metadata": {},
          "output_type": "execute_result"
        }
      ],
      "source": [
        "# Faz a contagem de Churn pela forma de pagamento (cheque eletrônico, cartão de crédito, cheque enviado pelo correio e transferência bancária)\n",
        "churn_forma_pagamento = df_telecomX.groupby('PaymentMethod')['Churn'].value_counts()\n",
        "churn_forma_pagamento"
      ]
    },
    {
      "cell_type": "code",
      "execution_count": 124,
      "metadata": {},
      "outputs": [
        {
          "data": {
            "application/vnd.microsoft.datawrangler.viewer.v0+json": {
              "columns": [
                {
                  "name": "Charges.Monthly",
                  "rawType": "float64",
                  "type": "float"
                },
                {
                  "name": "Churn",
                  "rawType": "float64",
                  "type": "float"
                }
              ],
              "ref": "59a76eef-2be8-4b55-92ef-d72dee66035a",
              "rows": [
                [
                  "18.25",
                  "0.0"
                ],
                [
                  "18.4",
                  "0.0"
                ],
                [
                  "18.55",
                  "0.0"
                ],
                [
                  "18.7",
                  "0.0"
                ],
                [
                  "18.75",
                  "0.0"
                ],
                [
                  "18.8",
                  "0.0"
                ],
                [
                  "18.85",
                  "1.0"
                ],
                [
                  "18.9",
                  "0.0"
                ],
                [
                  "18.95",
                  "1.0"
                ],
                [
                  "19.0",
                  "1.0"
                ],
                [
                  "19.05",
                  "0.0"
                ],
                [
                  "19.1",
                  "1.0"
                ],
                [
                  "19.15",
                  "0.0"
                ],
                [
                  "19.2",
                  "0.0"
                ],
                [
                  "19.25",
                  "3.0"
                ],
                [
                  "19.3",
                  "3.0"
                ],
                [
                  "19.35",
                  "2.0"
                ],
                [
                  "19.4",
                  "4.0"
                ],
                [
                  "19.45",
                  "3.0"
                ],
                [
                  "19.5",
                  "3.0"
                ],
                [
                  "19.55",
                  "2.0"
                ],
                [
                  "19.6",
                  "4.0"
                ],
                [
                  "19.65",
                  "4.0"
                ],
                [
                  "19.7",
                  "2.0"
                ],
                [
                  "19.75",
                  "6.0"
                ],
                [
                  "19.8",
                  "3.0"
                ],
                [
                  "19.85",
                  "5.0"
                ],
                [
                  "19.9",
                  "4.0"
                ],
                [
                  "19.95",
                  "3.0"
                ],
                [
                  "20.0",
                  "3.0"
                ],
                [
                  "20.05",
                  "3.0"
                ],
                [
                  "20.1",
                  "4.0"
                ],
                [
                  "20.15",
                  "6.0"
                ],
                [
                  "20.2",
                  "6.0"
                ],
                [
                  "20.25",
                  "4.0"
                ],
                [
                  "20.3",
                  "1.0"
                ],
                [
                  "20.35",
                  "3.0"
                ],
                [
                  "20.4",
                  "2.0"
                ],
                [
                  "20.45",
                  "0.0"
                ],
                [
                  "20.5",
                  "3.0"
                ],
                [
                  "20.55",
                  "3.0"
                ],
                [
                  "20.6",
                  "1.0"
                ],
                [
                  "20.65",
                  "1.0"
                ],
                [
                  "20.7",
                  "0.0"
                ],
                [
                  "20.75",
                  "0.0"
                ],
                [
                  "20.8",
                  "1.0"
                ],
                [
                  "20.85",
                  "1.0"
                ],
                [
                  "20.9",
                  "2.0"
                ],
                [
                  "20.95",
                  "2.0"
                ],
                [
                  "21.0",
                  "1.0"
                ]
              ],
              "shape": {
                "columns": 1,
                "rows": 1585
              }
            },
            "text/plain": [
              "Charges.Monthly\n",
              "18.25     0.0\n",
              "18.40     0.0\n",
              "18.55     0.0\n",
              "18.70     0.0\n",
              "18.75     0.0\n",
              "         ... \n",
              "118.20    0.0\n",
              "118.35    1.0\n",
              "118.60    0.0\n",
              "118.65    0.0\n",
              "118.75    0.0\n",
              "Name: Churn, Length: 1585, dtype: float64"
            ]
          },
          "execution_count": 124,
          "metadata": {},
          "output_type": "execute_result"
        }
      ],
      "source": [
        "# 1. Agrupe por 'Charges.Monthly' e some o 'Churn'\n",
        "churn_gasto_mensal = df_telecomX.groupby('Charges.Monthly')['Churn'].sum()\n",
        "churn_gasto_mensal"
      ]
    },
    {
      "cell_type": "code",
      "execution_count": null,
      "metadata": {},
      "outputs": [
        {
          "data": {
            "application/vnd.microsoft.datawrangler.viewer.v0+json": {
              "columns": [
                {
                  "name": "Charges.Monthly_Faixa",
                  "rawType": "category",
                  "type": "unknown"
                },
                {
                  "name": "0",
                  "rawType": "int64",
                  "type": "integer"
                }
              ],
              "ref": "b6671058-616e-4659-a1f4-c4cd99764ae8",
              "rows": [
                [
                  "10.00-20.00",
                  "681"
                ],
                [
                  "20.00-30.00",
                  "1032"
                ],
                [
                  "30.00-40.00",
                  "189"
                ],
                [
                  "40.00-50.00",
                  "478"
                ],
                [
                  "50.00-60.00",
                  "638"
                ],
                [
                  "60.00-70.00",
                  "561"
                ],
                [
                  "70.00-80.00",
                  "938"
                ],
                [
                  "80.00-90.00",
                  "952"
                ],
                [
                  "90.00-100.00",
                  "861"
                ],
                [
                  "100.00-110.00",
                  "715"
                ],
                [
                  "110.00-120.00",
                  "222"
                ]
              ],
              "shape": {
                "columns": 1,
                "rows": 11
              }
            },
            "text/plain": [
              "Charges.Monthly_Faixa\n",
              "10.00-20.00       681\n",
              "20.00-30.00      1032\n",
              "30.00-40.00       189\n",
              "40.00-50.00       478\n",
              "50.00-60.00       638\n",
              "60.00-70.00       561\n",
              "70.00-80.00       938\n",
              "80.00-90.00       952\n",
              "90.00-100.00      861\n",
              "100.00-110.00     715\n",
              "110.00-120.00     222\n",
              "dtype: int64"
            ]
          },
          "execution_count": 149,
          "metadata": {},
          "output_type": "execute_result"
        }
      ],
      "source": [
        "# Calcular a quantidade absoluta de clientes em cada faixa de gasto mensal\n",
        "total_clientes_por_faixa = df_telecomX.groupby('Charges.Monthly_Faixa', observed=True).size()\n",
        "total_clientes_por_faixa"
      ]
    },
    {
      "cell_type": "code",
      "execution_count": null,
      "metadata": {},
      "outputs": [
        {
          "data": {
            "application/vnd.microsoft.datawrangler.viewer.v0+json": {
              "columns": [
                {
                  "name": "Charges.Monthly_Faixa",
                  "rawType": "category",
                  "type": "unknown"
                },
                {
                  "name": "Churn",
                  "rawType": "float64",
                  "type": "float"
                }
              ],
              "ref": "32bda6fc-0d05-4cd4-b081-9741a8756b3f",
              "rows": [
                [
                  "10.00-20.00",
                  "58.0"
                ],
                [
                  "20.00-30.00",
                  "104.0"
                ],
                [
                  "30.00-40.00",
                  "52.0"
                ],
                [
                  "40.00-50.00",
                  "147.0"
                ],
                [
                  "50.00-60.00",
                  "129.0"
                ],
                [
                  "60.00-70.00",
                  "112.0"
                ],
                [
                  "70.00-80.00",
                  "361.0"
                ],
                [
                  "80.00-90.00",
                  "336.0"
                ],
                [
                  "90.00-100.00",
                  "317.0"
                ],
                [
                  "100.00-110.00",
                  "225.0"
                ],
                [
                  "110.00-120.00",
                  "28.0"
                ]
              ],
              "shape": {
                "columns": 1,
                "rows": 11
              }
            },
            "text/plain": [
              "Charges.Monthly_Faixa\n",
              "10.00-20.00       58.0\n",
              "20.00-30.00      104.0\n",
              "30.00-40.00       52.0\n",
              "40.00-50.00      147.0\n",
              "50.00-60.00      129.0\n",
              "60.00-70.00      112.0\n",
              "70.00-80.00      361.0\n",
              "80.00-90.00      336.0\n",
              "90.00-100.00     317.0\n",
              "100.00-110.00    225.0\n",
              "110.00-120.00     28.0\n",
              "Name: Churn, dtype: float64"
            ]
          },
          "execution_count": 148,
          "metadata": {},
          "output_type": "execute_result"
        }
      ],
      "source": [
        "# Calcular a quantidade de churn em cada faixa de gasto mensal\n",
        "churn_por_faixa = df_telecomX.groupby('Charges.Monthly_Faixa', observed=False)['Churn'].sum()\n",
        "churn_por_faixa\n"
      ]
    },
    {
      "cell_type": "code",
      "execution_count": null,
      "metadata": {},
      "outputs": [
        {
          "data": {
            "application/vnd.microsoft.datawrangler.viewer.v0+json": {
              "columns": [
                {
                  "name": "Charges.Monthly_Faixa",
                  "rawType": "category",
                  "type": "unknown"
                },
                {
                  "name": "0",
                  "rawType": "float64",
                  "type": "float"
                }
              ],
              "ref": "15e3c05c-ac85-4d67-aa2c-6515ad145b93",
              "rows": [
                [
                  "10.00-20.00",
                  "8.52"
                ],
                [
                  "20.00-30.00",
                  "10.08"
                ],
                [
                  "30.00-40.00",
                  "27.51"
                ],
                [
                  "40.00-50.00",
                  "30.75"
                ],
                [
                  "50.00-60.00",
                  "20.22"
                ],
                [
                  "60.00-70.00",
                  "19.96"
                ],
                [
                  "70.00-80.00",
                  "38.49"
                ],
                [
                  "80.00-90.00",
                  "35.29"
                ],
                [
                  "90.00-100.00",
                  "36.82"
                ],
                [
                  "100.00-110.00",
                  "31.47"
                ],
                [
                  "110.00-120.00",
                  "12.61"
                ]
              ],
              "shape": {
                "columns": 1,
                "rows": 11
              }
            },
            "text/plain": [
              "Charges.Monthly_Faixa\n",
              "10.00-20.00       8.52\n",
              "20.00-30.00      10.08\n",
              "30.00-40.00      27.51\n",
              "40.00-50.00      30.75\n",
              "50.00-60.00      20.22\n",
              "60.00-70.00      19.96\n",
              "70.00-80.00      38.49\n",
              "80.00-90.00      35.29\n",
              "90.00-100.00     36.82\n",
              "100.00-110.00    31.47\n",
              "110.00-120.00    12.61\n",
              "dtype: float64"
            ]
          },
          "execution_count": 147,
          "metadata": {},
          "output_type": "execute_result"
        }
      ],
      "source": [
        "# Calcular taxa de churn em cada faixa de gasto mensal\n",
        "taxa_churn_por_faixa = (churn_por_faixa / total_clientes_por_faixa) * 100\n",
        "taxa_churn_por_faixa = taxa_churn_por_faixa.replace([np.inf, -np.inf], np.nan).fillna(0) # Trata inf e NaN\n",
        "taxa_churn_por_faixa.round(2)"
      ]
    },
    {
      "cell_type": "code",
      "execution_count": null,
      "metadata": {},
      "outputs": [],
      "source": []
    },
    {
      "cell_type": "code",
      "execution_count": null,
      "metadata": {},
      "outputs": [
        {
          "data": {
            "text/plain": [
              "53"
            ]
          },
          "execution_count": 123,
          "metadata": {},
          "output_type": "execute_result"
        }
      ],
      "source": []
    },
    {
      "cell_type": "markdown",
      "metadata": {
        "id": "v-WzfSvTmaw9"
      },
      "source": [
        "#📄Relatorio Final"
      ]
    },
    {
      "cell_type": "code",
      "execution_count": null,
      "metadata": {
        "id": "XMTac0YJmeK9"
      },
      "outputs": [],
      "source": []
    }
  ],
  "metadata": {
    "colab": {
      "provenance": []
    },
    "kernelspec": {
      "display_name": "Python 3",
      "name": "python3"
    },
    "language_info": {
      "codemirror_mode": {
        "name": "ipython",
        "version": 3
      },
      "file_extension": ".py",
      "mimetype": "text/x-python",
      "name": "python",
      "nbconvert_exporter": "python",
      "pygments_lexer": "ipython3",
      "version": "3.13.3"
    }
  },
  "nbformat": 4,
  "nbformat_minor": 0
}
