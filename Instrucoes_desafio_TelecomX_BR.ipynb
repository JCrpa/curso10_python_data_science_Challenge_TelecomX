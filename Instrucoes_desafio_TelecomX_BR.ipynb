{
  "cells": [
    {
      "cell_type": "markdown",
      "metadata": {
        "id": "4foVEKhrlqcH"
      },
      "source": [
        "## Instruções do desafio Telecom X 📌"
      ]
    },
    {
      "cell_type": "markdown",
      "metadata": {},
      "source": [
        "Telecom X, análise de evasão de clientes. \n",
        "\n",
        "A Telecom X é uma empresa de telecomunicações, e você foi contratado como assistente de análise de dados para fazer parte da equipe de Data Science. A equipe está com um novo projeto denominado Churn de Clientes.\n",
        "\n",
        "A empresa vem sofrendo alto índice de evasão de clientes, porém, eles não conseguem descobrir o porquê disso estar acontecendo. E é aí que você entra como assistente de análise de dados. Você ficará responsável por uma das partes mais importantes da análise de dados. Você ficará responsável por buscar, tratar e realizar uma análise exploratoria dos dados da empresa. Ou seja, você colocará em prática todos os seus conhecimentos sobre o processo de ETL.\n",
        "\n",
        "Com os dados tratados e limpos, seus colegas mais experientes serão capazes de realizar uma análise mais profunda, e assim, criar modelos preditivos para que essa taxa de evasão diminua. Assim como nos desafios anteriores, neste também você terá um trello (quadro de tarefas) que vai te ajudar no passo a passo para estar realizando esse desafio.\n",
        "\n",
        "A parte mais importante desse desafio é a extração dos dados. Os dados da empresa estão em uma API que está armazenada dentro de um repositório no GitHub. O primeiro passo que você tem que fazer nesse desafio é descobrir a melhor maneira de fazer essa extração. Com a extração feita, você colocará em prática a parte T, ou seja, a parte de transformação. Você tem que transformar esses dados para em seguida poder analisar e gerar alguns insights dele.\n",
        "\n",
        "Como parte final, você deverá gerar um relatório explicando detalhadamente todo o processo de ETL feito. Ou seja, você tem que começar com uma introdução, falando o objetivo da sua análise, explicando o problema da evasão de clientes, descrever o processo de importar, limpar e tratar os dados, explicar a análise exploratória, incluindo gráficos e visualização para identificar padrões e, através disso tudo, criar uma conclusão. Ou seja, resuma os principais achados e como esses dados podem ajudar a reduzir a evasão.\n",
        "\n",
        "Também recomendamos que você ofereça sugestões baseadas nas análises para, assim, ajudar ainda mais a equipe de data science. Com esse desafio, você colocará em prática todo o seu conhecimento em ETL, análise exploratória, também conhecido na área de data science como EDA. Tudo isso utilizando Python e as suas bibliotecas nativas como Pandas, Seaborn, Matplotlib, entre outras."
      ]
    },
    {
      "cell_type": "markdown",
      "metadata": {},
      "source": []
    }
  ],
  "metadata": {
    "colab": {
      "provenance": []
    },
    "kernelspec": {
      "display_name": "Python 3",
      "name": "python3"
    },
    "language_info": {
      "name": "python"
    }
  },
  "nbformat": 4,
  "nbformat_minor": 0
}
